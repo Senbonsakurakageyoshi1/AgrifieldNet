{
  "cells": [
    {
      "cell_type": "markdown",
      "metadata": {
        "id": "view-in-github",
        "colab_type": "text"
      },
      "source": [
        "<a href=\"https://colab.research.google.com/github/Senbonsakurakageyoshi1/AgrifieldNet/blob/main/New_agrifield_notebook.ipynb\" target=\"_parent\"><img src=\"https://colab.research.google.com/assets/colab-badge.svg\" alt=\"Open In Colab\"/></a>"
      ]
    },
    {
      "cell_type": "code",
      "execution_count": 96,
      "id": "6be7abd0",
      "metadata": {
        "id": "6be7abd0"
      },
      "outputs": [],
      "source": [
        "import pandas as pd\n",
        "import matplotlib as plt"
      ]
    },
    {
      "cell_type": "code",
      "execution_count": 97,
      "id": "cdc9ba5e",
      "metadata": {
        "id": "cdc9ba5e"
      },
      "outputs": [],
      "source": [
        "df=pd.read_csv('./agrifield_data.csv')"
      ]
    },
    {
      "cell_type": "markdown",
      "id": "e7a9d0de",
      "metadata": {
        "id": "e7a9d0de"
      },
      "source": [
        "## Data transformation pipeline "
      ]
    },
    {
      "cell_type": "code",
      "execution_count": 98,
      "id": "873886ff",
      "metadata": {
        "id": "873886ff"
      },
      "outputs": [],
      "source": [
        "from sklearn.pipeline import Pipeline\n",
        "from sklearn.preprocessing import StandardScaler\n",
        "from sklearn.impute import SimpleImputer\n",
        "num_pipeline = Pipeline([\n",
        "('imputer', SimpleImputer(strategy=\"median\")),\n",
        "('std_scaler', StandardScaler()),\n",
        "])\n"
      ]
    },
    {
      "cell_type": "code",
      "execution_count": 99,
      "id": "f7399feb",
      "metadata": {
        "colab": {
          "base_uri": "https://localhost:8080/",
          "height": 288
        },
        "id": "f7399feb",
        "outputId": "4a2c63cb-1a90-4328-fdeb-86fcd3aa4e1b"
      },
      "outputs": [
        {
          "output_type": "execute_result",
          "data": {
            "text/plain": [
              "   Unnamed: 0  field_id        B01        B02        B03        B04  \\\n",
              "0           0         1  45.000000  42.444444  42.722222  48.000000   \n",
              "1           1         2  45.000000  42.000000  42.166667  47.666667   \n",
              "2           2         3  45.000000  42.687500  43.500000  49.187500   \n",
              "3           3         4  45.866667  42.466667  43.800000  47.733333   \n",
              "4           4         5  46.000000  43.238095  45.238095  49.285714   \n",
              "\n",
              "         B05        B06        B07        B08        B8A        B09  \\\n",
              "0  49.666667  58.000000  65.222222  60.277778  71.944444  12.000000   \n",
              "1  49.250000  59.916667  69.000000  63.916667  76.333333  12.833333   \n",
              "2  51.437500  62.875000  71.625000  66.625000  79.312500  13.000000   \n",
              "3  49.466667  59.733333  68.133333  62.600000  73.466667  11.266667   \n",
              "4  50.904762  60.904762  68.952381  63.380952  74.547619  11.333333   \n",
              "\n",
              "         B11        B12  crop_id  \n",
              "0  80.277778  61.333333        1  \n",
              "1  79.916667  56.750000        1  \n",
              "2  82.125000  58.062500        1  \n",
              "3  77.600000  55.000000        2  \n",
              "4  77.452381  55.809524        2  "
            ],
            "text/html": [
              "\n",
              "  <div id=\"df-291c6a89-e005-4669-a232-93c688d6a779\">\n",
              "    <div class=\"colab-df-container\">\n",
              "      <div>\n",
              "<style scoped>\n",
              "    .dataframe tbody tr th:only-of-type {\n",
              "        vertical-align: middle;\n",
              "    }\n",
              "\n",
              "    .dataframe tbody tr th {\n",
              "        vertical-align: top;\n",
              "    }\n",
              "\n",
              "    .dataframe thead th {\n",
              "        text-align: right;\n",
              "    }\n",
              "</style>\n",
              "<table border=\"1\" class=\"dataframe\">\n",
              "  <thead>\n",
              "    <tr style=\"text-align: right;\">\n",
              "      <th></th>\n",
              "      <th>Unnamed: 0</th>\n",
              "      <th>field_id</th>\n",
              "      <th>B01</th>\n",
              "      <th>B02</th>\n",
              "      <th>B03</th>\n",
              "      <th>B04</th>\n",
              "      <th>B05</th>\n",
              "      <th>B06</th>\n",
              "      <th>B07</th>\n",
              "      <th>B08</th>\n",
              "      <th>B8A</th>\n",
              "      <th>B09</th>\n",
              "      <th>B11</th>\n",
              "      <th>B12</th>\n",
              "      <th>crop_id</th>\n",
              "    </tr>\n",
              "  </thead>\n",
              "  <tbody>\n",
              "    <tr>\n",
              "      <th>0</th>\n",
              "      <td>0</td>\n",
              "      <td>1</td>\n",
              "      <td>45.000000</td>\n",
              "      <td>42.444444</td>\n",
              "      <td>42.722222</td>\n",
              "      <td>48.000000</td>\n",
              "      <td>49.666667</td>\n",
              "      <td>58.000000</td>\n",
              "      <td>65.222222</td>\n",
              "      <td>60.277778</td>\n",
              "      <td>71.944444</td>\n",
              "      <td>12.000000</td>\n",
              "      <td>80.277778</td>\n",
              "      <td>61.333333</td>\n",
              "      <td>1</td>\n",
              "    </tr>\n",
              "    <tr>\n",
              "      <th>1</th>\n",
              "      <td>1</td>\n",
              "      <td>2</td>\n",
              "      <td>45.000000</td>\n",
              "      <td>42.000000</td>\n",
              "      <td>42.166667</td>\n",
              "      <td>47.666667</td>\n",
              "      <td>49.250000</td>\n",
              "      <td>59.916667</td>\n",
              "      <td>69.000000</td>\n",
              "      <td>63.916667</td>\n",
              "      <td>76.333333</td>\n",
              "      <td>12.833333</td>\n",
              "      <td>79.916667</td>\n",
              "      <td>56.750000</td>\n",
              "      <td>1</td>\n",
              "    </tr>\n",
              "    <tr>\n",
              "      <th>2</th>\n",
              "      <td>2</td>\n",
              "      <td>3</td>\n",
              "      <td>45.000000</td>\n",
              "      <td>42.687500</td>\n",
              "      <td>43.500000</td>\n",
              "      <td>49.187500</td>\n",
              "      <td>51.437500</td>\n",
              "      <td>62.875000</td>\n",
              "      <td>71.625000</td>\n",
              "      <td>66.625000</td>\n",
              "      <td>79.312500</td>\n",
              "      <td>13.000000</td>\n",
              "      <td>82.125000</td>\n",
              "      <td>58.062500</td>\n",
              "      <td>1</td>\n",
              "    </tr>\n",
              "    <tr>\n",
              "      <th>3</th>\n",
              "      <td>3</td>\n",
              "      <td>4</td>\n",
              "      <td>45.866667</td>\n",
              "      <td>42.466667</td>\n",
              "      <td>43.800000</td>\n",
              "      <td>47.733333</td>\n",
              "      <td>49.466667</td>\n",
              "      <td>59.733333</td>\n",
              "      <td>68.133333</td>\n",
              "      <td>62.600000</td>\n",
              "      <td>73.466667</td>\n",
              "      <td>11.266667</td>\n",
              "      <td>77.600000</td>\n",
              "      <td>55.000000</td>\n",
              "      <td>2</td>\n",
              "    </tr>\n",
              "    <tr>\n",
              "      <th>4</th>\n",
              "      <td>4</td>\n",
              "      <td>5</td>\n",
              "      <td>46.000000</td>\n",
              "      <td>43.238095</td>\n",
              "      <td>45.238095</td>\n",
              "      <td>49.285714</td>\n",
              "      <td>50.904762</td>\n",
              "      <td>60.904762</td>\n",
              "      <td>68.952381</td>\n",
              "      <td>63.380952</td>\n",
              "      <td>74.547619</td>\n",
              "      <td>11.333333</td>\n",
              "      <td>77.452381</td>\n",
              "      <td>55.809524</td>\n",
              "      <td>2</td>\n",
              "    </tr>\n",
              "  </tbody>\n",
              "</table>\n",
              "</div>\n",
              "      <button class=\"colab-df-convert\" onclick=\"convertToInteractive('df-291c6a89-e005-4669-a232-93c688d6a779')\"\n",
              "              title=\"Convert this dataframe to an interactive table.\"\n",
              "              style=\"display:none;\">\n",
              "        \n",
              "  <svg xmlns=\"http://www.w3.org/2000/svg\" height=\"24px\"viewBox=\"0 0 24 24\"\n",
              "       width=\"24px\">\n",
              "    <path d=\"M0 0h24v24H0V0z\" fill=\"none\"/>\n",
              "    <path d=\"M18.56 5.44l.94 2.06.94-2.06 2.06-.94-2.06-.94-.94-2.06-.94 2.06-2.06.94zm-11 1L8.5 8.5l.94-2.06 2.06-.94-2.06-.94L8.5 2.5l-.94 2.06-2.06.94zm10 10l.94 2.06.94-2.06 2.06-.94-2.06-.94-.94-2.06-.94 2.06-2.06.94z\"/><path d=\"M17.41 7.96l-1.37-1.37c-.4-.4-.92-.59-1.43-.59-.52 0-1.04.2-1.43.59L10.3 9.45l-7.72 7.72c-.78.78-.78 2.05 0 2.83L4 21.41c.39.39.9.59 1.41.59.51 0 1.02-.2 1.41-.59l7.78-7.78 2.81-2.81c.8-.78.8-2.07 0-2.86zM5.41 20L4 18.59l7.72-7.72 1.47 1.35L5.41 20z\"/>\n",
              "  </svg>\n",
              "      </button>\n",
              "      \n",
              "  <style>\n",
              "    .colab-df-container {\n",
              "      display:flex;\n",
              "      flex-wrap:wrap;\n",
              "      gap: 12px;\n",
              "    }\n",
              "\n",
              "    .colab-df-convert {\n",
              "      background-color: #E8F0FE;\n",
              "      border: none;\n",
              "      border-radius: 50%;\n",
              "      cursor: pointer;\n",
              "      display: none;\n",
              "      fill: #1967D2;\n",
              "      height: 32px;\n",
              "      padding: 0 0 0 0;\n",
              "      width: 32px;\n",
              "    }\n",
              "\n",
              "    .colab-df-convert:hover {\n",
              "      background-color: #E2EBFA;\n",
              "      box-shadow: 0px 1px 2px rgba(60, 64, 67, 0.3), 0px 1px 3px 1px rgba(60, 64, 67, 0.15);\n",
              "      fill: #174EA6;\n",
              "    }\n",
              "\n",
              "    [theme=dark] .colab-df-convert {\n",
              "      background-color: #3B4455;\n",
              "      fill: #D2E3FC;\n",
              "    }\n",
              "\n",
              "    [theme=dark] .colab-df-convert:hover {\n",
              "      background-color: #434B5C;\n",
              "      box-shadow: 0px 1px 3px 1px rgba(0, 0, 0, 0.15);\n",
              "      filter: drop-shadow(0px 1px 2px rgba(0, 0, 0, 0.3));\n",
              "      fill: #FFFFFF;\n",
              "    }\n",
              "  </style>\n",
              "\n",
              "      <script>\n",
              "        const buttonEl =\n",
              "          document.querySelector('#df-291c6a89-e005-4669-a232-93c688d6a779 button.colab-df-convert');\n",
              "        buttonEl.style.display =\n",
              "          google.colab.kernel.accessAllowed ? 'block' : 'none';\n",
              "\n",
              "        async function convertToInteractive(key) {\n",
              "          const element = document.querySelector('#df-291c6a89-e005-4669-a232-93c688d6a779');\n",
              "          const dataTable =\n",
              "            await google.colab.kernel.invokeFunction('convertToInteractive',\n",
              "                                                     [key], {});\n",
              "          if (!dataTable) return;\n",
              "\n",
              "          const docLinkHtml = 'Like what you see? Visit the ' +\n",
              "            '<a target=\"_blank\" href=https://colab.research.google.com/notebooks/data_table.ipynb>data table notebook</a>'\n",
              "            + ' to learn more about interactive tables.';\n",
              "          element.innerHTML = '';\n",
              "          dataTable['output_type'] = 'display_data';\n",
              "          await google.colab.output.renderOutput(dataTable, element);\n",
              "          const docLink = document.createElement('div');\n",
              "          docLink.innerHTML = docLinkHtml;\n",
              "          element.appendChild(docLink);\n",
              "        }\n",
              "      </script>\n",
              "    </div>\n",
              "  </div>\n",
              "  "
            ]
          },
          "metadata": {},
          "execution_count": 99
        }
      ],
      "source": [
        "df.head()"
      ]
    },
    {
      "cell_type": "code",
      "execution_count": 100,
      "id": "c1f445b4",
      "metadata": {
        "id": "c1f445b4"
      },
      "outputs": [],
      "source": [
        "df=df.drop('Unnamed: 0',axis=1)"
      ]
    },
    {
      "cell_type": "code",
      "execution_count": 101,
      "id": "5ab36a9b",
      "metadata": {
        "colab": {
          "base_uri": "https://localhost:8080/",
          "height": 270
        },
        "id": "5ab36a9b",
        "outputId": "80ccd9fd-c9ea-4a8a-98c5-83103bc8b2d1"
      },
      "outputs": [
        {
          "output_type": "execute_result",
          "data": {
            "text/plain": [
              "   field_id        B01        B02        B03        B04        B05        B06  \\\n",
              "0         1  45.000000  42.444444  42.722222  48.000000  49.666667  58.000000   \n",
              "1         2  45.000000  42.000000  42.166667  47.666667  49.250000  59.916667   \n",
              "2         3  45.000000  42.687500  43.500000  49.187500  51.437500  62.875000   \n",
              "3         4  45.866667  42.466667  43.800000  47.733333  49.466667  59.733333   \n",
              "4         5  46.000000  43.238095  45.238095  49.285714  50.904762  60.904762   \n",
              "\n",
              "         B07        B08        B8A        B09        B11        B12  crop_id  \n",
              "0  65.222222  60.277778  71.944444  12.000000  80.277778  61.333333        1  \n",
              "1  69.000000  63.916667  76.333333  12.833333  79.916667  56.750000        1  \n",
              "2  71.625000  66.625000  79.312500  13.000000  82.125000  58.062500        1  \n",
              "3  68.133333  62.600000  73.466667  11.266667  77.600000  55.000000        2  \n",
              "4  68.952381  63.380952  74.547619  11.333333  77.452381  55.809524        2  "
            ],
            "text/html": [
              "\n",
              "  <div id=\"df-f098e207-59b9-4c9f-a900-cb4a7fd97aa9\">\n",
              "    <div class=\"colab-df-container\">\n",
              "      <div>\n",
              "<style scoped>\n",
              "    .dataframe tbody tr th:only-of-type {\n",
              "        vertical-align: middle;\n",
              "    }\n",
              "\n",
              "    .dataframe tbody tr th {\n",
              "        vertical-align: top;\n",
              "    }\n",
              "\n",
              "    .dataframe thead th {\n",
              "        text-align: right;\n",
              "    }\n",
              "</style>\n",
              "<table border=\"1\" class=\"dataframe\">\n",
              "  <thead>\n",
              "    <tr style=\"text-align: right;\">\n",
              "      <th></th>\n",
              "      <th>field_id</th>\n",
              "      <th>B01</th>\n",
              "      <th>B02</th>\n",
              "      <th>B03</th>\n",
              "      <th>B04</th>\n",
              "      <th>B05</th>\n",
              "      <th>B06</th>\n",
              "      <th>B07</th>\n",
              "      <th>B08</th>\n",
              "      <th>B8A</th>\n",
              "      <th>B09</th>\n",
              "      <th>B11</th>\n",
              "      <th>B12</th>\n",
              "      <th>crop_id</th>\n",
              "    </tr>\n",
              "  </thead>\n",
              "  <tbody>\n",
              "    <tr>\n",
              "      <th>0</th>\n",
              "      <td>1</td>\n",
              "      <td>45.000000</td>\n",
              "      <td>42.444444</td>\n",
              "      <td>42.722222</td>\n",
              "      <td>48.000000</td>\n",
              "      <td>49.666667</td>\n",
              "      <td>58.000000</td>\n",
              "      <td>65.222222</td>\n",
              "      <td>60.277778</td>\n",
              "      <td>71.944444</td>\n",
              "      <td>12.000000</td>\n",
              "      <td>80.277778</td>\n",
              "      <td>61.333333</td>\n",
              "      <td>1</td>\n",
              "    </tr>\n",
              "    <tr>\n",
              "      <th>1</th>\n",
              "      <td>2</td>\n",
              "      <td>45.000000</td>\n",
              "      <td>42.000000</td>\n",
              "      <td>42.166667</td>\n",
              "      <td>47.666667</td>\n",
              "      <td>49.250000</td>\n",
              "      <td>59.916667</td>\n",
              "      <td>69.000000</td>\n",
              "      <td>63.916667</td>\n",
              "      <td>76.333333</td>\n",
              "      <td>12.833333</td>\n",
              "      <td>79.916667</td>\n",
              "      <td>56.750000</td>\n",
              "      <td>1</td>\n",
              "    </tr>\n",
              "    <tr>\n",
              "      <th>2</th>\n",
              "      <td>3</td>\n",
              "      <td>45.000000</td>\n",
              "      <td>42.687500</td>\n",
              "      <td>43.500000</td>\n",
              "      <td>49.187500</td>\n",
              "      <td>51.437500</td>\n",
              "      <td>62.875000</td>\n",
              "      <td>71.625000</td>\n",
              "      <td>66.625000</td>\n",
              "      <td>79.312500</td>\n",
              "      <td>13.000000</td>\n",
              "      <td>82.125000</td>\n",
              "      <td>58.062500</td>\n",
              "      <td>1</td>\n",
              "    </tr>\n",
              "    <tr>\n",
              "      <th>3</th>\n",
              "      <td>4</td>\n",
              "      <td>45.866667</td>\n",
              "      <td>42.466667</td>\n",
              "      <td>43.800000</td>\n",
              "      <td>47.733333</td>\n",
              "      <td>49.466667</td>\n",
              "      <td>59.733333</td>\n",
              "      <td>68.133333</td>\n",
              "      <td>62.600000</td>\n",
              "      <td>73.466667</td>\n",
              "      <td>11.266667</td>\n",
              "      <td>77.600000</td>\n",
              "      <td>55.000000</td>\n",
              "      <td>2</td>\n",
              "    </tr>\n",
              "    <tr>\n",
              "      <th>4</th>\n",
              "      <td>5</td>\n",
              "      <td>46.000000</td>\n",
              "      <td>43.238095</td>\n",
              "      <td>45.238095</td>\n",
              "      <td>49.285714</td>\n",
              "      <td>50.904762</td>\n",
              "      <td>60.904762</td>\n",
              "      <td>68.952381</td>\n",
              "      <td>63.380952</td>\n",
              "      <td>74.547619</td>\n",
              "      <td>11.333333</td>\n",
              "      <td>77.452381</td>\n",
              "      <td>55.809524</td>\n",
              "      <td>2</td>\n",
              "    </tr>\n",
              "  </tbody>\n",
              "</table>\n",
              "</div>\n",
              "      <button class=\"colab-df-convert\" onclick=\"convertToInteractive('df-f098e207-59b9-4c9f-a900-cb4a7fd97aa9')\"\n",
              "              title=\"Convert this dataframe to an interactive table.\"\n",
              "              style=\"display:none;\">\n",
              "        \n",
              "  <svg xmlns=\"http://www.w3.org/2000/svg\" height=\"24px\"viewBox=\"0 0 24 24\"\n",
              "       width=\"24px\">\n",
              "    <path d=\"M0 0h24v24H0V0z\" fill=\"none\"/>\n",
              "    <path d=\"M18.56 5.44l.94 2.06.94-2.06 2.06-.94-2.06-.94-.94-2.06-.94 2.06-2.06.94zm-11 1L8.5 8.5l.94-2.06 2.06-.94-2.06-.94L8.5 2.5l-.94 2.06-2.06.94zm10 10l.94 2.06.94-2.06 2.06-.94-2.06-.94-.94-2.06-.94 2.06-2.06.94z\"/><path d=\"M17.41 7.96l-1.37-1.37c-.4-.4-.92-.59-1.43-.59-.52 0-1.04.2-1.43.59L10.3 9.45l-7.72 7.72c-.78.78-.78 2.05 0 2.83L4 21.41c.39.39.9.59 1.41.59.51 0 1.02-.2 1.41-.59l7.78-7.78 2.81-2.81c.8-.78.8-2.07 0-2.86zM5.41 20L4 18.59l7.72-7.72 1.47 1.35L5.41 20z\"/>\n",
              "  </svg>\n",
              "      </button>\n",
              "      \n",
              "  <style>\n",
              "    .colab-df-container {\n",
              "      display:flex;\n",
              "      flex-wrap:wrap;\n",
              "      gap: 12px;\n",
              "    }\n",
              "\n",
              "    .colab-df-convert {\n",
              "      background-color: #E8F0FE;\n",
              "      border: none;\n",
              "      border-radius: 50%;\n",
              "      cursor: pointer;\n",
              "      display: none;\n",
              "      fill: #1967D2;\n",
              "      height: 32px;\n",
              "      padding: 0 0 0 0;\n",
              "      width: 32px;\n",
              "    }\n",
              "\n",
              "    .colab-df-convert:hover {\n",
              "      background-color: #E2EBFA;\n",
              "      box-shadow: 0px 1px 2px rgba(60, 64, 67, 0.3), 0px 1px 3px 1px rgba(60, 64, 67, 0.15);\n",
              "      fill: #174EA6;\n",
              "    }\n",
              "\n",
              "    [theme=dark] .colab-df-convert {\n",
              "      background-color: #3B4455;\n",
              "      fill: #D2E3FC;\n",
              "    }\n",
              "\n",
              "    [theme=dark] .colab-df-convert:hover {\n",
              "      background-color: #434B5C;\n",
              "      box-shadow: 0px 1px 3px 1px rgba(0, 0, 0, 0.15);\n",
              "      filter: drop-shadow(0px 1px 2px rgba(0, 0, 0, 0.3));\n",
              "      fill: #FFFFFF;\n",
              "    }\n",
              "  </style>\n",
              "\n",
              "      <script>\n",
              "        const buttonEl =\n",
              "          document.querySelector('#df-f098e207-59b9-4c9f-a900-cb4a7fd97aa9 button.colab-df-convert');\n",
              "        buttonEl.style.display =\n",
              "          google.colab.kernel.accessAllowed ? 'block' : 'none';\n",
              "\n",
              "        async function convertToInteractive(key) {\n",
              "          const element = document.querySelector('#df-f098e207-59b9-4c9f-a900-cb4a7fd97aa9');\n",
              "          const dataTable =\n",
              "            await google.colab.kernel.invokeFunction('convertToInteractive',\n",
              "                                                     [key], {});\n",
              "          if (!dataTable) return;\n",
              "\n",
              "          const docLinkHtml = 'Like what you see? Visit the ' +\n",
              "            '<a target=\"_blank\" href=https://colab.research.google.com/notebooks/data_table.ipynb>data table notebook</a>'\n",
              "            + ' to learn more about interactive tables.';\n",
              "          element.innerHTML = '';\n",
              "          dataTable['output_type'] = 'display_data';\n",
              "          await google.colab.output.renderOutput(dataTable, element);\n",
              "          const docLink = document.createElement('div');\n",
              "          docLink.innerHTML = docLinkHtml;\n",
              "          element.appendChild(docLink);\n",
              "        }\n",
              "      </script>\n",
              "    </div>\n",
              "  </div>\n",
              "  "
            ]
          },
          "metadata": {},
          "execution_count": 101
        }
      ],
      "source": [
        "df.head()"
      ]
    },
    {
      "cell_type": "code",
      "execution_count": 102,
      "id": "1f50cb8b",
      "metadata": {
        "colab": {
          "base_uri": "https://localhost:8080/",
          "height": 297
        },
        "id": "1f50cb8b",
        "outputId": "048a3603-acc4-41a1-b4b0-53675e35a502"
      },
      "outputs": [
        {
          "output_type": "execute_result",
          "data": {
            "text/plain": [
              "<matplotlib.axes._subplots.AxesSubplot at 0x7f47fbaf9b10>"
            ]
          },
          "metadata": {},
          "execution_count": 102
        },
        {
          "output_type": "display_data",
          "data": {
            "text/plain": [
              "<Figure size 432x288 with 1 Axes>"
            ],
            "image/png": "[encoded data removed]"
          },
          "metadata": {
            "needs_background": "light"
          }
        }
      ],
      "source": [
        "df.plot(kind=\"scatter\",x=\"field_id\",y=\"crop_id\",alpha=0.1)"
      ]
    },
    {
      "cell_type": "code",
      "execution_count": 103,
      "id": "beeee5c0",
      "metadata": {
        "colab": {
          "base_uri": "https://localhost:8080/",
          "height": 364
        },
        "id": "beeee5c0",
        "outputId": "b1d3e26c-f620-4ff0-f040-32495f0d7ee3"
      },
      "outputs": [
        {
          "output_type": "execute_result",
          "data": {
            "text/plain": [
              "          field_id          B01          B02          B03          B04  \\\n",
              "count  5551.000000  5551.000000  5551.000000  5551.000000  5551.000000   \n",
              "mean   3599.817510    43.551038    39.197783    38.338501    40.963663   \n",
              "std    2085.580756     2.878113     3.486734     4.671453     7.863293   \n",
              "min       1.000000    29.846995    23.814208    21.147541    19.743169   \n",
              "25%    1808.000000    42.306250    37.250000    35.066964    35.444444   \n",
              "50%    3547.000000    44.000000    39.868421    38.634146    41.500000   \n",
              "75%    5422.500000    45.217029    41.530012    41.685185    46.777530   \n",
              "max    7332.000000    50.000000    49.068966    54.085366    72.382353   \n",
              "\n",
              "               B05          B06          B07          B08          B8A  \\\n",
              "count  5551.000000  5551.000000  5551.000000  5551.000000  5551.000000   \n",
              "mean     44.133547    56.244932    64.907333    61.641481    71.667237   \n",
              "std       7.088226     5.714856     6.671115     6.284680     7.653518   \n",
              "min      26.000000    31.285714    34.857143    33.035714    36.428571   \n",
              "25%      39.800000    52.500000    60.965476    58.250000    67.400000   \n",
              "50%      44.800000    56.440000    65.225806    62.238095    72.210811   \n",
              "75%      49.035964    60.181818    69.411765    65.785714    76.875000   \n",
              "max      73.264706    82.023810    96.416667    90.880952   102.857143   \n",
              "\n",
              "               B09          B11          B12      crop_id  \n",
              "count  5551.000000  5551.000000  5551.000000  5551.000000  \n",
              "mean     13.611396    73.426054    51.829617     3.868852  \n",
              "std       2.486175    15.690605    13.851583     5.640180  \n",
              "min       7.000000    16.115385     8.846154     1.000000  \n",
              "25%      12.000000    67.961751    46.476673     1.000000  \n",
              "50%      13.000000    76.590909    55.000000     2.000000  \n",
              "75%      15.000000    83.694838    61.041022     4.000000  \n",
              "max      27.431373   108.534247    84.588235    36.000000  "
            ],
            "text/html": [
              "\n",
              "  <div id=\"df-66902c5e-c9d3-45f1-96fe-f90a3bf36b42\">\n",
              "    <div class=\"colab-df-container\">\n",
              "      <div>\n",
              "<style scoped>\n",
              "    .dataframe tbody tr th:only-of-type {\n",
              "        vertical-align: middle;\n",
              "    }\n",
              "\n",
              "    .dataframe tbody tr th {\n",
              "        vertical-align: top;\n",
              "    }\n",
              "\n",
              "    .dataframe thead th {\n",
              "        text-align: right;\n",
              "    }\n",
              "</style>\n",
              "<table border=\"1\" class=\"dataframe\">\n",
              "  <thead>\n",
              "    <tr style=\"text-align: right;\">\n",
              "      <th></th>\n",
              "      <th>field_id</th>\n",
              "      <th>B01</th>\n",
              "      <th>B02</th>\n",
              "      <th>B03</th>\n",
              "      <th>B04</th>\n",
              "      <th>B05</th>\n",
              "      <th>B06</th>\n",
              "      <th>B07</th>\n",
              "      <th>B08</th>\n",
              "      <th>B8A</th>\n",
              "      <th>B09</th>\n",
              "      <th>B11</th>\n",
              "      <th>B12</th>\n",
              "      <th>crop_id</th>\n",
              "    </tr>\n",
              "  </thead>\n",
              "  <tbody>\n",
              "    <tr>\n",
              "      <th>count</th>\n",
              "      <td>5551.000000</td>\n",
              "      <td>5551.000000</td>\n",
              "      <td>5551.000000</td>\n",
              "      <td>5551.000000</td>\n",
              "      <td>5551.000000</td>\n",
              "      <td>5551.000000</td>\n",
              "      <td>5551.000000</td>\n",
              "      <td>5551.000000</td>\n",
              "      <td>5551.000000</td>\n",
              "      <td>5551.000000</td>\n",
              "      <td>5551.000000</td>\n",
              "      <td>5551.000000</td>\n",
              "      <td>5551.000000</td>\n",
              "      <td>5551.000000</td>\n",
              "    </tr>\n",
              "    <tr>\n",
              "      <th>mean</th>\n",
              "      <td>3599.817510</td>\n",
              "      <td>43.551038</td>\n",
              "      <td>39.197783</td>\n",
              "      <td>38.338501</td>\n",
              "      <td>40.963663</td>\n",
              "      <td>44.133547</td>\n",
              "      <td>56.244932</td>\n",
              "      <td>64.907333</td>\n",
              "      <td>61.641481</td>\n",
              "      <td>71.667237</td>\n",
              "      <td>13.611396</td>\n",
              "      <td>73.426054</td>\n",
              "      <td>51.829617</td>\n",
              "      <td>3.868852</td>\n",
              "    </tr>\n",
              "    <tr>\n",
              "      <th>std</th>\n",
              "      <td>2085.580756</td>\n",
              "      <td>2.878113</td>\n",
              "      <td>3.486734</td>\n",
              "      <td>4.671453</td>\n",
              "      <td>7.863293</td>\n",
              "      <td>7.088226</td>\n",
              "      <td>5.714856</td>\n",
              "      <td>6.671115</td>\n",
              "      <td>6.284680</td>\n",
              "      <td>7.653518</td>\n",
              "      <td>2.486175</td>\n",
              "      <td>15.690605</td>\n",
              "      <td>13.851583</td>\n",
              "      <td>5.640180</td>\n",
              "    </tr>\n",
              "    <tr>\n",
              "      <th>min</th>\n",
              "      <td>1.000000</td>\n",
              "      <td>29.846995</td>\n",
              "      <td>23.814208</td>\n",
              "      <td>21.147541</td>\n",
              "      <td>19.743169</td>\n",
              "      <td>26.000000</td>\n",
              "      <td>31.285714</td>\n",
              "      <td>34.857143</td>\n",
              "      <td>33.035714</td>\n",
              "      <td>36.428571</td>\n",
              "      <td>7.000000</td>\n",
              "      <td>16.115385</td>\n",
              "      <td>8.846154</td>\n",
              "      <td>1.000000</td>\n",
              "    </tr>\n",
              "    <tr>\n",
              "      <th>25%</th>\n",
              "      <td>1808.000000</td>\n",
              "      <td>42.306250</td>\n",
              "      <td>37.250000</td>\n",
              "      <td>35.066964</td>\n",
              "      <td>35.444444</td>\n",
              "      <td>39.800000</td>\n",
              "      <td>52.500000</td>\n",
              "      <td>60.965476</td>\n",
              "      <td>58.250000</td>\n",
              "      <td>67.400000</td>\n",
              "      <td>12.000000</td>\n",
              "      <td>67.961751</td>\n",
              "      <td>46.476673</td>\n",
              "      <td>1.000000</td>\n",
              "    </tr>\n",
              "    <tr>\n",
              "      <th>50%</th>\n",
              "      <td>3547.000000</td>\n",
              "      <td>44.000000</td>\n",
              "      <td>39.868421</td>\n",
              "      <td>38.634146</td>\n",
              "      <td>41.500000</td>\n",
              "      <td>44.800000</td>\n",
              "      <td>56.440000</td>\n",
              "      <td>65.225806</td>\n",
              "      <td>62.238095</td>\n",
              "      <td>72.210811</td>\n",
              "      <td>13.000000</td>\n",
              "      <td>76.590909</td>\n",
              "      <td>55.000000</td>\n",
              "      <td>2.000000</td>\n",
              "    </tr>\n",
              "    <tr>\n",
              "      <th>75%</th>\n",
              "      <td>5422.500000</td>\n",
              "      <td>45.217029</td>\n",
              "      <td>41.530012</td>\n",
              "      <td>41.685185</td>\n",
              "      <td>46.777530</td>\n",
              "      <td>49.035964</td>\n",
              "      <td>60.181818</td>\n",
              "      <td>69.411765</td>\n",
              "      <td>65.785714</td>\n",
              "      <td>76.875000</td>\n",
              "      <td>15.000000</td>\n",
              "      <td>83.694838</td>\n",
              "      <td>61.041022</td>\n",
              "      <td>4.000000</td>\n",
              "    </tr>\n",
              "    <tr>\n",
              "      <th>max</th>\n",
              "      <td>7332.000000</td>\n",
              "      <td>50.000000</td>\n",
              "      <td>49.068966</td>\n",
              "      <td>54.085366</td>\n",
              "      <td>72.382353</td>\n",
              "      <td>73.264706</td>\n",
              "      <td>82.023810</td>\n",
              "      <td>96.416667</td>\n",
              "      <td>90.880952</td>\n",
              "      <td>102.857143</td>\n",
              "      <td>27.431373</td>\n",
              "      <td>108.534247</td>\n",
              "      <td>84.588235</td>\n",
              "      <td>36.000000</td>\n",
              "    </tr>\n",
              "  </tbody>\n",
              "</table>\n",
              "</div>\n",
              "      <button class=\"colab-df-convert\" onclick=\"convertToInteractive('df-66902c5e-c9d3-45f1-96fe-f90a3bf36b42')\"\n",
              "              title=\"Convert this dataframe to an interactive table.\"\n",
              "              style=\"display:none;\">\n",
              "        \n",
              "  <svg xmlns=\"http://www.w3.org/2000/svg\" height=\"24px\"viewBox=\"0 0 24 24\"\n",
              "       width=\"24px\">\n",
              "    <path d=\"M0 0h24v24H0V0z\" fill=\"none\"/>\n",
              "    <path d=\"M18.56 5.44l.94 2.06.94-2.06 2.06-.94-2.06-.94-.94-2.06-.94 2.06-2.06.94zm-11 1L8.5 8.5l.94-2.06 2.06-.94-2.06-.94L8.5 2.5l-.94 2.06-2.06.94zm10 10l.94 2.06.94-2.06 2.06-.94-2.06-.94-.94-2.06-.94 2.06-2.06.94z\"/><path d=\"M17.41 7.96l-1.37-1.37c-.4-.4-.92-.59-1.43-.59-.52 0-1.04.2-1.43.59L10.3 9.45l-7.72 7.72c-.78.78-.78 2.05 0 2.83L4 21.41c.39.39.9.59 1.41.59.51 0 1.02-.2 1.41-.59l7.78-7.78 2.81-2.81c.8-.78.8-2.07 0-2.86zM5.41 20L4 18.59l7.72-7.72 1.47 1.35L5.41 20z\"/>\n",
              "  </svg>\n",
              "      </button>\n",
              "      \n",
              "  <style>\n",
              "    .colab-df-container {\n",
              "      display:flex;\n",
              "      flex-wrap:wrap;\n",
              "      gap: 12px;\n",
              "    }\n",
              "\n",
              "    .colab-df-convert {\n",
              "      background-color: #E8F0FE;\n",
              "      border: none;\n",
              "      border-radius: 50%;\n",
              "      cursor: pointer;\n",
              "      display: none;\n",
              "      fill: #1967D2;\n",
              "      height: 32px;\n",
              "      padding: 0 0 0 0;\n",
              "      width: 32px;\n",
              "    }\n",
              "\n",
              "    .colab-df-convert:hover {\n",
              "      background-color: #E2EBFA;\n",
              "      box-shadow: 0px 1px 2px rgba(60, 64, 67, 0.3), 0px 1px 3px 1px rgba(60, 64, 67, 0.15);\n",
              "      fill: #174EA6;\n",
              "    }\n",
              "\n",
              "    [theme=dark] .colab-df-convert {\n",
              "      background-color: #3B4455;\n",
              "      fill: #D2E3FC;\n",
              "    }\n",
              "\n",
              "    [theme=dark] .colab-df-convert:hover {\n",
              "      background-color: #434B5C;\n",
              "      box-shadow: 0px 1px 3px 1px rgba(0, 0, 0, 0.15);\n",
              "      filter: drop-shadow(0px 1px 2px rgba(0, 0, 0, 0.3));\n",
              "      fill: #FFFFFF;\n",
              "    }\n",
              "  </style>\n",
              "\n",
              "      <script>\n",
              "        const buttonEl =\n",
              "          document.querySelector('#df-66902c5e-c9d3-45f1-96fe-f90a3bf36b42 button.colab-df-convert');\n",
              "        buttonEl.style.display =\n",
              "          google.colab.kernel.accessAllowed ? 'block' : 'none';\n",
              "\n",
              "        async function convertToInteractive(key) {\n",
              "          const element = document.querySelector('#df-66902c5e-c9d3-45f1-96fe-f90a3bf36b42');\n",
              "          const dataTable =\n",
              "            await google.colab.kernel.invokeFunction('convertToInteractive',\n",
              "                                                     [key], {});\n",
              "          if (!dataTable) return;\n",
              "\n",
              "          const docLinkHtml = 'Like what you see? Visit the ' +\n",
              "            '<a target=\"_blank\" href=https://colab.research.google.com/notebooks/data_table.ipynb>data table notebook</a>'\n",
              "            + ' to learn more about interactive tables.';\n",
              "          element.innerHTML = '';\n",
              "          dataTable['output_type'] = 'display_data';\n",
              "          await google.colab.output.renderOutput(dataTable, element);\n",
              "          const docLink = document.createElement('div');\n",
              "          docLink.innerHTML = docLinkHtml;\n",
              "          element.appendChild(docLink);\n",
              "        }\n",
              "      </script>\n",
              "    </div>\n",
              "  </div>\n",
              "  "
            ]
          },
          "metadata": {},
          "execution_count": 103
        }
      ],
      "source": [
        "df.describe()"
      ]
    },
    {
      "cell_type": "code",
      "execution_count": 104,
      "id": "f5c79000",
      "metadata": {
        "colab": {
          "base_uri": "https://localhost:8080/"
        },
        "id": "f5c79000",
        "outputId": "b5884e32-a5cb-49c4-98cb-06c04c412125"
      },
      "outputs": [
        {
          "output_type": "execute_result",
          "data": {
            "text/plain": [
              "count    5551.000000\n",
              "mean        3.868852\n",
              "std         5.640180\n",
              "min         1.000000\n",
              "25%         1.000000\n",
              "50%         2.000000\n",
              "75%         4.000000\n",
              "max        36.000000\n",
              "Name: crop_id, dtype: float64"
            ]
          },
          "metadata": {},
          "execution_count": 104
        }
      ],
      "source": [
        "df['crop_id'].describe()"
      ]
    },
    {
      "cell_type": "code",
      "execution_count": 105,
      "id": "bab8aa94",
      "metadata": {
        "scrolled": true,
        "colab": {
          "base_uri": "https://localhost:8080/"
        },
        "id": "bab8aa94",
        "outputId": "b071dd8b-274b-425f-b58d-6eb6d74e2893"
      },
      "outputs": [
        {
          "output_type": "execute_result",
          "data": {
            "text/plain": [
              "1     2031\n",
              "4     1641\n",
              "2      990\n",
              "9      293\n",
              "6      163\n",
              "36     129\n",
              "3      103\n",
              "13      59\n",
              "8       48\n",
              "15      41\n",
              "5       23\n",
              "16      16\n",
              "14      14\n",
              "Name: crop_id, dtype: int64"
            ]
          },
          "metadata": {},
          "execution_count": 105
        }
      ],
      "source": [
        "df['crop_id'].value_counts()"
      ]
    },
    {
      "cell_type": "code",
      "execution_count": 106,
      "id": "1206545e",
      "metadata": {
        "scrolled": true,
        "colab": {
          "base_uri": "https://localhost:8080/"
        },
        "id": "1206545e",
        "outputId": "0cfdf4c2-6eff-4a3c-c1c0-4dd0f13985d5"
      },
      "outputs": [
        {
          "output_type": "stream",
          "name": "stdout",
          "text": [
            "<class 'pandas.core.frame.DataFrame'>\n",
            "RangeIndex: 5551 entries, 0 to 5550\n",
            "Data columns (total 14 columns):\n",
            " #   Column    Non-Null Count  Dtype  \n",
            "---  ------    --------------  -----  \n",
            " 0   field_id  5551 non-null   int64  \n",
            " 1   B01       5551 non-null   float64\n",
            " 2   B02       5551 non-null   float64\n",
            " 3   B03       5551 non-null   float64\n",
            " 4   B04       5551 non-null   float64\n",
            " 5   B05       5551 non-null   float64\n",
            " 6   B06       5551 non-null   float64\n",
            " 7   B07       5551 non-null   float64\n",
            " 8   B08       5551 non-null   float64\n",
            " 9   B8A       5551 non-null   float64\n",
            " 10  B09       5551 non-null   float64\n",
            " 11  B11       5551 non-null   float64\n",
            " 12  B12       5551 non-null   float64\n",
            " 13  crop_id   5551 non-null   int64  \n",
            "dtypes: float64(12), int64(2)\n",
            "memory usage: 607.3 KB\n"
          ]
        }
      ],
      "source": [
        "df.info()"
      ]
    },
    {
      "cell_type": "markdown",
      "id": "9c298604",
      "metadata": {
        "id": "9c298604"
      },
      "source": [
        "# Testing differents plots"
      ]
    },
    {
      "cell_type": "markdown",
      "id": "313f1efe",
      "metadata": {
        "id": "313f1efe"
      },
      "source": [
        "## histogram"
      ]
    },
    {
      "cell_type": "code",
      "execution_count": 107,
      "id": "99205342",
      "metadata": {
        "colab": {
          "base_uri": "https://localhost:8080/",
          "height": 710
        },
        "id": "99205342",
        "outputId": "ce353df3-2187-49fc-9bec-6df4bd94f747"
      },
      "outputs": [
        {
          "output_type": "display_data",
          "data": {
            "text/plain": [
              "<Figure size 1440x1080 with 16 Axes>"
            ],
            "image/png": "[encoded data removed]"
          },
          "metadata": {
            "needs_background": "light"
          }
        }
      ],
      "source": [
        "%matplotlib inline \n",
        "import matplotlib.pyplot as plt\n",
        "df.hist(bins=50, figsize=(20,15))\n",
        "plt.show()"
      ]
    },
    {
      "cell_type": "markdown",
      "id": "67d12d26",
      "metadata": {
        "id": "67d12d26"
      },
      "source": [
        "## scatter plot"
      ]
    },
    {
      "cell_type": "code",
      "execution_count": 108,
      "id": "3dfe23a5",
      "metadata": {
        "colab": {
          "base_uri": "https://localhost:8080/",
          "height": 0
        },
        "id": "3dfe23a5",
        "outputId": "ac2261a8-82ae-423d-b591-830ded57a065"
      },
      "outputs": [
        {
          "output_type": "display_data",
          "data": {
            "text/plain": [
              "<Figure size 432x288 with 1 Axes>"
            ],
            "image/png": "[encoded data removed]"
          },
          "metadata": {
            "needs_background": "light"
          }
        }
      ],
      "source": [
        "%matplotlib inline \n",
        "\n",
        "\n",
        "plt.scatter(df[\"field_id\"],df[\"crop_id\"])\n",
        "plt.show()"
      ]
    },
    {
      "cell_type": "markdown",
      "id": "d6635494",
      "metadata": {
        "id": "d6635494"
      },
      "source": [
        "## boxplot"
      ]
    },
    {
      "cell_type": "code",
      "execution_count": 109,
      "id": "d13c2b53",
      "metadata": {
        "colab": {
          "base_uri": "https://localhost:8080/",
          "height": 0
        },
        "id": "d13c2b53",
        "outputId": "253a3b13-3963-46d9-a890-50c3f98def0b"
      },
      "outputs": [
        {
          "output_type": "execute_result",
          "data": {
            "text/plain": [
              "<matplotlib.axes._subplots.AxesSubplot at 0x7f47fa5d4810>"
            ]
          },
          "metadata": {},
          "execution_count": 109
        },
        {
          "output_type": "display_data",
          "data": {
            "text/plain": [
              "<Figure size 432x288 with 1 Axes>"
            ],
            "image/png": "[encoded data removed]"
          },
          "metadata": {
            "needs_background": "light"
          }
        }
      ],
      "source": [
        "df[['field_id','crop_id']].boxplot()"
      ]
    },
    {
      "cell_type": "markdown",
      "source": [
        "##**Looking for correlations**"
      ],
      "metadata": {
        "id": "PvMNRZzNzpaJ"
      },
      "id": "PvMNRZzNzpaJ"
    },
    {
      "cell_type": "code",
      "execution_count": 110,
      "id": "4ecde32c",
      "metadata": {
        "colab": {
          "base_uri": "https://localhost:8080/",
          "height": 0
        },
        "id": "4ecde32c",
        "outputId": "9b490c54-258a-4084-e11f-be98872fed19"
      },
      "outputs": [
        {
          "output_type": "execute_result",
          "data": {
            "text/plain": [
              "              field_id          B01          B02          B03          B04  \\\n",
              "field_id  4.349647e+06 -1122.514134 -2560.522107 -4364.310091 -6327.244907   \n",
              "B01      -1.122514e+03     8.283535     8.780277     8.597452     7.611098   \n",
              "B02      -2.560522e+03     8.780277    12.157313    14.984243    19.701817   \n",
              "B03      -4.364310e+03     8.597452    14.984243    21.822471    33.351807   \n",
              "B04      -6.327245e+03     7.611098    19.701817    33.351807    61.831377   \n",
              "B05      -6.521830e+03     5.252864    15.852557    28.548426    54.533374   \n",
              "B06      -6.146750e+03     5.705540    11.237523    18.797037    28.388695   \n",
              "B07      -5.285071e+03     6.677203    10.597306    16.386343    20.655706   \n",
              "B08      -4.444217e+03     4.111811     7.643986    13.102607    18.711507   \n",
              "B8A      -6.156528e+03     5.201287     9.620687    16.451391    23.240764   \n",
              "B09      -2.106376e+02    -2.640394    -2.061024    -1.134526     2.502973   \n",
              "B11      -1.514706e+04    -3.160916    13.701173    36.978161    88.212617   \n",
              "B12      -1.261212e+04     0.569193    17.331429    39.014783    88.522425   \n",
              "crop_id   2.744934e+03    -2.821836    -5.510134    -8.230836   -14.169924   \n",
              "\n",
              "                  B05          B06          B07          B08          B8A  \\\n",
              "field_id -6521.829772 -6146.749931 -5285.070623 -4444.216666 -6156.528462   \n",
              "B01          5.252864     5.705540     6.677203     4.111811     5.201287   \n",
              "B02         15.852557    11.237523    10.597306     7.643986     9.620687   \n",
              "B03         28.548426    18.797037    16.386343    13.102607    16.451391   \n",
              "B04         54.533374    28.388695    20.655706    18.711507    23.240764   \n",
              "B05         50.242943    28.606826    21.757787    20.878504    25.612514   \n",
              "B06         28.606826    32.659577    35.777492    33.141067    40.355440   \n",
              "B07         21.757787    35.777492    44.503771    40.866840    49.930547   \n",
              "B08         20.878504    33.141067    40.866840    39.497201    47.501446   \n",
              "B8A         25.612514    40.355440    49.930547    47.501446    58.576342   \n",
              "B09          4.113392     2.225598     0.805876     2.813281     1.878569   \n",
              "B11         89.284780    54.767310    44.004629    50.014681    63.901613   \n",
              "B12         85.405709    43.365967    28.715965    33.123640    41.843503   \n",
              "crop_id    -12.239689    -5.376732    -2.472125    -2.017352    -2.755494   \n",
              "\n",
              "                 B09           B11           B12      crop_id  \n",
              "field_id -210.637649 -15147.059403 -12612.116691  2744.933900  \n",
              "B01        -2.640394     -3.160916      0.569193    -2.821836  \n",
              "B02        -2.061024     13.701173     17.331429    -5.510134  \n",
              "B03        -1.134526     36.978161     39.014783    -8.230836  \n",
              "B04         2.502973     88.212617     88.522425   -14.169924  \n",
              "B05         4.113392     89.284780     85.405709   -12.239689  \n",
              "B06         2.225598     54.767310     43.365967    -5.376732  \n",
              "B07         0.805876     44.004629     28.715965    -2.472125  \n",
              "B08         2.813281     50.014681     33.123640    -2.017352  \n",
              "B8A         1.878569     63.901613     41.843503    -2.755494  \n",
              "B09         6.181066     12.210059     11.141362    -0.591433  \n",
              "B11        12.210059    246.195097    209.070745   -18.000687  \n",
              "B12        11.141362    209.070745    191.866342   -20.243725  \n",
              "crop_id    -0.591433    -18.000687    -20.243725    31.811626  "
            ],
            "text/html": [
              "\n",
              "  <div id=\"df-29a072ce-4907-4c26-8ce6-0e62ecff04d3\">\n",
              "    <div class=\"colab-df-container\">\n",
              "      <div>\n",
              "<style scoped>\n",
              "    .dataframe tbody tr th:only-of-type {\n",
              "        vertical-align: middle;\n",
              "    }\n",
              "\n",
              "    .dataframe tbody tr th {\n",
              "        vertical-align: top;\n",
              "    }\n",
              "\n",
              "    .dataframe thead th {\n",
              "        text-align: right;\n",
              "    }\n",
              "</style>\n",
              "<table border=\"1\" class=\"dataframe\">\n",
              "  <thead>\n",
              "    <tr style=\"text-align: right;\">\n",
              "      <th></th>\n",
              "      <th>field_id</th>\n",
              "      <th>B01</th>\n",
              "      <th>B02</th>\n",
              "      <th>B03</th>\n",
              "      <th>B04</th>\n",
              "      <th>B05</th>\n",
              "      <th>B06</th>\n",
              "      <th>B07</th>\n",
              "      <th>B08</th>\n",
              "      <th>B8A</th>\n",
              "      <th>B09</th>\n",
              "      <th>B11</th>\n",
              "      <th>B12</th>\n",
              "      <th>crop_id</th>\n",
              "    </tr>\n",
              "  </thead>\n",
              "  <tbody>\n",
              "    <tr>\n",
              "      <th>field_id</th>\n",
              "      <td>4.349647e+06</td>\n",
              "      <td>-1122.514134</td>\n",
              "      <td>-2560.522107</td>\n",
              "      <td>-4364.310091</td>\n",
              "      <td>-6327.244907</td>\n",
              "      <td>-6521.829772</td>\n",
              "      <td>-6146.749931</td>\n",
              "      <td>-5285.070623</td>\n",
              "      <td>-4444.216666</td>\n",
              "      <td>-6156.528462</td>\n",
              "      <td>-210.637649</td>\n",
              "      <td>-15147.059403</td>\n",
              "      <td>-12612.116691</td>\n",
              "      <td>2744.933900</td>\n",
              "    </tr>\n",
              "    <tr>\n",
              "      <th>B01</th>\n",
              "      <td>-1.122514e+03</td>\n",
              "      <td>8.283535</td>\n",
              "      <td>8.780277</td>\n",
              "      <td>8.597452</td>\n",
              "      <td>7.611098</td>\n",
              "      <td>5.252864</td>\n",
              "      <td>5.705540</td>\n",
              "      <td>6.677203</td>\n",
              "      <td>4.111811</td>\n",
              "      <td>5.201287</td>\n",
              "      <td>-2.640394</td>\n",
              "      <td>-3.160916</td>\n",
              "      <td>0.569193</td>\n",
              "      <td>-2.821836</td>\n",
              "    </tr>\n",
              "    <tr>\n",
              "      <th>B02</th>\n",
              "      <td>-2.560522e+03</td>\n",
              "      <td>8.780277</td>\n",
              "      <td>12.157313</td>\n",
              "      <td>14.984243</td>\n",
              "      <td>19.701817</td>\n",
              "      <td>15.852557</td>\n",
              "      <td>11.237523</td>\n",
              "      <td>10.597306</td>\n",
              "      <td>7.643986</td>\n",
              "      <td>9.620687</td>\n",
              "      <td>-2.061024</td>\n",
              "      <td>13.701173</td>\n",
              "      <td>17.331429</td>\n",
              "      <td>-5.510134</td>\n",
              "    </tr>\n",
              "    <tr>\n",
              "      <th>B03</th>\n",
              "      <td>-4.364310e+03</td>\n",
              "      <td>8.597452</td>\n",
              "      <td>14.984243</td>\n",
              "      <td>21.822471</td>\n",
              "      <td>33.351807</td>\n",
              "      <td>28.548426</td>\n",
              "      <td>18.797037</td>\n",
              "      <td>16.386343</td>\n",
              "      <td>13.102607</td>\n",
              "      <td>16.451391</td>\n",
              "      <td>-1.134526</td>\n",
              "      <td>36.978161</td>\n",
              "      <td>39.014783</td>\n",
              "      <td>-8.230836</td>\n",
              "    </tr>\n",
              "    <tr>\n",
              "      <th>B04</th>\n",
              "      <td>-6.327245e+03</td>\n",
              "      <td>7.611098</td>\n",
              "      <td>19.701817</td>\n",
              "      <td>33.351807</td>\n",
              "      <td>61.831377</td>\n",
              "      <td>54.533374</td>\n",
              "      <td>28.388695</td>\n",
              "      <td>20.655706</td>\n",
              "      <td>18.711507</td>\n",
              "      <td>23.240764</td>\n",
              "      <td>2.502973</td>\n",
              "      <td>88.212617</td>\n",
              "      <td>88.522425</td>\n",
              "      <td>-14.169924</td>\n",
              "    </tr>\n",
              "    <tr>\n",
              "      <th>B05</th>\n",
              "      <td>-6.521830e+03</td>\n",
              "      <td>5.252864</td>\n",
              "      <td>15.852557</td>\n",
              "      <td>28.548426</td>\n",
              "      <td>54.533374</td>\n",
              "      <td>50.242943</td>\n",
              "      <td>28.606826</td>\n",
              "      <td>21.757787</td>\n",
              "      <td>20.878504</td>\n",
              "      <td>25.612514</td>\n",
              "      <td>4.113392</td>\n",
              "      <td>89.284780</td>\n",
              "      <td>85.405709</td>\n",
              "      <td>-12.239689</td>\n",
              "    </tr>\n",
              "    <tr>\n",
              "      <th>B06</th>\n",
              "      <td>-6.146750e+03</td>\n",
              "      <td>5.705540</td>\n",
              "      <td>11.237523</td>\n",
              "      <td>18.797037</td>\n",
              "      <td>28.388695</td>\n",
              "      <td>28.606826</td>\n",
              "      <td>32.659577</td>\n",
              "      <td>35.777492</td>\n",
              "      <td>33.141067</td>\n",
              "      <td>40.355440</td>\n",
              "      <td>2.225598</td>\n",
              "      <td>54.767310</td>\n",
              "      <td>43.365967</td>\n",
              "      <td>-5.376732</td>\n",
              "    </tr>\n",
              "    <tr>\n",
              "      <th>B07</th>\n",
              "      <td>-5.285071e+03</td>\n",
              "      <td>6.677203</td>\n",
              "      <td>10.597306</td>\n",
              "      <td>16.386343</td>\n",
              "      <td>20.655706</td>\n",
              "      <td>21.757787</td>\n",
              "      <td>35.777492</td>\n",
              "      <td>44.503771</td>\n",
              "      <td>40.866840</td>\n",
              "      <td>49.930547</td>\n",
              "      <td>0.805876</td>\n",
              "      <td>44.004629</td>\n",
              "      <td>28.715965</td>\n",
              "      <td>-2.472125</td>\n",
              "    </tr>\n",
              "    <tr>\n",
              "      <th>B08</th>\n",
              "      <td>-4.444217e+03</td>\n",
              "      <td>4.111811</td>\n",
              "      <td>7.643986</td>\n",
              "      <td>13.102607</td>\n",
              "      <td>18.711507</td>\n",
              "      <td>20.878504</td>\n",
              "      <td>33.141067</td>\n",
              "      <td>40.866840</td>\n",
              "      <td>39.497201</td>\n",
              "      <td>47.501446</td>\n",
              "      <td>2.813281</td>\n",
              "      <td>50.014681</td>\n",
              "      <td>33.123640</td>\n",
              "      <td>-2.017352</td>\n",
              "    </tr>\n",
              "    <tr>\n",
              "      <th>B8A</th>\n",
              "      <td>-6.156528e+03</td>\n",
              "      <td>5.201287</td>\n",
              "      <td>9.620687</td>\n",
              "      <td>16.451391</td>\n",
              "      <td>23.240764</td>\n",
              "      <td>25.612514</td>\n",
              "      <td>40.355440</td>\n",
              "      <td>49.930547</td>\n",
              "      <td>47.501446</td>\n",
              "      <td>58.576342</td>\n",
              "      <td>1.878569</td>\n",
              "      <td>63.901613</td>\n",
              "      <td>41.843503</td>\n",
              "      <td>-2.755494</td>\n",
              "    </tr>\n",
              "    <tr>\n",
              "      <th>B09</th>\n",
              "      <td>-2.106376e+02</td>\n",
              "      <td>-2.640394</td>\n",
              "      <td>-2.061024</td>\n",
              "      <td>-1.134526</td>\n",
              "      <td>2.502973</td>\n",
              "      <td>4.113392</td>\n",
              "      <td>2.225598</td>\n",
              "      <td>0.805876</td>\n",
              "      <td>2.813281</td>\n",
              "      <td>1.878569</td>\n",
              "      <td>6.181066</td>\n",
              "      <td>12.210059</td>\n",
              "      <td>11.141362</td>\n",
              "      <td>-0.591433</td>\n",
              "    </tr>\n",
              "    <tr>\n",
              "      <th>B11</th>\n",
              "      <td>-1.514706e+04</td>\n",
              "      <td>-3.160916</td>\n",
              "      <td>13.701173</td>\n",
              "      <td>36.978161</td>\n",
              "      <td>88.212617</td>\n",
              "      <td>89.284780</td>\n",
              "      <td>54.767310</td>\n",
              "      <td>44.004629</td>\n",
              "      <td>50.014681</td>\n",
              "      <td>63.901613</td>\n",
              "      <td>12.210059</td>\n",
              "      <td>246.195097</td>\n",
              "      <td>209.070745</td>\n",
              "      <td>-18.000687</td>\n",
              "    </tr>\n",
              "    <tr>\n",
              "      <th>B12</th>\n",
              "      <td>-1.261212e+04</td>\n",
              "      <td>0.569193</td>\n",
              "      <td>17.331429</td>\n",
              "      <td>39.014783</td>\n",
              "      <td>88.522425</td>\n",
              "      <td>85.405709</td>\n",
              "      <td>43.365967</td>\n",
              "      <td>28.715965</td>\n",
              "      <td>33.123640</td>\n",
              "      <td>41.843503</td>\n",
              "      <td>11.141362</td>\n",
              "      <td>209.070745</td>\n",
              "      <td>191.866342</td>\n",
              "      <td>-20.243725</td>\n",
              "    </tr>\n",
              "    <tr>\n",
              "      <th>crop_id</th>\n",
              "      <td>2.744934e+03</td>\n",
              "      <td>-2.821836</td>\n",
              "      <td>-5.510134</td>\n",
              "      <td>-8.230836</td>\n",
              "      <td>-14.169924</td>\n",
              "      <td>-12.239689</td>\n",
              "      <td>-5.376732</td>\n",
              "      <td>-2.472125</td>\n",
              "      <td>-2.017352</td>\n",
              "      <td>-2.755494</td>\n",
              "      <td>-0.591433</td>\n",
              "      <td>-18.000687</td>\n",
              "      <td>-20.243725</td>\n",
              "      <td>31.811626</td>\n",
              "    </tr>\n",
              "  </tbody>\n",
              "</table>\n",
              "</div>\n",
              "      <button class=\"colab-df-convert\" onclick=\"convertToInteractive('df-29a072ce-4907-4c26-8ce6-0e62ecff04d3')\"\n",
              "              title=\"Convert this dataframe to an interactive table.\"\n",
              "              style=\"display:none;\">\n",
              "        \n",
              "  <svg xmlns=\"http://www.w3.org/2000/svg\" height=\"24px\"viewBox=\"0 0 24 24\"\n",
              "       width=\"24px\">\n",
              "    <path d=\"M0 0h24v24H0V0z\" fill=\"none\"/>\n",
              "    <path d=\"M18.56 5.44l.94 2.06.94-2.06 2.06-.94-2.06-.94-.94-2.06-.94 2.06-2.06.94zm-11 1L8.5 8.5l.94-2.06 2.06-.94-2.06-.94L8.5 2.5l-.94 2.06-2.06.94zm10 10l.94 2.06.94-2.06 2.06-.94-2.06-.94-.94-2.06-.94 2.06-2.06.94z\"/><path d=\"M17.41 7.96l-1.37-1.37c-.4-.4-.92-.59-1.43-.59-.52 0-1.04.2-1.43.59L10.3 9.45l-7.72 7.72c-.78.78-.78 2.05 0 2.83L4 21.41c.39.39.9.59 1.41.59.51 0 1.02-.2 1.41-.59l7.78-7.78 2.81-2.81c.8-.78.8-2.07 0-2.86zM5.41 20L4 18.59l7.72-7.72 1.47 1.35L5.41 20z\"/>\n",
              "  </svg>\n",
              "      </button>\n",
              "      \n",
              "  <style>\n",
              "    .colab-df-container {\n",
              "      display:flex;\n",
              "      flex-wrap:wrap;\n",
              "      gap: 12px;\n",
              "    }\n",
              "\n",
              "    .colab-df-convert {\n",
              "      background-color: #E8F0FE;\n",
              "      border: none;\n",
              "      border-radius: 50%;\n",
              "      cursor: pointer;\n",
              "      display: none;\n",
              "      fill: #1967D2;\n",
              "      height: 32px;\n",
              "      padding: 0 0 0 0;\n",
              "      width: 32px;\n",
              "    }\n",
              "\n",
              "    .colab-df-convert:hover {\n",
              "      background-color: #E2EBFA;\n",
              "      box-shadow: 0px 1px 2px rgba(60, 64, 67, 0.3), 0px 1px 3px 1px rgba(60, 64, 67, 0.15);\n",
              "      fill: #174EA6;\n",
              "    }\n",
              "\n",
              "    [theme=dark] .colab-df-convert {\n",
              "      background-color: #3B4455;\n",
              "      fill: #D2E3FC;\n",
              "    }\n",
              "\n",
              "    [theme=dark] .colab-df-convert:hover {\n",
              "      background-color: #434B5C;\n",
              "      box-shadow: 0px 1px 3px 1px rgba(0, 0, 0, 0.15);\n",
              "      filter: drop-shadow(0px 1px 2px rgba(0, 0, 0, 0.3));\n",
              "      fill: #FFFFFF;\n",
              "    }\n",
              "  </style>\n",
              "\n",
              "      <script>\n",
              "        const buttonEl =\n",
              "          document.querySelector('#df-29a072ce-4907-4c26-8ce6-0e62ecff04d3 button.colab-df-convert');\n",
              "        buttonEl.style.display =\n",
              "          google.colab.kernel.accessAllowed ? 'block' : 'none';\n",
              "\n",
              "        async function convertToInteractive(key) {\n",
              "          const element = document.querySelector('#df-29a072ce-4907-4c26-8ce6-0e62ecff04d3');\n",
              "          const dataTable =\n",
              "            await google.colab.kernel.invokeFunction('convertToInteractive',\n",
              "                                                     [key], {});\n",
              "          if (!dataTable) return;\n",
              "\n",
              "          const docLinkHtml = 'Like what you see? Visit the ' +\n",
              "            '<a target=\"_blank\" href=https://colab.research.google.com/notebooks/data_table.ipynb>data table notebook</a>'\n",
              "            + ' to learn more about interactive tables.';\n",
              "          element.innerHTML = '';\n",
              "          dataTable['output_type'] = 'display_data';\n",
              "          await google.colab.output.renderOutput(dataTable, element);\n",
              "          const docLink = document.createElement('div');\n",
              "          docLink.innerHTML = docLinkHtml;\n",
              "          element.appendChild(docLink);\n",
              "        }\n",
              "      </script>\n",
              "    </div>\n",
              "  </div>\n",
              "  "
            ]
          },
          "metadata": {},
          "execution_count": 110
        }
      ],
      "source": [
        "df.cov()"
      ]
    },
    {
      "cell_type": "code",
      "execution_count": 111,
      "id": "6c264994",
      "metadata": {
        "colab": {
          "base_uri": "https://localhost:8080/",
          "height": 0
        },
        "id": "6c264994",
        "outputId": "80cac152-d8e2-4f62-e339-5b12a8550b04"
      },
      "outputs": [
        {
          "output_type": "execute_result",
          "data": {
            "text/plain": [
              "          field_id       B01       B02       B03       B04       B05  \\\n",
              "field_id  1.000000 -0.187007 -0.352114 -0.447957 -0.385819 -0.441169   \n",
              "B01      -0.187007  1.000000  0.874947  0.639455  0.336306  0.257484   \n",
              "B02      -0.352114  0.874947  1.000000  0.919950  0.718593  0.641421   \n",
              "B03      -0.447957  0.639455  0.919950  1.000000  0.907952  0.862170   \n",
              "B04      -0.385819  0.336306  0.718593  0.907952  1.000000  0.978409   \n",
              "B05      -0.441169  0.257484  0.641421  0.862170  0.978409  1.000000   \n",
              "B06      -0.515719  0.346883  0.563958  0.704096  0.631736  0.706199   \n",
              "B07      -0.379862  0.347767  0.455594  0.525813  0.393765  0.460128   \n",
              "B08      -0.339067  0.227322  0.348833  0.446296  0.378635  0.468682   \n",
              "B8A      -0.385698  0.236125  0.360517  0.460140  0.386176  0.472121   \n",
              "B09      -0.040623 -0.369002 -0.237757 -0.097686  0.128032  0.233416   \n",
              "B11      -0.462873 -0.069995  0.250437  0.504491  0.714968  0.802787   \n",
              "B12      -0.436578  0.014278  0.358853  0.602945  0.812736  0.869861   \n",
              "crop_id   0.233352 -0.173832 -0.280189 -0.312391 -0.319499 -0.306154   \n",
              "\n",
              "               B06       B07       B08       B8A       B09       B11  \\\n",
              "field_id -0.515719 -0.379862 -0.339067 -0.385698 -0.040623 -0.462873   \n",
              "B01       0.346883  0.347767  0.227322  0.236125 -0.369002 -0.069995   \n",
              "B02       0.563958  0.455594  0.348833  0.360517 -0.237757  0.250437   \n",
              "B03       0.704096  0.525813  0.446296  0.460140 -0.097686  0.504491   \n",
              "B04       0.631736  0.393765  0.378635  0.386176  0.128032  0.714968   \n",
              "B05       0.706199  0.460128  0.468682  0.472121  0.233416  0.802787   \n",
              "B06       1.000000  0.938439  0.922737  0.922647  0.156643  0.610768   \n",
              "B07       0.938439  1.000000  0.974742  0.977928  0.048589  0.420398   \n",
              "B08       0.922737  0.974742  1.000000  0.987558  0.180052  0.507195   \n",
              "B8A       0.922647  0.977928  0.987558  1.000000  0.098727  0.532122   \n",
              "B09       0.156643  0.048589  0.180052  0.098727  1.000000  0.313001   \n",
              "B11       0.610768  0.420398  0.507195  0.532122  0.313001  1.000000   \n",
              "B12       0.547828  0.310760  0.380501  0.394700  0.323525  0.961954   \n",
              "crop_id  -0.166809 -0.065702 -0.056912 -0.063833 -0.042177 -0.203403   \n",
              "\n",
              "               B12   crop_id  \n",
              "field_id -0.436578  0.233352  \n",
              "B01       0.014278 -0.173832  \n",
              "B02       0.358853 -0.280189  \n",
              "B03       0.602945 -0.312391  \n",
              "B04       0.812736 -0.319499  \n",
              "B05       0.869861 -0.306154  \n",
              "B06       0.547828 -0.166809  \n",
              "B07       0.310760 -0.065702  \n",
              "B08       0.380501 -0.056912  \n",
              "B8A       0.394700 -0.063833  \n",
              "B09       0.323525 -0.042177  \n",
              "B11       0.961954 -0.203403  \n",
              "B12       1.000000 -0.259118  \n",
              "crop_id  -0.259118  1.000000  "
            ],
            "text/html": [
              "\n",
              "  <div id=\"df-f800a322-3e34-46a6-96c8-80158c1e5c2e\">\n",
              "    <div class=\"colab-df-container\">\n",
              "      <div>\n",
              "<style scoped>\n",
              "    .dataframe tbody tr th:only-of-type {\n",
              "        vertical-align: middle;\n",
              "    }\n",
              "\n",
              "    .dataframe tbody tr th {\n",
              "        vertical-align: top;\n",
              "    }\n",
              "\n",
              "    .dataframe thead th {\n",
              "        text-align: right;\n",
              "    }\n",
              "</style>\n",
              "<table border=\"1\" class=\"dataframe\">\n",
              "  <thead>\n",
              "    <tr style=\"text-align: right;\">\n",
              "      <th></th>\n",
              "      <th>field_id</th>\n",
              "      <th>B01</th>\n",
              "      <th>B02</th>\n",
              "      <th>B03</th>\n",
              "      <th>B04</th>\n",
              "      <th>B05</th>\n",
              "      <th>B06</th>\n",
              "      <th>B07</th>\n",
              "      <th>B08</th>\n",
              "      <th>B8A</th>\n",
              "      <th>B09</th>\n",
              "      <th>B11</th>\n",
              "      <th>B12</th>\n",
              "      <th>crop_id</th>\n",
              "    </tr>\n",
              "  </thead>\n",
              "  <tbody>\n",
              "    <tr>\n",
              "      <th>field_id</th>\n",
              "      <td>1.000000</td>\n",
              "      <td>-0.187007</td>\n",
              "      <td>-0.352114</td>\n",
              "      <td>-0.447957</td>\n",
              "      <td>-0.385819</td>\n",
              "      <td>-0.441169</td>\n",
              "      <td>-0.515719</td>\n",
              "      <td>-0.379862</td>\n",
              "      <td>-0.339067</td>\n",
              "      <td>-0.385698</td>\n",
              "      <td>-0.040623</td>\n",
              "      <td>-0.462873</td>\n",
              "      <td>-0.436578</td>\n",
              "      <td>0.233352</td>\n",
              "    </tr>\n",
              "    <tr>\n",
              "      <th>B01</th>\n",
              "      <td>-0.187007</td>\n",
              "      <td>1.000000</td>\n",
              "      <td>0.874947</td>\n",
              "      <td>0.639455</td>\n",
              "      <td>0.336306</td>\n",
              "      <td>0.257484</td>\n",
              "      <td>0.346883</td>\n",
              "      <td>0.347767</td>\n",
              "      <td>0.227322</td>\n",
              "      <td>0.236125</td>\n",
              "      <td>-0.369002</td>\n",
              "      <td>-0.069995</td>\n",
              "      <td>0.014278</td>\n",
              "      <td>-0.173832</td>\n",
              "    </tr>\n",
              "    <tr>\n",
              "      <th>B02</th>\n",
              "      <td>-0.352114</td>\n",
              "      <td>0.874947</td>\n",
              "      <td>1.000000</td>\n",
              "      <td>0.919950</td>\n",
              "      <td>0.718593</td>\n",
              "      <td>0.641421</td>\n",
              "      <td>0.563958</td>\n",
              "      <td>0.455594</td>\n",
              "      <td>0.348833</td>\n",
              "      <td>0.360517</td>\n",
              "      <td>-0.237757</td>\n",
              "      <td>0.250437</td>\n",
              "      <td>0.358853</td>\n",
              "      <td>-0.280189</td>\n",
              "    </tr>\n",
              "    <tr>\n",
              "      <th>B03</th>\n",
              "      <td>-0.447957</td>\n",
              "      <td>0.639455</td>\n",
              "      <td>0.919950</td>\n",
              "      <td>1.000000</td>\n",
              "      <td>0.907952</td>\n",
              "      <td>0.862170</td>\n",
              "      <td>0.704096</td>\n",
              "      <td>0.525813</td>\n",
              "      <td>0.446296</td>\n",
              "      <td>0.460140</td>\n",
              "      <td>-0.097686</td>\n",
              "      <td>0.504491</td>\n",
              "      <td>0.602945</td>\n",
              "      <td>-0.312391</td>\n",
              "    </tr>\n",
              "    <tr>\n",
              "      <th>B04</th>\n",
              "      <td>-0.385819</td>\n",
              "      <td>0.336306</td>\n",
              "      <td>0.718593</td>\n",
              "      <td>0.907952</td>\n",
              "      <td>1.000000</td>\n",
              "      <td>0.978409</td>\n",
              "      <td>0.631736</td>\n",
              "      <td>0.393765</td>\n",
              "      <td>0.378635</td>\n",
              "      <td>0.386176</td>\n",
              "      <td>0.128032</td>\n",
              "      <td>0.714968</td>\n",
              "      <td>0.812736</td>\n",
              "      <td>-0.319499</td>\n",
              "    </tr>\n",
              "    <tr>\n",
              "      <th>B05</th>\n",
              "      <td>-0.441169</td>\n",
              "      <td>0.257484</td>\n",
              "      <td>0.641421</td>\n",
              "      <td>0.862170</td>\n",
              "      <td>0.978409</td>\n",
              "      <td>1.000000</td>\n",
              "      <td>0.706199</td>\n",
              "      <td>0.460128</td>\n",
              "      <td>0.468682</td>\n",
              "      <td>0.472121</td>\n",
              "      <td>0.233416</td>\n",
              "      <td>0.802787</td>\n",
              "      <td>0.869861</td>\n",
              "      <td>-0.306154</td>\n",
              "    </tr>\n",
              "    <tr>\n",
              "      <th>B06</th>\n",
              "      <td>-0.515719</td>\n",
              "      <td>0.346883</td>\n",
              "      <td>0.563958</td>\n",
              "      <td>0.704096</td>\n",
              "      <td>0.631736</td>\n",
              "      <td>0.706199</td>\n",
              "      <td>1.000000</td>\n",
              "      <td>0.938439</td>\n",
              "      <td>0.922737</td>\n",
              "      <td>0.922647</td>\n",
              "      <td>0.156643</td>\n",
              "      <td>0.610768</td>\n",
              "      <td>0.547828</td>\n",
              "      <td>-0.166809</td>\n",
              "    </tr>\n",
              "    <tr>\n",
              "      <th>B07</th>\n",
              "      <td>-0.379862</td>\n",
              "      <td>0.347767</td>\n",
              "      <td>0.455594</td>\n",
              "      <td>0.525813</td>\n",
              "      <td>0.393765</td>\n",
              "      <td>0.460128</td>\n",
              "      <td>0.938439</td>\n",
              "      <td>1.000000</td>\n",
              "      <td>0.974742</td>\n",
              "      <td>0.977928</td>\n",
              "      <td>0.048589</td>\n",
              "      <td>0.420398</td>\n",
              "      <td>0.310760</td>\n",
              "      <td>-0.065702</td>\n",
              "    </tr>\n",
              "    <tr>\n",
              "      <th>B08</th>\n",
              "      <td>-0.339067</td>\n",
              "      <td>0.227322</td>\n",
              "      <td>0.348833</td>\n",
              "      <td>0.446296</td>\n",
              "      <td>0.378635</td>\n",
              "      <td>0.468682</td>\n",
              "      <td>0.922737</td>\n",
              "      <td>0.974742</td>\n",
              "      <td>1.000000</td>\n",
              "      <td>0.987558</td>\n",
              "      <td>0.180052</td>\n",
              "      <td>0.507195</td>\n",
              "      <td>0.380501</td>\n",
              "      <td>-0.056912</td>\n",
              "    </tr>\n",
              "    <tr>\n",
              "      <th>B8A</th>\n",
              "      <td>-0.385698</td>\n",
              "      <td>0.236125</td>\n",
              "      <td>0.360517</td>\n",
              "      <td>0.460140</td>\n",
              "      <td>0.386176</td>\n",
              "      <td>0.472121</td>\n",
              "      <td>0.922647</td>\n",
              "      <td>0.977928</td>\n",
              "      <td>0.987558</td>\n",
              "      <td>1.000000</td>\n",
              "      <td>0.098727</td>\n",
              "      <td>0.532122</td>\n",
              "      <td>0.394700</td>\n",
              "      <td>-0.063833</td>\n",
              "    </tr>\n",
              "    <tr>\n",
              "      <th>B09</th>\n",
              "      <td>-0.040623</td>\n",
              "      <td>-0.369002</td>\n",
              "      <td>-0.237757</td>\n",
              "      <td>-0.097686</td>\n",
              "      <td>0.128032</td>\n",
              "      <td>0.233416</td>\n",
              "      <td>0.156643</td>\n",
              "      <td>0.048589</td>\n",
              "      <td>0.180052</td>\n",
              "      <td>0.098727</td>\n",
              "      <td>1.000000</td>\n",
              "      <td>0.313001</td>\n",
              "      <td>0.323525</td>\n",
              "      <td>-0.042177</td>\n",
              "    </tr>\n",
              "    <tr>\n",
              "      <th>B11</th>\n",
              "      <td>-0.462873</td>\n",
              "      <td>-0.069995</td>\n",
              "      <td>0.250437</td>\n",
              "      <td>0.504491</td>\n",
              "      <td>0.714968</td>\n",
              "      <td>0.802787</td>\n",
              "      <td>0.610768</td>\n",
              "      <td>0.420398</td>\n",
              "      <td>0.507195</td>\n",
              "      <td>0.532122</td>\n",
              "      <td>0.313001</td>\n",
              "      <td>1.000000</td>\n",
              "      <td>0.961954</td>\n",
              "      <td>-0.203403</td>\n",
              "    </tr>\n",
              "    <tr>\n",
              "      <th>B12</th>\n",
              "      <td>-0.436578</td>\n",
              "      <td>0.014278</td>\n",
              "      <td>0.358853</td>\n",
              "      <td>0.602945</td>\n",
              "      <td>0.812736</td>\n",
              "      <td>0.869861</td>\n",
              "      <td>0.547828</td>\n",
              "      <td>0.310760</td>\n",
              "      <td>0.380501</td>\n",
              "      <td>0.394700</td>\n",
              "      <td>0.323525</td>\n",
              "      <td>0.961954</td>\n",
              "      <td>1.000000</td>\n",
              "      <td>-0.259118</td>\n",
              "    </tr>\n",
              "    <tr>\n",
              "      <th>crop_id</th>\n",
              "      <td>0.233352</td>\n",
              "      <td>-0.173832</td>\n",
              "      <td>-0.280189</td>\n",
              "      <td>-0.312391</td>\n",
              "      <td>-0.319499</td>\n",
              "      <td>-0.306154</td>\n",
              "      <td>-0.166809</td>\n",
              "      <td>-0.065702</td>\n",
              "      <td>-0.056912</td>\n",
              "      <td>-0.063833</td>\n",
              "      <td>-0.042177</td>\n",
              "      <td>-0.203403</td>\n",
              "      <td>-0.259118</td>\n",
              "      <td>1.000000</td>\n",
              "    </tr>\n",
              "  </tbody>\n",
              "</table>\n",
              "</div>\n",
              "      <button class=\"colab-df-convert\" onclick=\"convertToInteractive('df-f800a322-3e34-46a6-96c8-80158c1e5c2e')\"\n",
              "              title=\"Convert this dataframe to an interactive table.\"\n",
              "              style=\"display:none;\">\n",
              "        \n",
              "  <svg xmlns=\"http://www.w3.org/2000/svg\" height=\"24px\"viewBox=\"0 0 24 24\"\n",
              "       width=\"24px\">\n",
              "    <path d=\"M0 0h24v24H0V0z\" fill=\"none\"/>\n",
              "    <path d=\"M18.56 5.44l.94 2.06.94-2.06 2.06-.94-2.06-.94-.94-2.06-.94 2.06-2.06.94zm-11 1L8.5 8.5l.94-2.06 2.06-.94-2.06-.94L8.5 2.5l-.94 2.06-2.06.94zm10 10l.94 2.06.94-2.06 2.06-.94-2.06-.94-.94-2.06-.94 2.06-2.06.94z\"/><path d=\"M17.41 7.96l-1.37-1.37c-.4-.4-.92-.59-1.43-.59-.52 0-1.04.2-1.43.59L10.3 9.45l-7.72 7.72c-.78.78-.78 2.05 0 2.83L4 21.41c.39.39.9.59 1.41.59.51 0 1.02-.2 1.41-.59l7.78-7.78 2.81-2.81c.8-.78.8-2.07 0-2.86zM5.41 20L4 18.59l7.72-7.72 1.47 1.35L5.41 20z\"/>\n",
              "  </svg>\n",
              "      </button>\n",
              "      \n",
              "  <style>\n",
              "    .colab-df-container {\n",
              "      display:flex;\n",
              "      flex-wrap:wrap;\n",
              "      gap: 12px;\n",
              "    }\n",
              "\n",
              "    .colab-df-convert {\n",
              "      background-color: #E8F0FE;\n",
              "      border: none;\n",
              "      border-radius: 50%;\n",
              "      cursor: pointer;\n",
              "      display: none;\n",
              "      fill: #1967D2;\n",
              "      height: 32px;\n",
              "      padding: 0 0 0 0;\n",
              "      width: 32px;\n",
              "    }\n",
              "\n",
              "    .colab-df-convert:hover {\n",
              "      background-color: #E2EBFA;\n",
              "      box-shadow: 0px 1px 2px rgba(60, 64, 67, 0.3), 0px 1px 3px 1px rgba(60, 64, 67, 0.15);\n",
              "      fill: #174EA6;\n",
              "    }\n",
              "\n",
              "    [theme=dark] .colab-df-convert {\n",
              "      background-color: #3B4455;\n",
              "      fill: #D2E3FC;\n",
              "    }\n",
              "\n",
              "    [theme=dark] .colab-df-convert:hover {\n",
              "      background-color: #434B5C;\n",
              "      box-shadow: 0px 1px 3px 1px rgba(0, 0, 0, 0.15);\n",
              "      filter: drop-shadow(0px 1px 2px rgba(0, 0, 0, 0.3));\n",
              "      fill: #FFFFFF;\n",
              "    }\n",
              "  </style>\n",
              "\n",
              "      <script>\n",
              "        const buttonEl =\n",
              "          document.querySelector('#df-f800a322-3e34-46a6-96c8-80158c1e5c2e button.colab-df-convert');\n",
              "        buttonEl.style.display =\n",
              "          google.colab.kernel.accessAllowed ? 'block' : 'none';\n",
              "\n",
              "        async function convertToInteractive(key) {\n",
              "          const element = document.querySelector('#df-f800a322-3e34-46a6-96c8-80158c1e5c2e');\n",
              "          const dataTable =\n",
              "            await google.colab.kernel.invokeFunction('convertToInteractive',\n",
              "                                                     [key], {});\n",
              "          if (!dataTable) return;\n",
              "\n",
              "          const docLinkHtml = 'Like what you see? Visit the ' +\n",
              "            '<a target=\"_blank\" href=https://colab.research.google.com/notebooks/data_table.ipynb>data table notebook</a>'\n",
              "            + ' to learn more about interactive tables.';\n",
              "          element.innerHTML = '';\n",
              "          dataTable['output_type'] = 'display_data';\n",
              "          await google.colab.output.renderOutput(dataTable, element);\n",
              "          const docLink = document.createElement('div');\n",
              "          docLink.innerHTML = docLinkHtml;\n",
              "          element.appendChild(docLink);\n",
              "        }\n",
              "      </script>\n",
              "    </div>\n",
              "  </div>\n",
              "  "
            ]
          },
          "metadata": {},
          "execution_count": 111
        }
      ],
      "source": [
        "df.corr()"
      ]
    },
    {
      "cell_type": "code",
      "execution_count": 112,
      "id": "ca1444a5",
      "metadata": {
        "colab": {
          "base_uri": "https://localhost:8080/",
          "height": 0
        },
        "id": "ca1444a5",
        "outputId": "468fe039-5a5f-44f0-d303-5f50d8dbfe94"
      },
      "outputs": [
        {
          "output_type": "execute_result",
          "data": {
            "text/plain": [
              "          B01        B02        B03        B04        B05        B06  \\\n",
              "B01  8.283535   8.780277   8.597452   7.611098   5.252864   5.705540   \n",
              "B02  8.780277  12.157313  14.984243  19.701817  15.852557  11.237523   \n",
              "B03  8.597452  14.984243  21.822471  33.351807  28.548426  18.797037   \n",
              "B04  7.611098  19.701817  33.351807  61.831377  54.533374  28.388695   \n",
              "B05  5.252864  15.852557  28.548426  54.533374  50.242943  28.606826   \n",
              "B06  5.705540  11.237523  18.797037  28.388695  28.606826  32.659577   \n",
              "B07  6.677203  10.597306  16.386343  20.655706  21.757787  35.777492   \n",
              "B08  4.111811   7.643986  13.102607  18.711507  20.878504  33.141067   \n",
              "B8A  5.201287   9.620687  16.451391  23.240764  25.612514  40.355440   \n",
              "B09 -2.640394  -2.061024  -1.134526   2.502973   4.113392   2.225598   \n",
              "B11 -3.160916  13.701173  36.978161  88.212617  89.284780  54.767310   \n",
              "B12  0.569193  17.331429  39.014783  88.522425  85.405709  43.365967   \n",
              "\n",
              "           B07        B08        B8A        B09         B11         B12  \n",
              "B01   6.677203   4.111811   5.201287  -2.640394   -3.160916    0.569193  \n",
              "B02  10.597306   7.643986   9.620687  -2.061024   13.701173   17.331429  \n",
              "B03  16.386343  13.102607  16.451391  -1.134526   36.978161   39.014783  \n",
              "B04  20.655706  18.711507  23.240764   2.502973   88.212617   88.522425  \n",
              "B05  21.757787  20.878504  25.612514   4.113392   89.284780   85.405709  \n",
              "B06  35.777492  33.141067  40.355440   2.225598   54.767310   43.365967  \n",
              "B07  44.503771  40.866840  49.930547   0.805876   44.004629   28.715965  \n",
              "B08  40.866840  39.497201  47.501446   2.813281   50.014681   33.123640  \n",
              "B8A  49.930547  47.501446  58.576342   1.878569   63.901613   41.843503  \n",
              "B09   0.805876   2.813281   1.878569   6.181066   12.210059   11.141362  \n",
              "B11  44.004629  50.014681  63.901613  12.210059  246.195097  209.070745  \n",
              "B12  28.715965  33.123640  41.843503  11.141362  209.070745  191.866342  "
            ],
            "text/html": [
              "\n",
              "  <div id=\"df-322f947d-47bf-4d6f-b596-9b79fd97d28b\">\n",
              "    <div class=\"colab-df-container\">\n",
              "      <div>\n",
              "<style scoped>\n",
              "    .dataframe tbody tr th:only-of-type {\n",
              "        vertical-align: middle;\n",
              "    }\n",
              "\n",
              "    .dataframe tbody tr th {\n",
              "        vertical-align: top;\n",
              "    }\n",
              "\n",
              "    .dataframe thead th {\n",
              "        text-align: right;\n",
              "    }\n",
              "</style>\n",
              "<table border=\"1\" class=\"dataframe\">\n",
              "  <thead>\n",
              "    <tr style=\"text-align: right;\">\n",
              "      <th></th>\n",
              "      <th>B01</th>\n",
              "      <th>B02</th>\n",
              "      <th>B03</th>\n",
              "      <th>B04</th>\n",
              "      <th>B05</th>\n",
              "      <th>B06</th>\n",
              "      <th>B07</th>\n",
              "      <th>B08</th>\n",
              "      <th>B8A</th>\n",
              "      <th>B09</th>\n",
              "      <th>B11</th>\n",
              "      <th>B12</th>\n",
              "    </tr>\n",
              "  </thead>\n",
              "  <tbody>\n",
              "    <tr>\n",
              "      <th>B01</th>\n",
              "      <td>8.283535</td>\n",
              "      <td>8.780277</td>\n",
              "      <td>8.597452</td>\n",
              "      <td>7.611098</td>\n",
              "      <td>5.252864</td>\n",
              "      <td>5.705540</td>\n",
              "      <td>6.677203</td>\n",
              "      <td>4.111811</td>\n",
              "      <td>5.201287</td>\n",
              "      <td>-2.640394</td>\n",
              "      <td>-3.160916</td>\n",
              "      <td>0.569193</td>\n",
              "    </tr>\n",
              "    <tr>\n",
              "      <th>B02</th>\n",
              "      <td>8.780277</td>\n",
              "      <td>12.157313</td>\n",
              "      <td>14.984243</td>\n",
              "      <td>19.701817</td>\n",
              "      <td>15.852557</td>\n",
              "      <td>11.237523</td>\n",
              "      <td>10.597306</td>\n",
              "      <td>7.643986</td>\n",
              "      <td>9.620687</td>\n",
              "      <td>-2.061024</td>\n",
              "      <td>13.701173</td>\n",
              "      <td>17.331429</td>\n",
              "    </tr>\n",
              "    <tr>\n",
              "      <th>B03</th>\n",
              "      <td>8.597452</td>\n",
              "      <td>14.984243</td>\n",
              "      <td>21.822471</td>\n",
              "      <td>33.351807</td>\n",
              "      <td>28.548426</td>\n",
              "      <td>18.797037</td>\n",
              "      <td>16.386343</td>\n",
              "      <td>13.102607</td>\n",
              "      <td>16.451391</td>\n",
              "      <td>-1.134526</td>\n",
              "      <td>36.978161</td>\n",
              "      <td>39.014783</td>\n",
              "    </tr>\n",
              "    <tr>\n",
              "      <th>B04</th>\n",
              "      <td>7.611098</td>\n",
              "      <td>19.701817</td>\n",
              "      <td>33.351807</td>\n",
              "      <td>61.831377</td>\n",
              "      <td>54.533374</td>\n",
              "      <td>28.388695</td>\n",
              "      <td>20.655706</td>\n",
              "      <td>18.711507</td>\n",
              "      <td>23.240764</td>\n",
              "      <td>2.502973</td>\n",
              "      <td>88.212617</td>\n",
              "      <td>88.522425</td>\n",
              "    </tr>\n",
              "    <tr>\n",
              "      <th>B05</th>\n",
              "      <td>5.252864</td>\n",
              "      <td>15.852557</td>\n",
              "      <td>28.548426</td>\n",
              "      <td>54.533374</td>\n",
              "      <td>50.242943</td>\n",
              "      <td>28.606826</td>\n",
              "      <td>21.757787</td>\n",
              "      <td>20.878504</td>\n",
              "      <td>25.612514</td>\n",
              "      <td>4.113392</td>\n",
              "      <td>89.284780</td>\n",
              "      <td>85.405709</td>\n",
              "    </tr>\n",
              "    <tr>\n",
              "      <th>B06</th>\n",
              "      <td>5.705540</td>\n",
              "      <td>11.237523</td>\n",
              "      <td>18.797037</td>\n",
              "      <td>28.388695</td>\n",
              "      <td>28.606826</td>\n",
              "      <td>32.659577</td>\n",
              "      <td>35.777492</td>\n",
              "      <td>33.141067</td>\n",
              "      <td>40.355440</td>\n",
              "      <td>2.225598</td>\n",
              "      <td>54.767310</td>\n",
              "      <td>43.365967</td>\n",
              "    </tr>\n",
              "    <tr>\n",
              "      <th>B07</th>\n",
              "      <td>6.677203</td>\n",
              "      <td>10.597306</td>\n",
              "      <td>16.386343</td>\n",
              "      <td>20.655706</td>\n",
              "      <td>21.757787</td>\n",
              "      <td>35.777492</td>\n",
              "      <td>44.503771</td>\n",
              "      <td>40.866840</td>\n",
              "      <td>49.930547</td>\n",
              "      <td>0.805876</td>\n",
              "      <td>44.004629</td>\n",
              "      <td>28.715965</td>\n",
              "    </tr>\n",
              "    <tr>\n",
              "      <th>B08</th>\n",
              "      <td>4.111811</td>\n",
              "      <td>7.643986</td>\n",
              "      <td>13.102607</td>\n",
              "      <td>18.711507</td>\n",
              "      <td>20.878504</td>\n",
              "      <td>33.141067</td>\n",
              "      <td>40.866840</td>\n",
              "      <td>39.497201</td>\n",
              "      <td>47.501446</td>\n",
              "      <td>2.813281</td>\n",
              "      <td>50.014681</td>\n",
              "      <td>33.123640</td>\n",
              "    </tr>\n",
              "    <tr>\n",
              "      <th>B8A</th>\n",
              "      <td>5.201287</td>\n",
              "      <td>9.620687</td>\n",
              "      <td>16.451391</td>\n",
              "      <td>23.240764</td>\n",
              "      <td>25.612514</td>\n",
              "      <td>40.355440</td>\n",
              "      <td>49.930547</td>\n",
              "      <td>47.501446</td>\n",
              "      <td>58.576342</td>\n",
              "      <td>1.878569</td>\n",
              "      <td>63.901613</td>\n",
              "      <td>41.843503</td>\n",
              "    </tr>\n",
              "    <tr>\n",
              "      <th>B09</th>\n",
              "      <td>-2.640394</td>\n",
              "      <td>-2.061024</td>\n",
              "      <td>-1.134526</td>\n",
              "      <td>2.502973</td>\n",
              "      <td>4.113392</td>\n",
              "      <td>2.225598</td>\n",
              "      <td>0.805876</td>\n",
              "      <td>2.813281</td>\n",
              "      <td>1.878569</td>\n",
              "      <td>6.181066</td>\n",
              "      <td>12.210059</td>\n",
              "      <td>11.141362</td>\n",
              "    </tr>\n",
              "    <tr>\n",
              "      <th>B11</th>\n",
              "      <td>-3.160916</td>\n",
              "      <td>13.701173</td>\n",
              "      <td>36.978161</td>\n",
              "      <td>88.212617</td>\n",
              "      <td>89.284780</td>\n",
              "      <td>54.767310</td>\n",
              "      <td>44.004629</td>\n",
              "      <td>50.014681</td>\n",
              "      <td>63.901613</td>\n",
              "      <td>12.210059</td>\n",
              "      <td>246.195097</td>\n",
              "      <td>209.070745</td>\n",
              "    </tr>\n",
              "    <tr>\n",
              "      <th>B12</th>\n",
              "      <td>0.569193</td>\n",
              "      <td>17.331429</td>\n",
              "      <td>39.014783</td>\n",
              "      <td>88.522425</td>\n",
              "      <td>85.405709</td>\n",
              "      <td>43.365967</td>\n",
              "      <td>28.715965</td>\n",
              "      <td>33.123640</td>\n",
              "      <td>41.843503</td>\n",
              "      <td>11.141362</td>\n",
              "      <td>209.070745</td>\n",
              "      <td>191.866342</td>\n",
              "    </tr>\n",
              "  </tbody>\n",
              "</table>\n",
              "</div>\n",
              "      <button class=\"colab-df-convert\" onclick=\"convertToInteractive('df-322f947d-47bf-4d6f-b596-9b79fd97d28b')\"\n",
              "              title=\"Convert this dataframe to an interactive table.\"\n",
              "              style=\"display:none;\">\n",
              "        \n",
              "  <svg xmlns=\"http://www.w3.org/2000/svg\" height=\"24px\"viewBox=\"0 0 24 24\"\n",
              "       width=\"24px\">\n",
              "    <path d=\"M0 0h24v24H0V0z\" fill=\"none\"/>\n",
              "    <path d=\"M18.56 5.44l.94 2.06.94-2.06 2.06-.94-2.06-.94-.94-2.06-.94 2.06-2.06.94zm-11 1L8.5 8.5l.94-2.06 2.06-.94-2.06-.94L8.5 2.5l-.94 2.06-2.06.94zm10 10l.94 2.06.94-2.06 2.06-.94-2.06-.94-.94-2.06-.94 2.06-2.06.94z\"/><path d=\"M17.41 7.96l-1.37-1.37c-.4-.4-.92-.59-1.43-.59-.52 0-1.04.2-1.43.59L10.3 9.45l-7.72 7.72c-.78.78-.78 2.05 0 2.83L4 21.41c.39.39.9.59 1.41.59.51 0 1.02-.2 1.41-.59l7.78-7.78 2.81-2.81c.8-.78.8-2.07 0-2.86zM5.41 20L4 18.59l7.72-7.72 1.47 1.35L5.41 20z\"/>\n",
              "  </svg>\n",
              "      </button>\n",
              "      \n",
              "  <style>\n",
              "    .colab-df-container {\n",
              "      display:flex;\n",
              "      flex-wrap:wrap;\n",
              "      gap: 12px;\n",
              "    }\n",
              "\n",
              "    .colab-df-convert {\n",
              "      background-color: #E8F0FE;\n",
              "      border: none;\n",
              "      border-radius: 50%;\n",
              "      cursor: pointer;\n",
              "      display: none;\n",
              "      fill: #1967D2;\n",
              "      height: 32px;\n",
              "      padding: 0 0 0 0;\n",
              "      width: 32px;\n",
              "    }\n",
              "\n",
              "    .colab-df-convert:hover {\n",
              "      background-color: #E2EBFA;\n",
              "      box-shadow: 0px 1px 2px rgba(60, 64, 67, 0.3), 0px 1px 3px 1px rgba(60, 64, 67, 0.15);\n",
              "      fill: #174EA6;\n",
              "    }\n",
              "\n",
              "    [theme=dark] .colab-df-convert {\n",
              "      background-color: #3B4455;\n",
              "      fill: #D2E3FC;\n",
              "    }\n",
              "\n",
              "    [theme=dark] .colab-df-convert:hover {\n",
              "      background-color: #434B5C;\n",
              "      box-shadow: 0px 1px 3px 1px rgba(0, 0, 0, 0.15);\n",
              "      filter: drop-shadow(0px 1px 2px rgba(0, 0, 0, 0.3));\n",
              "      fill: #FFFFFF;\n",
              "    }\n",
              "  </style>\n",
              "\n",
              "      <script>\n",
              "        const buttonEl =\n",
              "          document.querySelector('#df-322f947d-47bf-4d6f-b596-9b79fd97d28b button.colab-df-convert');\n",
              "        buttonEl.style.display =\n",
              "          google.colab.kernel.accessAllowed ? 'block' : 'none';\n",
              "\n",
              "        async function convertToInteractive(key) {\n",
              "          const element = document.querySelector('#df-322f947d-47bf-4d6f-b596-9b79fd97d28b');\n",
              "          const dataTable =\n",
              "            await google.colab.kernel.invokeFunction('convertToInteractive',\n",
              "                                                     [key], {});\n",
              "          if (!dataTable) return;\n",
              "\n",
              "          const docLinkHtml = 'Like what you see? Visit the ' +\n",
              "            '<a target=\"_blank\" href=https://colab.research.google.com/notebooks/data_table.ipynb>data table notebook</a>'\n",
              "            + ' to learn more about interactive tables.';\n",
              "          element.innerHTML = '';\n",
              "          dataTable['output_type'] = 'display_data';\n",
              "          await google.colab.output.renderOutput(dataTable, element);\n",
              "          const docLink = document.createElement('div');\n",
              "          docLink.innerHTML = docLinkHtml;\n",
              "          element.appendChild(docLink);\n",
              "        }\n",
              "      </script>\n",
              "    </div>\n",
              "  </div>\n",
              "  "
            ]
          },
          "metadata": {},
          "execution_count": 112
        }
      ],
      "source": [
        "df1 = df.drop([\"field_id\",\"crop_id\"],axis=1)\n",
        "\n",
        "df1.cov()"
      ]
    },
    {
      "cell_type": "code",
      "execution_count": 113,
      "id": "18a2cc90",
      "metadata": {
        "scrolled": true,
        "colab": {
          "base_uri": "https://localhost:8080/",
          "height": 0
        },
        "id": "18a2cc90",
        "outputId": "f78018ec-6772-4e89-97a3-2168db5d2c50"
      },
      "outputs": [
        {
          "output_type": "execute_result",
          "data": {
            "text/plain": [
              "          B01       B02       B03       B04       B05       B06       B07  \\\n",
              "B01  1.000000  0.874947  0.639455  0.336306  0.257484  0.346883  0.347767   \n",
              "B02  0.874947  1.000000  0.919950  0.718593  0.641421  0.563958  0.455594   \n",
              "B03  0.639455  0.919950  1.000000  0.907952  0.862170  0.704096  0.525813   \n",
              "B04  0.336306  0.718593  0.907952  1.000000  0.978409  0.631736  0.393765   \n",
              "B05  0.257484  0.641421  0.862170  0.978409  1.000000  0.706199  0.460128   \n",
              "B06  0.346883  0.563958  0.704096  0.631736  0.706199  1.000000  0.938439   \n",
              "B07  0.347767  0.455594  0.525813  0.393765  0.460128  0.938439  1.000000   \n",
              "B08  0.227322  0.348833  0.446296  0.378635  0.468682  0.922737  0.974742   \n",
              "B8A  0.236125  0.360517  0.460140  0.386176  0.472121  0.922647  0.977928   \n",
              "B09 -0.369002 -0.237757 -0.097686  0.128032  0.233416  0.156643  0.048589   \n",
              "B11 -0.069995  0.250437  0.504491  0.714968  0.802787  0.610768  0.420398   \n",
              "B12  0.014278  0.358853  0.602945  0.812736  0.869861  0.547828  0.310760   \n",
              "\n",
              "          B08       B8A       B09       B11       B12  \n",
              "B01  0.227322  0.236125 -0.369002 -0.069995  0.014278  \n",
              "B02  0.348833  0.360517 -0.237757  0.250437  0.358853  \n",
              "B03  0.446296  0.460140 -0.097686  0.504491  0.602945  \n",
              "B04  0.378635  0.386176  0.128032  0.714968  0.812736  \n",
              "B05  0.468682  0.472121  0.233416  0.802787  0.869861  \n",
              "B06  0.922737  0.922647  0.156643  0.610768  0.547828  \n",
              "B07  0.974742  0.977928  0.048589  0.420398  0.310760  \n",
              "B08  1.000000  0.987558  0.180052  0.507195  0.380501  \n",
              "B8A  0.987558  1.000000  0.098727  0.532122  0.394700  \n",
              "B09  0.180052  0.098727  1.000000  0.313001  0.323525  \n",
              "B11  0.507195  0.532122  0.313001  1.000000  0.961954  \n",
              "B12  0.380501  0.394700  0.323525  0.961954  1.000000  "
            ],
            "text/html": [
              "\n",
              "  <div id=\"df-4f4715a5-8f1b-4ba7-a947-94dec78ad5e2\">\n",
              "    <div class=\"colab-df-container\">\n",
              "      <div>\n",
              "<style scoped>\n",
              "    .dataframe tbody tr th:only-of-type {\n",
              "        vertical-align: middle;\n",
              "    }\n",
              "\n",
              "    .dataframe tbody tr th {\n",
              "        vertical-align: top;\n",
              "    }\n",
              "\n",
              "    .dataframe thead th {\n",
              "        text-align: right;\n",
              "    }\n",
              "</style>\n",
              "<table border=\"1\" class=\"dataframe\">\n",
              "  <thead>\n",
              "    <tr style=\"text-align: right;\">\n",
              "      <th></th>\n",
              "      <th>B01</th>\n",
              "      <th>B02</th>\n",
              "      <th>B03</th>\n",
              "      <th>B04</th>\n",
              "      <th>B05</th>\n",
              "      <th>B06</th>\n",
              "      <th>B07</th>\n",
              "      <th>B08</th>\n",
              "      <th>B8A</th>\n",
              "      <th>B09</th>\n",
              "      <th>B11</th>\n",
              "      <th>B12</th>\n",
              "    </tr>\n",
              "  </thead>\n",
              "  <tbody>\n",
              "    <tr>\n",
              "      <th>B01</th>\n",
              "      <td>1.000000</td>\n",
              "      <td>0.874947</td>\n",
              "      <td>0.639455</td>\n",
              "      <td>0.336306</td>\n",
              "      <td>0.257484</td>\n",
              "      <td>0.346883</td>\n",
              "      <td>0.347767</td>\n",
              "      <td>0.227322</td>\n",
              "      <td>0.236125</td>\n",
              "      <td>-0.369002</td>\n",
              "      <td>-0.069995</td>\n",
              "      <td>0.014278</td>\n",
              "    </tr>\n",
              "    <tr>\n",
              "      <th>B02</th>\n",
              "      <td>0.874947</td>\n",
              "      <td>1.000000</td>\n",
              "      <td>0.919950</td>\n",
              "      <td>0.718593</td>\n",
              "      <td>0.641421</td>\n",
              "      <td>0.563958</td>\n",
              "      <td>0.455594</td>\n",
              "      <td>0.348833</td>\n",
              "      <td>0.360517</td>\n",
              "      <td>-0.237757</td>\n",
              "      <td>0.250437</td>\n",
              "      <td>0.358853</td>\n",
              "    </tr>\n",
              "    <tr>\n",
              "      <th>B03</th>\n",
              "      <td>0.639455</td>\n",
              "      <td>0.919950</td>\n",
              "      <td>1.000000</td>\n",
              "      <td>0.907952</td>\n",
              "      <td>0.862170</td>\n",
              "      <td>0.704096</td>\n",
              "      <td>0.525813</td>\n",
              "      <td>0.446296</td>\n",
              "      <td>0.460140</td>\n",
              "      <td>-0.097686</td>\n",
              "      <td>0.504491</td>\n",
              "      <td>0.602945</td>\n",
              "    </tr>\n",
              "    <tr>\n",
              "      <th>B04</th>\n",
              "      <td>0.336306</td>\n",
              "      <td>0.718593</td>\n",
              "      <td>0.907952</td>\n",
              "      <td>1.000000</td>\n",
              "      <td>0.978409</td>\n",
              "      <td>0.631736</td>\n",
              "      <td>0.393765</td>\n",
              "      <td>0.378635</td>\n",
              "      <td>0.386176</td>\n",
              "      <td>0.128032</td>\n",
              "      <td>0.714968</td>\n",
              "      <td>0.812736</td>\n",
              "    </tr>\n",
              "    <tr>\n",
              "      <th>B05</th>\n",
              "      <td>0.257484</td>\n",
              "      <td>0.641421</td>\n",
              "      <td>0.862170</td>\n",
              "      <td>0.978409</td>\n",
              "      <td>1.000000</td>\n",
              "      <td>0.706199</td>\n",
              "      <td>0.460128</td>\n",
              "      <td>0.468682</td>\n",
              "      <td>0.472121</td>\n",
              "      <td>0.233416</td>\n",
              "      <td>0.802787</td>\n",
              "      <td>0.869861</td>\n",
              "    </tr>\n",
              "    <tr>\n",
              "      <th>B06</th>\n",
              "      <td>0.346883</td>\n",
              "      <td>0.563958</td>\n",
              "      <td>0.704096</td>\n",
              "      <td>0.631736</td>\n",
              "      <td>0.706199</td>\n",
              "      <td>1.000000</td>\n",
              "      <td>0.938439</td>\n",
              "      <td>0.922737</td>\n",
              "      <td>0.922647</td>\n",
              "      <td>0.156643</td>\n",
              "      <td>0.610768</td>\n",
              "      <td>0.547828</td>\n",
              "    </tr>\n",
              "    <tr>\n",
              "      <th>B07</th>\n",
              "      <td>0.347767</td>\n",
              "      <td>0.455594</td>\n",
              "      <td>0.525813</td>\n",
              "      <td>0.393765</td>\n",
              "      <td>0.460128</td>\n",
              "      <td>0.938439</td>\n",
              "      <td>1.000000</td>\n",
              "      <td>0.974742</td>\n",
              "      <td>0.977928</td>\n",
              "      <td>0.048589</td>\n",
              "      <td>0.420398</td>\n",
              "      <td>0.310760</td>\n",
              "    </tr>\n",
              "    <tr>\n",
              "      <th>B08</th>\n",
              "      <td>0.227322</td>\n",
              "      <td>0.348833</td>\n",
              "      <td>0.446296</td>\n",
              "      <td>0.378635</td>\n",
              "      <td>0.468682</td>\n",
              "      <td>0.922737</td>\n",
              "      <td>0.974742</td>\n",
              "      <td>1.000000</td>\n",
              "      <td>0.987558</td>\n",
              "      <td>0.180052</td>\n",
              "      <td>0.507195</td>\n",
              "      <td>0.380501</td>\n",
              "    </tr>\n",
              "    <tr>\n",
              "      <th>B8A</th>\n",
              "      <td>0.236125</td>\n",
              "      <td>0.360517</td>\n",
              "      <td>0.460140</td>\n",
              "      <td>0.386176</td>\n",
              "      <td>0.472121</td>\n",
              "      <td>0.922647</td>\n",
              "      <td>0.977928</td>\n",
              "      <td>0.987558</td>\n",
              "      <td>1.000000</td>\n",
              "      <td>0.098727</td>\n",
              "      <td>0.532122</td>\n",
              "      <td>0.394700</td>\n",
              "    </tr>\n",
              "    <tr>\n",
              "      <th>B09</th>\n",
              "      <td>-0.369002</td>\n",
              "      <td>-0.237757</td>\n",
              "      <td>-0.097686</td>\n",
              "      <td>0.128032</td>\n",
              "      <td>0.233416</td>\n",
              "      <td>0.156643</td>\n",
              "      <td>0.048589</td>\n",
              "      <td>0.180052</td>\n",
              "      <td>0.098727</td>\n",
              "      <td>1.000000</td>\n",
              "      <td>0.313001</td>\n",
              "      <td>0.323525</td>\n",
              "    </tr>\n",
              "    <tr>\n",
              "      <th>B11</th>\n",
              "      <td>-0.069995</td>\n",
              "      <td>0.250437</td>\n",
              "      <td>0.504491</td>\n",
              "      <td>0.714968</td>\n",
              "      <td>0.802787</td>\n",
              "      <td>0.610768</td>\n",
              "      <td>0.420398</td>\n",
              "      <td>0.507195</td>\n",
              "      <td>0.532122</td>\n",
              "      <td>0.313001</td>\n",
              "      <td>1.000000</td>\n",
              "      <td>0.961954</td>\n",
              "    </tr>\n",
              "    <tr>\n",
              "      <th>B12</th>\n",
              "      <td>0.014278</td>\n",
              "      <td>0.358853</td>\n",
              "      <td>0.602945</td>\n",
              "      <td>0.812736</td>\n",
              "      <td>0.869861</td>\n",
              "      <td>0.547828</td>\n",
              "      <td>0.310760</td>\n",
              "      <td>0.380501</td>\n",
              "      <td>0.394700</td>\n",
              "      <td>0.323525</td>\n",
              "      <td>0.961954</td>\n",
              "      <td>1.000000</td>\n",
              "    </tr>\n",
              "  </tbody>\n",
              "</table>\n",
              "</div>\n",
              "      <button class=\"colab-df-convert\" onclick=\"convertToInteractive('df-4f4715a5-8f1b-4ba7-a947-94dec78ad5e2')\"\n",
              "              title=\"Convert this dataframe to an interactive table.\"\n",
              "              style=\"display:none;\">\n",
              "        \n",
              "  <svg xmlns=\"http://www.w3.org/2000/svg\" height=\"24px\"viewBox=\"0 0 24 24\"\n",
              "       width=\"24px\">\n",
              "    <path d=\"M0 0h24v24H0V0z\" fill=\"none\"/>\n",
              "    <path d=\"M18.56 5.44l.94 2.06.94-2.06 2.06-.94-2.06-.94-.94-2.06-.94 2.06-2.06.94zm-11 1L8.5 8.5l.94-2.06 2.06-.94-2.06-.94L8.5 2.5l-.94 2.06-2.06.94zm10 10l.94 2.06.94-2.06 2.06-.94-2.06-.94-.94-2.06-.94 2.06-2.06.94z\"/><path d=\"M17.41 7.96l-1.37-1.37c-.4-.4-.92-.59-1.43-.59-.52 0-1.04.2-1.43.59L10.3 9.45l-7.72 7.72c-.78.78-.78 2.05 0 2.83L4 21.41c.39.39.9.59 1.41.59.51 0 1.02-.2 1.41-.59l7.78-7.78 2.81-2.81c.8-.78.8-2.07 0-2.86zM5.41 20L4 18.59l7.72-7.72 1.47 1.35L5.41 20z\"/>\n",
              "  </svg>\n",
              "      </button>\n",
              "      \n",
              "  <style>\n",
              "    .colab-df-container {\n",
              "      display:flex;\n",
              "      flex-wrap:wrap;\n",
              "      gap: 12px;\n",
              "    }\n",
              "\n",
              "    .colab-df-convert {\n",
              "      background-color: #E8F0FE;\n",
              "      border: none;\n",
              "      border-radius: 50%;\n",
              "      cursor: pointer;\n",
              "      display: none;\n",
              "      fill: #1967D2;\n",
              "      height: 32px;\n",
              "      padding: 0 0 0 0;\n",
              "      width: 32px;\n",
              "    }\n",
              "\n",
              "    .colab-df-convert:hover {\n",
              "      background-color: #E2EBFA;\n",
              "      box-shadow: 0px 1px 2px rgba(60, 64, 67, 0.3), 0px 1px 3px 1px rgba(60, 64, 67, 0.15);\n",
              "      fill: #174EA6;\n",
              "    }\n",
              "\n",
              "    [theme=dark] .colab-df-convert {\n",
              "      background-color: #3B4455;\n",
              "      fill: #D2E3FC;\n",
              "    }\n",
              "\n",
              "    [theme=dark] .colab-df-convert:hover {\n",
              "      background-color: #434B5C;\n",
              "      box-shadow: 0px 1px 3px 1px rgba(0, 0, 0, 0.15);\n",
              "      filter: drop-shadow(0px 1px 2px rgba(0, 0, 0, 0.3));\n",
              "      fill: #FFFFFF;\n",
              "    }\n",
              "  </style>\n",
              "\n",
              "      <script>\n",
              "        const buttonEl =\n",
              "          document.querySelector('#df-4f4715a5-8f1b-4ba7-a947-94dec78ad5e2 button.colab-df-convert');\n",
              "        buttonEl.style.display =\n",
              "          google.colab.kernel.accessAllowed ? 'block' : 'none';\n",
              "\n",
              "        async function convertToInteractive(key) {\n",
              "          const element = document.querySelector('#df-4f4715a5-8f1b-4ba7-a947-94dec78ad5e2');\n",
              "          const dataTable =\n",
              "            await google.colab.kernel.invokeFunction('convertToInteractive',\n",
              "                                                     [key], {});\n",
              "          if (!dataTable) return;\n",
              "\n",
              "          const docLinkHtml = 'Like what you see? Visit the ' +\n",
              "            '<a target=\"_blank\" href=https://colab.research.google.com/notebooks/data_table.ipynb>data table notebook</a>'\n",
              "            + ' to learn more about interactive tables.';\n",
              "          element.innerHTML = '';\n",
              "          dataTable['output_type'] = 'display_data';\n",
              "          await google.colab.output.renderOutput(dataTable, element);\n",
              "          const docLink = document.createElement('div');\n",
              "          docLink.innerHTML = docLinkHtml;\n",
              "          element.appendChild(docLink);\n",
              "        }\n",
              "      </script>\n",
              "    </div>\n",
              "  </div>\n",
              "  "
            ]
          },
          "metadata": {},
          "execution_count": 113
        }
      ],
      "source": [
        "df1.corr()"
      ]
    },
    {
      "cell_type": "code",
      "execution_count": 114,
      "id": "036fb8ee",
      "metadata": {
        "colab": {
          "base_uri": "https://localhost:8080/"
        },
        "id": "036fb8ee",
        "outputId": "b42cb220-629b-4098-9ab7-7493ab8ac6e4"
      },
      "outputs": [
        {
          "output_type": "stream",
          "name": "stdout",
          "text": [
            "B01 is more correlated with ['B01', 'B02', 'B03']\n",
            "B02 is more correlated with ['B01', 'B02', 'B03', 'B04', 'B05', 'B06', 'B07']\n",
            "B03 is more correlated with ['B01', 'B02', 'B03', 'B04', 'B05', 'B06', 'B07', 'B08', 'B8A', 'B11', 'B12']\n",
            "B04 is more correlated with ['B02', 'B03', 'B04', 'B05', 'B06', 'B11', 'B12']\n",
            "B05 is more correlated with ['B02', 'B03', 'B04', 'B05', 'B06', 'B07', 'B08', 'B8A', 'B11', 'B12']\n",
            "B06 is more correlated with ['B02', 'B03', 'B04', 'B05', 'B06', 'B07', 'B08', 'B8A', 'B11', 'B12']\n",
            "B07 is more correlated with ['B02', 'B03', 'B05', 'B06', 'B07', 'B08', 'B8A']\n",
            "B08 is more correlated with ['B03', 'B05', 'B06', 'B07', 'B08', 'B8A', 'B11']\n",
            "B8A is more correlated with ['B03', 'B05', 'B06', 'B07', 'B08', 'B8A', 'B11']\n",
            "B09 is more correlated with ['B09']\n",
            "B11 is more correlated with ['B03', 'B04', 'B05', 'B06', 'B08', 'B8A', 'B11', 'B12']\n",
            "B12 is more correlated with ['B03', 'B04', 'B05', 'B06', 'B11', 'B12']\n"
          ]
        }
      ],
      "source": [
        "\n",
        "def is_more_correlated(corrdf,alpha):\n",
        "        list_of_columns = corrdf.columns\n",
        "        \n",
        "        for columns in list_of_columns :\n",
        "            \n",
        "    \n",
        "            e = [i for (z,i) in zip(corrdf[columns].values,list_of_columns) if z>alpha]\n",
        "        \n",
        "            print(f\"{columns} is more correlated with {e}\")\n",
        "\n",
        "corrdf = df1.corr()\n",
        "alpha = 0.44\n",
        "is_more_correlated(corrdf,alpha)\n"
      ]
    },
    {
      "cell_type": "code",
      "execution_count": 115,
      "id": "14497b2f",
      "metadata": {
        "id": "14497b2f"
      },
      "outputs": [],
      "source": [
        "# i suggest that we drop  B09"
      ]
    },
    {
      "cell_type": "markdown",
      "id": "7f49eba3",
      "metadata": {
        "id": "7f49eba3"
      },
      "source": [
        "## Here firstly we have to define correlation coefficient "
      ]
    },
    {
      "cell_type": "code",
      "execution_count": 116,
      "id": "d3317b75",
      "metadata": {
        "id": "d3317b75"
      },
      "outputs": [],
      "source": [
        "# 1- i think that if we want to go on with traditional machine learning algorithm  we have to combine channel values surely using PCA"
      ]
    },
    {
      "cell_type": "markdown",
      "source": [
        "#Defining differents traditionnals machine learning models"
      ],
      "metadata": {
        "id": "z7eOQzh_z-R3"
      },
      "id": "z7eOQzh_z-R3"
    },
    {
      "cell_type": "code",
      "source": [],
      "metadata": {
        "id": "AbnwASLZVdx3"
      },
      "id": "AbnwASLZVdx3",
      "execution_count": 116,
      "outputs": []
    },
    {
      "cell_type": "markdown",
      "source": [
        "##Differents imports"
      ],
      "metadata": {
        "id": "lkdcDH_zZYgq"
      },
      "id": "lkdcDH_zZYgq"
    },
    {
      "cell_type": "code",
      "source": [
        "from sklearn.ensemble import RandomForestClassifier\n",
        "from sklearn.svm import SVC\n",
        "from sklearn.model_selection import GridSearchCV\n",
        "from sklearn.naive_bayes import GaussianNB\n",
        "from sklearn.neighbors import KNeighborsClassifier\n",
        "from sklearn.multiclass import OneVsRestClassifier\n",
        "from xgboost import XGBClassifier\n",
        "from sklearn.model_selection import cross_val_score\n",
        "from sklearn.preprocessing import MultiLabelBinarizer\n",
        "from sklearn.metrics import log_loss\n",
        "from sklearn.model_selection import train_test_split\n",
        "from sklearn.metrics import classification_report"
      ],
      "metadata": {
        "id": "1EOzaNQi1RuI"
      },
      "id": "1EOzaNQi1RuI",
      "execution_count": 150,
      "outputs": []
    },
    {
      "cell_type": "markdown",
      "source": [
        "#Splitting Data into train_test"
      ],
      "metadata": {
        "id": "UOE_4WCZduFq"
      },
      "id": "UOE_4WCZduFq"
    },
    {
      "cell_type": "code",
      "source": [
        "# split data for model training and evaluation \n",
        "\n",
        "X_train, X_test, y_train, y_test =  train_test_split(df.drop(['field_id', 'crop_id'], axis=1), df['crop_id'] , test_size=0.25, random_state=42)"
      ],
      "metadata": {
        "id": "n5VkLC8I1cK7"
      },
      "id": "n5VkLC8I1cK7",
      "execution_count": 118,
      "outputs": []
    },
    {
      "cell_type": "code",
      "source": [
        "X_train.shape, X_test.shape, y_train.shape, y_test.shape"
      ],
      "metadata": {
        "colab": {
          "base_uri": "https://localhost:8080/"
        },
        "id": "N2s-zsp31uSe",
        "outputId": "01cf3a45-4625-4f1f-8d22-65d8ed3053ee"
      },
      "id": "N2s-zsp31uSe",
      "execution_count": 119,
      "outputs": [
        {
          "output_type": "execute_result",
          "data": {
            "text/plain": [
              "((4163, 12), (1388, 12), (4163,), (1388,))"
            ]
          },
          "metadata": {},
          "execution_count": 119
        }
      ]
    },
    {
      "cell_type": "markdown",
      "source": [
        "##K-Nearest Neighbors\n"
      ],
      "metadata": {
        "id": "dBolmrTuVX8e"
      },
      "id": "dBolmrTuVX8e"
    },
    {
      "cell_type": "code",
      "source": [],
      "metadata": {
        "id": "1nxjLbRBVhM0"
      },
      "id": "1nxjLbRBVhM0",
      "execution_count": 119,
      "outputs": []
    },
    {
      "cell_type": "markdown",
      "source": [
        "###Training"
      ],
      "metadata": {
        "id": "XhmoJpfbVolP"
      },
      "id": "XhmoJpfbVolP"
    },
    {
      "cell_type": "code",
      "source": [
        "knn = KNeighborsClassifier(n_neighbors = 7)\n",
        "knn.fit(X_train, y_train.astype(int))"
      ],
      "metadata": {
        "colab": {
          "base_uri": "https://localhost:8080/"
        },
        "id": "a1Gzu0UEVuyj",
        "outputId": "596254ed-98c6-42b0-9eb7-af33e9f99014"
      },
      "id": "a1Gzu0UEVuyj",
      "execution_count": 120,
      "outputs": [
        {
          "output_type": "execute_result",
          "data": {
            "text/plain": [
              "KNeighborsClassifier(n_neighbors=7)"
            ]
          },
          "metadata": {},
          "execution_count": 120
        }
      ]
    },
    {
      "cell_type": "markdown",
      "source": [
        "###Testing"
      ],
      "metadata": {
        "id": "i7DC0HO-V2LI"
      },
      "id": "i7DC0HO-V2LI"
    },
    {
      "cell_type": "code",
      "source": [
        "\n",
        "y_pred_crop_knn = knn.predict(X_test)\n",
        "\n",
        "print(classification_report(y_test,y_pred_crop_knn))"
      ],
      "metadata": {
        "id": "QtCucBzfV53y",
        "colab": {
          "base_uri": "https://localhost:8080/"
        },
        "outputId": "eb0522dc-89d1-4e5a-d3f3-3bbd9e14ee33"
      },
      "id": "QtCucBzfV53y",
      "execution_count": 121,
      "outputs": [
        {
          "output_type": "stream",
          "name": "stdout",
          "text": [
            "              precision    recall  f1-score   support\n",
            "\n",
            "           1       0.61      0.81      0.70       516\n",
            "           2       0.40      0.34      0.37       235\n",
            "           3       0.00      0.00      0.00        27\n",
            "           4       0.81      0.72      0.76       422\n",
            "           5       0.00      0.00      0.00         4\n",
            "           6       0.18      0.07      0.10        44\n",
            "           8       0.00      0.00      0.00        15\n",
            "           9       0.65      0.85      0.74        78\n",
            "          13       0.25      0.13      0.17        15\n",
            "          14       0.00      0.00      0.00         2\n",
            "          15       0.00      0.00      0.00         7\n",
            "          16       0.00      0.00      0.00         3\n",
            "          36       0.25      0.05      0.08        20\n",
            "\n",
            "    accuracy                           0.63      1388\n",
            "   macro avg       0.24      0.23      0.22      1388\n",
            "weighted avg       0.59      0.63      0.60      1388\n",
            "\n"
          ]
        },
        {
          "output_type": "stream",
          "name": "stderr",
          "text": [
            "/usr/local/lib/python3.7/dist-packages/sklearn/metrics/_classification.py:1318: UndefinedMetricWarning: Precision and F-score are ill-defined and being set to 0.0 in labels with no predicted samples. Use `zero_division` parameter to control this behavior.\n",
            "  _warn_prf(average, modifier, msg_start, len(result))\n",
            "/usr/local/lib/python3.7/dist-packages/sklearn/metrics/_classification.py:1318: UndefinedMetricWarning: Precision and F-score are ill-defined and being set to 0.0 in labels with no predicted samples. Use `zero_division` parameter to control this behavior.\n",
            "  _warn_prf(average, modifier, msg_start, len(result))\n",
            "/usr/local/lib/python3.7/dist-packages/sklearn/metrics/_classification.py:1318: UndefinedMetricWarning: Precision and F-score are ill-defined and being set to 0.0 in labels with no predicted samples. Use `zero_division` parameter to control this behavior.\n",
            "  _warn_prf(average, modifier, msg_start, len(result))\n"
          ]
        }
      ]
    },
    {
      "cell_type": "code",
      "source": [
        "y_pred_proba_knn = knn.predict_proba(X_test)"
      ],
      "metadata": {
        "id": "VlCIJ3FCXRWR"
      },
      "id": "VlCIJ3FCXRWR",
      "execution_count": 122,
      "outputs": []
    },
    {
      "cell_type": "markdown",
      "source": [
        "###Cross Entropy"
      ],
      "metadata": {
        "id": "PuD4ACi2W0ur"
      },
      "id": "PuD4ACi2W0ur"
    },
    {
      "cell_type": "code",
      "source": [
        "cross_loss_knn = log_loss(y_test,y_pred_proba_knn)\n",
        "print(cross_loss_knn)"
      ],
      "metadata": {
        "id": "nzVnhG9hW6la",
        "colab": {
          "base_uri": "https://localhost:8080/"
        },
        "outputId": "b3f89563-940f-4d19-ea8f-23f24ea3d150"
      },
      "id": "nzVnhG9hW6la",
      "execution_count": 123,
      "outputs": [
        {
          "output_type": "stream",
          "name": "stdout",
          "text": [
            "4.575014718123374\n"
          ]
        }
      ]
    },
    {
      "cell_type": "markdown",
      "source": [
        "##Support vector machine"
      ],
      "metadata": {
        "id": "JHeGoOhn0I63"
      },
      "id": "JHeGoOhn0I63"
    },
    {
      "cell_type": "markdown",
      "source": [
        "###Training"
      ],
      "metadata": {
        "id": "iq8hXT0PQ-3S"
      },
      "id": "iq8hXT0PQ-3S"
    },
    {
      "cell_type": "code",
      "source": [
        "svm_model_linear = SVC(kernel = 'linear', C = 1,probability=True)\n",
        "svm_model_linear.fit(X_train, y_train.astype(int))"
      ],
      "metadata": {
        "id": "ZW_ujZDY1T3d",
        "colab": {
          "base_uri": "https://localhost:8080/"
        },
        "outputId": "dc2d9592-56d5-4c07-cc87-512e53b7e1d1"
      },
      "id": "ZW_ujZDY1T3d",
      "execution_count": 124,
      "outputs": [
        {
          "output_type": "execute_result",
          "data": {
            "text/plain": [
              "SVC(C=1, kernel='linear', probability=True)"
            ]
          },
          "metadata": {},
          "execution_count": 124
        }
      ]
    },
    {
      "cell_type": "markdown",
      "source": [
        "###testing"
      ],
      "metadata": {
        "id": "7ImI3wb-RR0T"
      },
      "id": "7ImI3wb-RR0T"
    },
    {
      "cell_type": "code",
      "source": [
        "\n",
        "y_pred_crop = svm_model_linear.predict(X_test)\n",
        "\n",
        "print(classification_report(y_test,y_pred_crop))"
      ],
      "metadata": {
        "colab": {
          "base_uri": "https://localhost:8080/"
        },
        "id": "ljwpI72iRV9r",
        "outputId": "2b41e7e2-6062-404c-82e7-3b72c0dfc39d"
      },
      "id": "ljwpI72iRV9r",
      "execution_count": 125,
      "outputs": [
        {
          "output_type": "stream",
          "name": "stdout",
          "text": [
            "              precision    recall  f1-score   support\n",
            "\n",
            "           1       0.57      0.92      0.71       516\n",
            "           2       0.41      0.05      0.09       235\n",
            "           3       0.00      0.00      0.00        27\n",
            "           4       0.74      0.75      0.74       422\n",
            "           5       0.00      0.00      0.00         4\n",
            "           6       0.00      0.00      0.00        44\n",
            "           8       0.00      0.00      0.00        15\n",
            "           9       0.68      0.86      0.76        78\n",
            "          13       0.00      0.00      0.00        15\n",
            "          14       0.00      0.00      0.00         2\n",
            "          15       0.00      0.00      0.00         7\n",
            "          16       0.00      0.00      0.00         3\n",
            "          36       0.00      0.00      0.00        20\n",
            "\n",
            "    accuracy                           0.63      1388\n",
            "   macro avg       0.19      0.20      0.18      1388\n",
            "weighted avg       0.55      0.63      0.55      1388\n",
            "\n"
          ]
        },
        {
          "output_type": "stream",
          "name": "stderr",
          "text": [
            "/usr/local/lib/python3.7/dist-packages/sklearn/metrics/_classification.py:1318: UndefinedMetricWarning: Precision and F-score are ill-defined and being set to 0.0 in labels with no predicted samples. Use `zero_division` parameter to control this behavior.\n",
            "  _warn_prf(average, modifier, msg_start, len(result))\n",
            "/usr/local/lib/python3.7/dist-packages/sklearn/metrics/_classification.py:1318: UndefinedMetricWarning: Precision and F-score are ill-defined and being set to 0.0 in labels with no predicted samples. Use `zero_division` parameter to control this behavior.\n",
            "  _warn_prf(average, modifier, msg_start, len(result))\n",
            "/usr/local/lib/python3.7/dist-packages/sklearn/metrics/_classification.py:1318: UndefinedMetricWarning: Precision and F-score are ill-defined and being set to 0.0 in labels with no predicted samples. Use `zero_division` parameter to control this behavior.\n",
            "  _warn_prf(average, modifier, msg_start, len(result))\n"
          ]
        }
      ]
    },
    {
      "cell_type": "code",
      "source": [
        "y_pred_proba_svm = svm_model_linear.predict_proba(X_test)"
      ],
      "metadata": {
        "id": "UE9KDYesSGM0"
      },
      "id": "UE9KDYesSGM0",
      "execution_count": 126,
      "outputs": []
    },
    {
      "cell_type": "markdown",
      "source": [
        "###Cross entropy loss"
      ],
      "metadata": {
        "id": "PjYfXtIcR7kJ"
      },
      "id": "PjYfXtIcR7kJ"
    },
    {
      "cell_type": "code",
      "source": [
        "cross_loss_svm = log_loss(y_test,y_pred_proba_svm)\n",
        "print(cross_loss_svm)"
      ],
      "metadata": {
        "colab": {
          "base_uri": "https://localhost:8080/"
        },
        "id": "5oVw7MiISAOn",
        "outputId": "6d4c38ea-c821-4dd3-b1d1-7cf5e2926d8a"
      },
      "id": "5oVw7MiISAOn",
      "execution_count": 127,
      "outputs": [
        {
          "output_type": "stream",
          "name": "stdout",
          "text": [
            "1.0835088316907435\n"
          ]
        }
      ]
    },
    {
      "cell_type": "markdown",
      "source": [
        "##Random Forest"
      ],
      "metadata": {
        "id": "EheBSTwi1V7A"
      },
      "id": "EheBSTwi1V7A"
    },
    {
      "cell_type": "markdown",
      "source": [
        "###Training"
      ],
      "metadata": {
        "id": "McQRTd9LQbez"
      },
      "id": "McQRTd9LQbez"
    },
    {
      "cell_type": "code",
      "source": [
        "# We ran a simple hyperparameter tuning for the number of trees, and concluded to use:\n",
        "n_trees = 300\n",
        "\n",
        "# Fitting the RF model\n",
        "rf = RandomForestClassifier(n_estimators = n_trees,   oob_score = True, n_jobs = -1,random_state =50,max_features = \"auto\", min_samples_leaf = 10)\n",
        "rf.fit(X_train, y_train.astype(int))\n",
        "\n",
        "# trained classes\n",
        "\n",
        "rf.classes_"
      ],
      "metadata": {
        "colab": {
          "base_uri": "https://localhost:8080/"
        },
        "id": "9rAgg_801VTI",
        "outputId": "0c42c6b6-633d-4019-8e4c-fef45aabc633"
      },
      "id": "9rAgg_801VTI",
      "execution_count": 128,
      "outputs": [
        {
          "output_type": "execute_result",
          "data": {
            "text/plain": [
              "array([ 1,  2,  3,  4,  5,  6,  8,  9, 13, 14, 15, 16, 36])"
            ]
          },
          "metadata": {},
          "execution_count": 128
        }
      ]
    },
    {
      "cell_type": "markdown",
      "source": [
        "###testing"
      ],
      "metadata": {
        "id": "BvNPZEOJQhjy"
      },
      "id": "BvNPZEOJQhjy"
    },
    {
      "cell_type": "code",
      "source": [
        "\n",
        "y_pred_crop1 = rf.predict(X_test)\n",
        "\n",
        "print(classification_report(y_test,y_pred_crop1))"
      ],
      "metadata": {
        "colab": {
          "base_uri": "https://localhost:8080/"
        },
        "id": "JOojnxBH0PPl",
        "outputId": "c96ea90a-1b1e-4eba-8700-36af83f2b9c9"
      },
      "id": "JOojnxBH0PPl",
      "execution_count": 129,
      "outputs": [
        {
          "output_type": "stream",
          "name": "stdout",
          "text": [
            "              precision    recall  f1-score   support\n",
            "\n",
            "           1       0.62      0.88      0.73       516\n",
            "           2       0.45      0.30      0.36       235\n",
            "           3       0.00      0.00      0.00        27\n",
            "           4       0.78      0.74      0.76       422\n",
            "           5       0.00      0.00      0.00         4\n",
            "           6       0.33      0.07      0.11        44\n",
            "           8       0.00      0.00      0.00        15\n",
            "           9       0.72      0.88      0.79        78\n",
            "          13       0.00      0.00      0.00        15\n",
            "          14       0.00      0.00      0.00         2\n",
            "          15       0.00      0.00      0.00         7\n",
            "          16       0.00      0.00      0.00         3\n",
            "          36       0.00      0.00      0.00        20\n",
            "\n",
            "    accuracy                           0.66      1388\n",
            "   macro avg       0.22      0.22      0.21      1388\n",
            "weighted avg       0.60      0.66      0.61      1388\n",
            "\n"
          ]
        },
        {
          "output_type": "stream",
          "name": "stderr",
          "text": [
            "/usr/local/lib/python3.7/dist-packages/sklearn/metrics/_classification.py:1318: UndefinedMetricWarning: Precision and F-score are ill-defined and being set to 0.0 in labels with no predicted samples. Use `zero_division` parameter to control this behavior.\n",
            "  _warn_prf(average, modifier, msg_start, len(result))\n",
            "/usr/local/lib/python3.7/dist-packages/sklearn/metrics/_classification.py:1318: UndefinedMetricWarning: Precision and F-score are ill-defined and being set to 0.0 in labels with no predicted samples. Use `zero_division` parameter to control this behavior.\n",
            "  _warn_prf(average, modifier, msg_start, len(result))\n",
            "/usr/local/lib/python3.7/dist-packages/sklearn/metrics/_classification.py:1318: UndefinedMetricWarning: Precision and F-score are ill-defined and being set to 0.0 in labels with no predicted samples. Use `zero_division` parameter to control this behavior.\n",
            "  _warn_prf(average, modifier, msg_start, len(result))\n"
          ]
        }
      ]
    },
    {
      "cell_type": "code",
      "source": [
        "y_pred_proba_rf = rf.predict_proba(X_test)"
      ],
      "metadata": {
        "id": "OglssM_OCr8m"
      },
      "id": "OglssM_OCr8m",
      "execution_count": 130,
      "outputs": []
    },
    {
      "cell_type": "markdown",
      "source": [
        "###Cross entropy loss"
      ],
      "metadata": {
        "id": "0CZs9v9AQtqb"
      },
      "id": "0CZs9v9AQtqb"
    },
    {
      "cell_type": "code",
      "source": [
        "cross_loss = log_loss(y_test,y_pred_proba_rf)\n",
        "print(cross_loss)"
      ],
      "metadata": {
        "id": "XfP7I0tA5Q-W",
        "colab": {
          "base_uri": "https://localhost:8080/"
        },
        "outputId": "663283c8-7868-4ba0-b560-f2ed1ae5c5a1"
      },
      "id": "XfP7I0tA5Q-W",
      "execution_count": 131,
      "outputs": [
        {
          "output_type": "stream",
          "name": "stdout",
          "text": [
            "1.053847102283575\n"
          ]
        }
      ]
    },
    {
      "cell_type": "code",
      "source": [],
      "metadata": {
        "id": "IEySzAP3T2p7"
      },
      "id": "IEySzAP3T2p7",
      "execution_count": 131,
      "outputs": []
    },
    {
      "cell_type": "markdown",
      "source": [
        "##OneVsRest Algorithm"
      ],
      "metadata": {
        "id": "q02WsgW4YlBc"
      },
      "id": "q02WsgW4YlBc"
    },
    {
      "cell_type": "markdown",
      "source": [
        "###Training"
      ],
      "metadata": {
        "id": "b398DDSIYoTH"
      },
      "id": "b398DDSIYoTH"
    },
    {
      "cell_type": "code",
      "source": [],
      "metadata": {
        "id": "x49fBsTNY03h"
      },
      "id": "x49fBsTNY03h",
      "execution_count": 131,
      "outputs": []
    },
    {
      "cell_type": "markdown",
      "source": [
        "###Testing"
      ],
      "metadata": {
        "id": "mRrK_PHeYpRk"
      },
      "id": "mRrK_PHeYpRk"
    },
    {
      "cell_type": "markdown",
      "source": [
        "###Cross entropy loss"
      ],
      "metadata": {
        "id": "POc0o2JiYpha"
      },
      "id": "POc0o2JiYpha"
    },
    {
      "cell_type": "markdown",
      "source": [
        "##XGBOOST"
      ],
      "metadata": {
        "id": "VW6xIMf0Y8j1"
      },
      "id": "VW6xIMf0Y8j1"
    },
    {
      "cell_type": "markdown",
      "source": [
        "###Training"
      ],
      "metadata": {
        "id": "1DG-nn3oZDi3"
      },
      "id": "1DG-nn3oZDi3"
    },
    {
      "cell_type": "code",
      "source": [
        "Onerest = OneVsRestClassifier(XGBClassifier(n_jobs=-1, max_depth=2))"
      ],
      "metadata": {
        "id": "g6vVZJgpZNL4"
      },
      "id": "g6vVZJgpZNL4",
      "execution_count": 132,
      "outputs": []
    },
    {
      "cell_type": "code",
      "source": [
        "# You may need to use MultiLabelBinarizer to encode your variables from arrays [[x, y, z]] to a multilabel \n",
        "# format before training.\n",
        "mlb = MultiLabelBinarizer()\n",
        "#\n",
        "\n",
        "Onerest.fit(X_train, y_train.astype(int))\n",
        "\n"
      ],
      "metadata": {
        "colab": {
          "base_uri": "https://localhost:8080/"
        },
        "id": "cMaQB244Z0RX",
        "outputId": "50f6ddb0-b3c1-454b-ab16-31853ba178e4"
      },
      "id": "cMaQB244Z0RX",
      "execution_count": 133,
      "outputs": [
        {
          "output_type": "execute_result",
          "data": {
            "text/plain": [
              "OneVsRestClassifier(estimator=XGBClassifier(max_depth=2, n_jobs=-1))"
            ]
          },
          "metadata": {},
          "execution_count": 133
        }
      ]
    },
    {
      "cell_type": "markdown",
      "source": [
        "###Testing"
      ],
      "metadata": {
        "id": "DCs44R3MZGjB"
      },
      "id": "DCs44R3MZGjB"
    },
    {
      "cell_type": "code",
      "source": [
        "y_pred_crop_onerest = Onerest.predict(X_test)\n",
        "print(classification_report(y_test,y_pred_crop_onerest))"
      ],
      "metadata": {
        "colab": {
          "base_uri": "https://localhost:8080/"
        },
        "id": "6AWRD0lQaExF",
        "outputId": "e9ca41e6-d3d0-42de-eef0-98ec53b1962f"
      },
      "id": "6AWRD0lQaExF",
      "execution_count": 134,
      "outputs": [
        {
          "output_type": "stream",
          "name": "stdout",
          "text": [
            "              precision    recall  f1-score   support\n",
            "\n",
            "           1       0.57      0.91      0.70       516\n",
            "           2       0.41      0.18      0.25       235\n",
            "           3       0.00      0.00      0.00        27\n",
            "           4       0.86      0.72      0.78       422\n",
            "           5       0.00      0.00      0.00         4\n",
            "           6       0.31      0.09      0.14        44\n",
            "           8       0.00      0.00      0.00        15\n",
            "           9       0.71      0.92      0.80        78\n",
            "          13       0.00      0.00      0.00        15\n",
            "          14       0.00      0.00      0.00         2\n",
            "          15       0.00      0.00      0.00         7\n",
            "          16       0.00      0.00      0.00         3\n",
            "          36       0.33      0.05      0.09        20\n",
            "\n",
            "    accuracy                           0.64      1388\n",
            "   macro avg       0.25      0.22      0.21      1388\n",
            "weighted avg       0.60      0.64      0.59      1388\n",
            "\n"
          ]
        },
        {
          "output_type": "stream",
          "name": "stderr",
          "text": [
            "/usr/local/lib/python3.7/dist-packages/sklearn/metrics/_classification.py:1318: UndefinedMetricWarning: Precision and F-score are ill-defined and being set to 0.0 in labels with no predicted samples. Use `zero_division` parameter to control this behavior.\n",
            "  _warn_prf(average, modifier, msg_start, len(result))\n",
            "/usr/local/lib/python3.7/dist-packages/sklearn/metrics/_classification.py:1318: UndefinedMetricWarning: Precision and F-score are ill-defined and being set to 0.0 in labels with no predicted samples. Use `zero_division` parameter to control this behavior.\n",
            "  _warn_prf(average, modifier, msg_start, len(result))\n",
            "/usr/local/lib/python3.7/dist-packages/sklearn/metrics/_classification.py:1318: UndefinedMetricWarning: Precision and F-score are ill-defined and being set to 0.0 in labels with no predicted samples. Use `zero_division` parameter to control this behavior.\n",
            "  _warn_prf(average, modifier, msg_start, len(result))\n"
          ]
        }
      ]
    },
    {
      "cell_type": "code",
      "source": [
        "y_pred_proba_xgb = Onerest.predict_proba(X_test)"
      ],
      "metadata": {
        "id": "Wo6j0nLyalPH"
      },
      "id": "Wo6j0nLyalPH",
      "execution_count": 135,
      "outputs": []
    },
    {
      "cell_type": "markdown",
      "source": [
        "###Cross entropy"
      ],
      "metadata": {
        "id": "S4Cxzl_HZHHr"
      },
      "id": "S4Cxzl_HZHHr"
    },
    {
      "cell_type": "code",
      "source": [
        "cross_loss_xgb = log_loss(y_test,y_pred_proba_xgb)\n",
        "print(cross_loss_xgb)"
      ],
      "metadata": {
        "colab": {
          "base_uri": "https://localhost:8080/"
        },
        "id": "MlJX5Oe5afwr",
        "outputId": "7aafdb7f-c1ad-4008-97a5-ddff436d2706"
      },
      "id": "MlJX5Oe5afwr",
      "execution_count": 136,
      "outputs": [
        {
          "output_type": "stream",
          "name": "stdout",
          "text": [
            "1.0470755177117905\n"
          ]
        }
      ]
    },
    {
      "cell_type": "code",
      "source": [],
      "metadata": {
        "id": "qDBEzzCscFe5"
      },
      "id": "qDBEzzCscFe5",
      "execution_count": 136,
      "outputs": []
    },
    {
      "cell_type": "markdown",
      "source": [
        "##Naives Bayes"
      ],
      "metadata": {
        "id": "0rMxANyRcGLT"
      },
      "id": "0rMxANyRcGLT"
    },
    {
      "cell_type": "markdown",
      "source": [
        "###Training"
      ],
      "metadata": {
        "id": "-41e9EZ3cPeP"
      },
      "id": "-41e9EZ3cPeP"
    },
    {
      "cell_type": "code",
      "source": [
        "\n",
        "gnb = GaussianNB()\n",
        "gnb.fit(X_train, y_train.astype(int))"
      ],
      "metadata": {
        "colab": {
          "base_uri": "https://localhost:8080/"
        },
        "id": "CIIazHaUccRv",
        "outputId": "393f672c-aa3b-4bd7-b283-c0b626cbb5b7"
      },
      "id": "CIIazHaUccRv",
      "execution_count": 137,
      "outputs": [
        {
          "output_type": "execute_result",
          "data": {
            "text/plain": [
              "GaussianNB()"
            ]
          },
          "metadata": {},
          "execution_count": 137
        }
      ]
    },
    {
      "cell_type": "markdown",
      "source": [
        "###Testing"
      ],
      "metadata": {
        "id": "ybmeSvamcPtu"
      },
      "id": "ybmeSvamcPtu"
    },
    {
      "cell_type": "code",
      "source": [
        "from sklearn.metrics import classification_report\n",
        "y_pred_crop_NB = gnb.predict(X_test)\n",
        "\n",
        "print(classification_report(y_test,y_pred_crop_NB))"
      ],
      "metadata": {
        "colab": {
          "base_uri": "https://localhost:8080/"
        },
        "id": "_z8To4VTcmml",
        "outputId": "4c8f0434-45e3-4a86-a01b-a04d7adc3300"
      },
      "id": "_z8To4VTcmml",
      "execution_count": 138,
      "outputs": [
        {
          "output_type": "stream",
          "name": "stdout",
          "text": [
            "              precision    recall  f1-score   support\n",
            "\n",
            "           1       0.57      0.63      0.60       516\n",
            "           2       0.08      0.00      0.01       235\n",
            "           3       0.08      0.26      0.13        27\n",
            "           4       0.86      0.48      0.62       422\n",
            "           5       0.00      0.00      0.00         4\n",
            "           6       0.12      0.55      0.20        44\n",
            "           8       0.10      0.47      0.17        15\n",
            "           9       0.48      0.97      0.64        78\n",
            "          13       0.25      0.07      0.11        15\n",
            "          14       0.00      0.00      0.00         2\n",
            "          15       0.04      0.14      0.06         7\n",
            "          16       0.00      0.00      0.00         3\n",
            "          36       0.05      0.10      0.07        20\n",
            "\n",
            "    accuracy                           0.47      1388\n",
            "   macro avg       0.20      0.28      0.20      1388\n",
            "weighted avg       0.53      0.47      0.46      1388\n",
            "\n"
          ]
        },
        {
          "output_type": "stream",
          "name": "stderr",
          "text": [
            "/usr/local/lib/python3.7/dist-packages/sklearn/metrics/_classification.py:1318: UndefinedMetricWarning: Precision and F-score are ill-defined and being set to 0.0 in labels with no predicted samples. Use `zero_division` parameter to control this behavior.\n",
            "  _warn_prf(average, modifier, msg_start, len(result))\n",
            "/usr/local/lib/python3.7/dist-packages/sklearn/metrics/_classification.py:1318: UndefinedMetricWarning: Precision and F-score are ill-defined and being set to 0.0 in labels with no predicted samples. Use `zero_division` parameter to control this behavior.\n",
            "  _warn_prf(average, modifier, msg_start, len(result))\n",
            "/usr/local/lib/python3.7/dist-packages/sklearn/metrics/_classification.py:1318: UndefinedMetricWarning: Precision and F-score are ill-defined and being set to 0.0 in labels with no predicted samples. Use `zero_division` parameter to control this behavior.\n",
            "  _warn_prf(average, modifier, msg_start, len(result))\n"
          ]
        }
      ]
    },
    {
      "cell_type": "code",
      "source": [
        "y_pred_proba_NB = Onerest.predict_proba(X_test)"
      ],
      "metadata": {
        "id": "CKAoC1ppcx2P"
      },
      "id": "CKAoC1ppcx2P",
      "execution_count": 139,
      "outputs": []
    },
    {
      "cell_type": "markdown",
      "source": [
        "###Cross entropy"
      ],
      "metadata": {
        "id": "q_Ll4sobcQBN"
      },
      "id": "q_Ll4sobcQBN"
    },
    {
      "cell_type": "code",
      "source": [
        "cross_loss_NB = log_loss(y_test,y_pred_proba_NB)\n",
        "print(cross_loss_NB)"
      ],
      "metadata": {
        "colab": {
          "base_uri": "https://localhost:8080/"
        },
        "id": "f-I_AvI2c4N6",
        "outputId": "dd725d8b-64c6-4ce1-e31e-bec16ba7ccb1"
      },
      "id": "f-I_AvI2c4N6",
      "execution_count": 140,
      "outputs": [
        {
          "output_type": "stream",
          "name": "stdout",
          "text": [
            "1.0470755177117905\n"
          ]
        }
      ]
    },
    {
      "cell_type": "markdown",
      "source": [
        "#Cross validation"
      ],
      "metadata": {
        "id": "CGHs1GgsT372"
      },
      "id": "CGHs1GgsT372"
    },
    {
      "cell_type": "markdown",
      "source": [
        "##function to show cross entropy result"
      ],
      "metadata": {
        "id": "8SALwW8hT-It"
      },
      "id": "8SALwW8hT-It"
    },
    {
      "cell_type": "code",
      "source": [
        "def show_cross():\n",
        "\n",
        "  #Random Forest\n",
        "  cross_loss = log_loss(y_test,y_pred_proba_rf)\n",
        "  print('The random forest has a cross lost of :',cross_loss)\n",
        "\n",
        "  #support vector machine\n",
        "  cross_loss_svm = log_loss(y_test,y_pred_proba_svm)\n",
        "  print('The support vector machine has a cross lost of :',cross_loss_svm)\n",
        "\n",
        "  #K-nearest Neighbors\n",
        "  cross_loss_knn = log_loss(y_test,y_pred_proba_knn)\n",
        "  print('The k nearest neighborhs has a cross lost of ',cross_loss_knn)\n",
        "\n",
        "  #x gboost\n",
        "  cross_loss_xgb = log_loss(y_test,y_pred_proba_xgb)\n",
        "  print('The Xgboost model has a cross lost of ',cross_loss_xgb)\n",
        "\n",
        "  #Naives Bayes\n",
        "  cross_loss_NB = log_loss(y_test,y_pred_proba_NB)\n",
        "  print('The Naives Bayes has a cross lost of ',cross_loss_NB)\n",
        "\n",
        "\n",
        "show_cross()\n"
      ],
      "metadata": {
        "colab": {
          "base_uri": "https://localhost:8080/"
        },
        "id": "Qm7NhBcxT8QC",
        "outputId": "01ea3b0a-f081-4cbe-abc4-6000b30ddd82"
      },
      "id": "Qm7NhBcxT8QC",
      "execution_count": 141,
      "outputs": [
        {
          "output_type": "stream",
          "name": "stdout",
          "text": [
            "The random forest has a cross lost of : 1.053847102283575\n",
            "The support vector machine has a cross lost of : 1.0835088316907435\n",
            "The k nearest neighborhs has a cross lost of  4.575014718123374\n",
            "The Xgboost model has a cross lost of  1.0470755177117905\n",
            "The Naives Bayes has a cross lost of  1.0470755177117905\n"
          ]
        }
      ]
    },
    {
      "cell_type": "markdown",
      "source": [
        "##Random forest"
      ],
      "metadata": {
        "id": "QpoG7_1phKUT"
      },
      "id": "QpoG7_1phKUT"
    },
    {
      "cell_type": "code",
      "source": [
        "scores = cross_val_score(rf, X_train, y_train,scoring=\"neg_log_loss\", cv=10)\n",
        "print(-scores)\n",
        "classes = rf.classes_\n",
        "\n",
        "def display_scores(scores):\n",
        "\n",
        "  print(\"Scores:\", scores)\n",
        "  \n",
        "  print(\"Mean:\", scores.mean())\n",
        "  \n",
        "  print(\"Standard deviation:\", scores.std())\n",
        "\n",
        "display_scores(scores)\n",
        "\n"
      ],
      "metadata": {
        "colab": {
          "base_uri": "https://localhost:8080/"
        },
        "id": "157nFGdkgIpF",
        "outputId": "a75d0d03-35b1-4663-982e-ff1af1d22a59"
      },
      "id": "157nFGdkgIpF",
      "execution_count": 149,
      "outputs": [
        {
          "output_type": "stream",
          "name": "stdout",
          "text": [
            "[1.09975961 1.11983914 1.02374394 1.12272962 1.0994881  1.15501891\n",
            " 1.04672261 1.19150153 1.08890665 1.01302916]\n",
            "Scores: [-1.09975961 -1.11983914 -1.02374394 -1.12272962 -1.0994881  -1.15501891\n",
            " -1.04672261 -1.19150153 -1.08890665 -1.01302916]\n",
            "Mean: -1.096073927291202\n",
            "Standard deviation: 0.05338208628112859\n"
          ]
        }
      ]
    },
    {
      "cell_type": "code",
      "execution_count": null,
      "id": "38a69a0a",
      "metadata": {
        "id": "38a69a0a"
      },
      "outputs": [],
      "source": []
    },
    {
      "cell_type": "markdown",
      "source": [
        "#Fine Tuning our models"
      ],
      "metadata": {
        "id": "UFmAeU-ki1I0"
      },
      "id": "UFmAeU-ki1I0"
    },
    {
      "cell_type": "code",
      "source": [],
      "metadata": {
        "id": "zknGtsVWjaYy"
      },
      "id": "zknGtsVWjaYy",
      "execution_count": null,
      "outputs": []
    },
    {
      "cell_type": "markdown",
      "source": [
        "##Grisearch"
      ],
      "metadata": {
        "id": "zLSSDEHxja6Z"
      },
      "id": "zLSSDEHxja6Z"
    },
    {
      "cell_type": "code",
      "source": [
        "\n",
        "param_grid = [\n",
        "{'n_estimators': [100, 125, 150,175,200,225,250,275,300,325,350,375,400],  'oob_score' : [True,False],'max_features': [2, 4, 6, 8]},\n",
        "{'bootstrap': [False], 'n_estimators': [3, 10], 'max_features':['auto'],'random_state ':[10,20,30,50,60,70,80,90,100]},\n",
        "]\n",
        "\n",
        "grid_search = GridSearchCV(rf, param_grid, cv=10,scoring='neg_log_loss',return_train_score=True)\n",
        "grid_search.fit(X_train, y_train)"
      ],
      "metadata": {
        "id": "YNt4sl32i37o"
      },
      "id": "YNt4sl32i37o",
      "execution_count": null,
      "outputs": []
    },
    {
      "cell_type": "code",
      "source": [],
      "metadata": {
        "id": "uYvsloYvktKT"
      },
      "id": "uYvsloYvktKT",
      "execution_count": null,
      "outputs": []
    }
  ],
  "metadata": {
    "kernelspec": {
      "display_name": "Python 3 (ipykernel)",
      "language": "python",
      "name": "python3"
    },
    "language_info": {
      "codemirror_mode": {
        "name": "ipython",
        "version": 3
      },
      "file_extension": ".py",
      "mimetype": "text/x-python",
      "name": "python",
      "nbconvert_exporter": "python",
      "pygments_lexer": "ipython3",
      "version": "3.9.2"
    },
    "colab": {
      "provenance": [],
      "toc_visible": true,
      "collapsed_sections": [
        "67d12d26",
        "d6635494",
        "PvMNRZzNzpaJ",
        "7f49eba3"
      ],
      "include_colab_link": true
    }
  },
  "nbformat": 4,
  "nbformat_minor": 5
}