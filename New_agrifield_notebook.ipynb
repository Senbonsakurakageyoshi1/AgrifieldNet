{
  "cells": [
    {
      "cell_type": "markdown",
      "metadata": {
        "id": "view-in-github",
        "colab_type": "text"
      },
      "source": [
        "<a href=\"https://colab.research.google.com/github/Senbonsakurakageyoshi1/AgrifieldNet/blob/main/New_agrifield_notebook.ipynb\" target=\"_parent\"><img src=\"https://colab.research.google.com/assets/colab-badge.svg\" alt=\"Open In Colab\"/></a>"
      ]
    },
    {
      "cell_type": "code",
      "execution_count": 5,
      "id": "6be7abd0",
      "metadata": {
        "id": "6be7abd0",
        "outputId": "256106f9-666d-474c-fb52-bd60332bac20",
        "colab": {
          "base_uri": "https://localhost:8080/"
        }
      },
      "outputs": [
        {
          "output_type": "stream",
          "name": "stdout",
          "text": [
            "Setup Complete\n"
          ]
        }
      ],
      "source": [
        "import pandas as pd\n",
        "import seaborn as sns\n",
        "import pandas as pd\n",
        "pd.plotting.register_matplotlib_converters()\n",
        "import matplotlib.pyplot as plt\n",
        "%matplotlib inline\n",
        "import seaborn as sns\n",
        "print(\"Setup Complete\")"
      ]
    },
    {
      "cell_type": "code",
      "execution_count": 6,
      "id": "cdc9ba5e",
      "metadata": {
        "id": "cdc9ba5e"
      },
      "outputs": [],
      "source": [
        "df=pd.read_csv('./agrifield_data.csv')\n",
        "\n",
        "df1 = pd.read_csv('./agrifield_data.csv' , index_col='crop_id')"
      ]
    },
    {
      "cell_type": "markdown",
      "id": "e7a9d0de",
      "metadata": {
        "id": "e7a9d0de"
      },
      "source": [
        "## Data transformation pipeline "
      ]
    },
    {
      "cell_type": "code",
      "execution_count": 7,
      "id": "873886ff",
      "metadata": {
        "id": "873886ff"
      },
      "outputs": [],
      "source": [
        "from sklearn.pipeline import Pipeline\n",
        "from sklearn.preprocessing import StandardScaler\n",
        "from sklearn.impute import SimpleImputer\n",
        "num_pipeline = Pipeline([\n",
        "('imputer', SimpleImputer(strategy=\"median\")),\n",
        "('std_scaler', StandardScaler()),\n",
        "])\n"
      ]
    },
    {
      "cell_type": "code",
      "source": [
        "df.columns"
      ],
      "metadata": {
        "id": "zS-h5y0q5A1-",
        "outputId": "9b13a75f-f49d-4a95-9b18-e349573271e6",
        "colab": {
          "base_uri": "https://localhost:8080/"
        }
      },
      "id": "zS-h5y0q5A1-",
      "execution_count": 8,
      "outputs": [
        {
          "output_type": "execute_result",
          "data": {
            "text/plain": [
              "Index(['Unnamed: 0', 'field_id', 'B01', 'B02', 'B03', 'B04', 'B05', 'B06',\n",
              "       'B07', 'B08', 'B8A', 'B09', 'B11', 'B12', 'crop_id'],\n",
              "      dtype='object')"
            ]
          },
          "metadata": {},
          "execution_count": 8
        }
      ]
    },
    {
      "cell_type": "code",
      "execution_count": 9,
      "id": "f7399feb",
      "metadata": {
        "colab": {
          "base_uri": "https://localhost:8080/",
          "height": 288
        },
        "id": "f7399feb",
        "outputId": "0b5650e0-21dd-4e5e-daa2-2ac486dbd101"
      },
      "outputs": [
        {
          "output_type": "execute_result",
          "data": {
            "text/plain": [
              "   Unnamed: 0  field_id        B01        B02        B03        B04  \\\n",
              "0           0         1  45.000000  42.444444  42.722222  48.000000   \n",
              "1           1         2  45.000000  42.000000  42.166667  47.666667   \n",
              "2           2         3  45.000000  42.687500  43.500000  49.187500   \n",
              "3           3         4  45.866667  42.466667  43.800000  47.733333   \n",
              "4           4         5  46.000000  43.238095  45.238095  49.285714   \n",
              "\n",
              "         B05        B06        B07        B08        B8A        B09  \\\n",
              "0  49.666667  58.000000  65.222222  60.277778  71.944444  12.000000   \n",
              "1  49.250000  59.916667  69.000000  63.916667  76.333333  12.833333   \n",
              "2  51.437500  62.875000  71.625000  66.625000  79.312500  13.000000   \n",
              "3  49.466667  59.733333  68.133333  62.600000  73.466667  11.266667   \n",
              "4  50.904762  60.904762  68.952381  63.380952  74.547619  11.333333   \n",
              "\n",
              "         B11        B12  crop_id  \n",
              "0  80.277778  61.333333        1  \n",
              "1  79.916667  56.750000        1  \n",
              "2  82.125000  58.062500        1  \n",
              "3  77.600000  55.000000        2  \n",
              "4  77.452381  55.809524        2  "
            ],
            "text/html": [
              "\n",
              "  <div id=\"df-aaa4ab7c-7e5d-4804-a25e-a9b6a8562f7d\">\n",
              "    <div class=\"colab-df-container\">\n",
              "      <div>\n",
              "<style scoped>\n",
              "    .dataframe tbody tr th:only-of-type {\n",
              "        vertical-align: middle;\n",
              "    }\n",
              "\n",
              "    .dataframe tbody tr th {\n",
              "        vertical-align: top;\n",
              "    }\n",
              "\n",
              "    .dataframe thead th {\n",
              "        text-align: right;\n",
              "    }\n",
              "</style>\n",
              "<table border=\"1\" class=\"dataframe\">\n",
              "  <thead>\n",
              "    <tr style=\"text-align: right;\">\n",
              "      <th></th>\n",
              "      <th>Unnamed: 0</th>\n",
              "      <th>field_id</th>\n",
              "      <th>B01</th>\n",
              "      <th>B02</th>\n",
              "      <th>B03</th>\n",
              "      <th>B04</th>\n",
              "      <th>B05</th>\n",
              "      <th>B06</th>\n",
              "      <th>B07</th>\n",
              "      <th>B08</th>\n",
              "      <th>B8A</th>\n",
              "      <th>B09</th>\n",
              "      <th>B11</th>\n",
              "      <th>B12</th>\n",
              "      <th>crop_id</th>\n",
              "    </tr>\n",
              "  </thead>\n",
              "  <tbody>\n",
              "    <tr>\n",
              "      <th>0</th>\n",
              "      <td>0</td>\n",
              "      <td>1</td>\n",
              "      <td>45.000000</td>\n",
              "      <td>42.444444</td>\n",
              "      <td>42.722222</td>\n",
              "      <td>48.000000</td>\n",
              "      <td>49.666667</td>\n",
              "      <td>58.000000</td>\n",
              "      <td>65.222222</td>\n",
              "      <td>60.277778</td>\n",
              "      <td>71.944444</td>\n",
              "      <td>12.000000</td>\n",
              "      <td>80.277778</td>\n",
              "      <td>61.333333</td>\n",
              "      <td>1</td>\n",
              "    </tr>\n",
              "    <tr>\n",
              "      <th>1</th>\n",
              "      <td>1</td>\n",
              "      <td>2</td>\n",
              "      <td>45.000000</td>\n",
              "      <td>42.000000</td>\n",
              "      <td>42.166667</td>\n",
              "      <td>47.666667</td>\n",
              "      <td>49.250000</td>\n",
              "      <td>59.916667</td>\n",
              "      <td>69.000000</td>\n",
              "      <td>63.916667</td>\n",
              "      <td>76.333333</td>\n",
              "      <td>12.833333</td>\n",
              "      <td>79.916667</td>\n",
              "      <td>56.750000</td>\n",
              "      <td>1</td>\n",
              "    </tr>\n",
              "    <tr>\n",
              "      <th>2</th>\n",
              "      <td>2</td>\n",
              "      <td>3</td>\n",
              "      <td>45.000000</td>\n",
              "      <td>42.687500</td>\n",
              "      <td>43.500000</td>\n",
              "      <td>49.187500</td>\n",
              "      <td>51.437500</td>\n",
              "      <td>62.875000</td>\n",
              "      <td>71.625000</td>\n",
              "      <td>66.625000</td>\n",
              "      <td>79.312500</td>\n",
              "      <td>13.000000</td>\n",
              "      <td>82.125000</td>\n",
              "      <td>58.062500</td>\n",
              "      <td>1</td>\n",
              "    </tr>\n",
              "    <tr>\n",
              "      <th>3</th>\n",
              "      <td>3</td>\n",
              "      <td>4</td>\n",
              "      <td>45.866667</td>\n",
              "      <td>42.466667</td>\n",
              "      <td>43.800000</td>\n",
              "      <td>47.733333</td>\n",
              "      <td>49.466667</td>\n",
              "      <td>59.733333</td>\n",
              "      <td>68.133333</td>\n",
              "      <td>62.600000</td>\n",
              "      <td>73.466667</td>\n",
              "      <td>11.266667</td>\n",
              "      <td>77.600000</td>\n",
              "      <td>55.000000</td>\n",
              "      <td>2</td>\n",
              "    </tr>\n",
              "    <tr>\n",
              "      <th>4</th>\n",
              "      <td>4</td>\n",
              "      <td>5</td>\n",
              "      <td>46.000000</td>\n",
              "      <td>43.238095</td>\n",
              "      <td>45.238095</td>\n",
              "      <td>49.285714</td>\n",
              "      <td>50.904762</td>\n",
              "      <td>60.904762</td>\n",
              "      <td>68.952381</td>\n",
              "      <td>63.380952</td>\n",
              "      <td>74.547619</td>\n",
              "      <td>11.333333</td>\n",
              "      <td>77.452381</td>\n",
              "      <td>55.809524</td>\n",
              "      <td>2</td>\n",
              "    </tr>\n",
              "  </tbody>\n",
              "</table>\n",
              "</div>\n",
              "      <button class=\"colab-df-convert\" onclick=\"convertToInteractive('df-aaa4ab7c-7e5d-4804-a25e-a9b6a8562f7d')\"\n",
              "              title=\"Convert this dataframe to an interactive table.\"\n",
              "              style=\"display:none;\">\n",
              "        \n",
              "  <svg xmlns=\"http://www.w3.org/2000/svg\" height=\"24px\"viewBox=\"0 0 24 24\"\n",
              "       width=\"24px\">\n",
              "    <path d=\"M0 0h24v24H0V0z\" fill=\"none\"/>\n",
              "    <path d=\"M18.56 5.44l.94 2.06.94-2.06 2.06-.94-2.06-.94-.94-2.06-.94 2.06-2.06.94zm-11 1L8.5 8.5l.94-2.06 2.06-.94-2.06-.94L8.5 2.5l-.94 2.06-2.06.94zm10 10l.94 2.06.94-2.06 2.06-.94-2.06-.94-.94-2.06-.94 2.06-2.06.94z\"/><path d=\"M17.41 7.96l-1.37-1.37c-.4-.4-.92-.59-1.43-.59-.52 0-1.04.2-1.43.59L10.3 9.45l-7.72 7.72c-.78.78-.78 2.05 0 2.83L4 21.41c.39.39.9.59 1.41.59.51 0 1.02-.2 1.41-.59l7.78-7.78 2.81-2.81c.8-.78.8-2.07 0-2.86zM5.41 20L4 18.59l7.72-7.72 1.47 1.35L5.41 20z\"/>\n",
              "  </svg>\n",
              "      </button>\n",
              "      \n",
              "  <style>\n",
              "    .colab-df-container {\n",
              "      display:flex;\n",
              "      flex-wrap:wrap;\n",
              "      gap: 12px;\n",
              "    }\n",
              "\n",
              "    .colab-df-convert {\n",
              "      background-color: #E8F0FE;\n",
              "      border: none;\n",
              "      border-radius: 50%;\n",
              "      cursor: pointer;\n",
              "      display: none;\n",
              "      fill: #1967D2;\n",
              "      height: 32px;\n",
              "      padding: 0 0 0 0;\n",
              "      width: 32px;\n",
              "    }\n",
              "\n",
              "    .colab-df-convert:hover {\n",
              "      background-color: #E2EBFA;\n",
              "      box-shadow: 0px 1px 2px rgba(60, 64, 67, 0.3), 0px 1px 3px 1px rgba(60, 64, 67, 0.15);\n",
              "      fill: #174EA6;\n",
              "    }\n",
              "\n",
              "    [theme=dark] .colab-df-convert {\n",
              "      background-color: #3B4455;\n",
              "      fill: #D2E3FC;\n",
              "    }\n",
              "\n",
              "    [theme=dark] .colab-df-convert:hover {\n",
              "      background-color: #434B5C;\n",
              "      box-shadow: 0px 1px 3px 1px rgba(0, 0, 0, 0.15);\n",
              "      filter: drop-shadow(0px 1px 2px rgba(0, 0, 0, 0.3));\n",
              "      fill: #FFFFFF;\n",
              "    }\n",
              "  </style>\n",
              "\n",
              "      <script>\n",
              "        const buttonEl =\n",
              "          document.querySelector('#df-aaa4ab7c-7e5d-4804-a25e-a9b6a8562f7d button.colab-df-convert');\n",
              "        buttonEl.style.display =\n",
              "          google.colab.kernel.accessAllowed ? 'block' : 'none';\n",
              "\n",
              "        async function convertToInteractive(key) {\n",
              "          const element = document.querySelector('#df-aaa4ab7c-7e5d-4804-a25e-a9b6a8562f7d');\n",
              "          const dataTable =\n",
              "            await google.colab.kernel.invokeFunction('convertToInteractive',\n",
              "                                                     [key], {});\n",
              "          if (!dataTable) return;\n",
              "\n",
              "          const docLinkHtml = 'Like what you see? Visit the ' +\n",
              "            '<a target=\"_blank\" href=https://colab.research.google.com/notebooks/data_table.ipynb>data table notebook</a>'\n",
              "            + ' to learn more about interactive tables.';\n",
              "          element.innerHTML = '';\n",
              "          dataTable['output_type'] = 'display_data';\n",
              "          await google.colab.output.renderOutput(dataTable, element);\n",
              "          const docLink = document.createElement('div');\n",
              "          docLink.innerHTML = docLinkHtml;\n",
              "          element.appendChild(docLink);\n",
              "        }\n",
              "      </script>\n",
              "    </div>\n",
              "  </div>\n",
              "  "
            ]
          },
          "metadata": {},
          "execution_count": 9
        }
      ],
      "source": [
        "df.head()"
      ]
    },
    {
      "cell_type": "code",
      "execution_count": 10,
      "id": "c1f445b4",
      "metadata": {
        "id": "c1f445b4"
      },
      "outputs": [],
      "source": [
        "df=df.drop('Unnamed: 0',axis=1)"
      ]
    },
    {
      "cell_type": "code",
      "execution_count": 11,
      "id": "5ab36a9b",
      "metadata": {
        "id": "5ab36a9b"
      },
      "outputs": [],
      "source": [
        "df1=df1.drop('Unnamed: 0',axis=1)"
      ]
    },
    {
      "cell_type": "code",
      "execution_count": 12,
      "id": "1f50cb8b",
      "metadata": {
        "colab": {
          "base_uri": "https://localhost:8080/",
          "height": 297
        },
        "id": "1f50cb8b",
        "outputId": "1e729fba-1b72-435b-8e27-c3a013a67ca3"
      },
      "outputs": [
        {
          "output_type": "execute_result",
          "data": {
            "text/plain": [
              "<matplotlib.axes._subplots.AxesSubplot at 0x7f74385faf50>"
            ]
          },
          "metadata": {},
          "execution_count": 12
        },
        {
          "output_type": "display_data",
          "data": {
            "text/plain": [
              "<Figure size 432x288 with 1 Axes>"
            ],
            "image/png": "[encoded data removed]"
          },
          "metadata": {
            "needs_background": "light"
          }
        }
      ],
      "source": [
        "df.plot(kind=\"scatter\",x=\"field_id\",y=\"crop_id\",alpha=0.1)"
      ]
    },
    {
      "cell_type": "code",
      "execution_count": 13,
      "id": "beeee5c0",
      "metadata": {
        "colab": {
          "base_uri": "https://localhost:8080/",
          "height": 364
        },
        "id": "beeee5c0",
        "outputId": "7540d2d8-048c-4f2e-8108-36a9ee68ed62"
      },
      "outputs": [
        {
          "output_type": "execute_result",
          "data": {
            "text/plain": [
              "          field_id          B01          B02          B03          B04  \\\n",
              "count  5551.000000  5551.000000  5551.000000  5551.000000  5551.000000   \n",
              "mean   3599.817510    43.551038    39.197783    38.338501    40.963663   \n",
              "std    2085.580756     2.878113     3.486734     4.671453     7.863293   \n",
              "min       1.000000    29.846995    23.814208    21.147541    19.743169   \n",
              "25%    1808.000000    42.306250    37.250000    35.066964    35.444444   \n",
              "50%    3547.000000    44.000000    39.868421    38.634146    41.500000   \n",
              "75%    5422.500000    45.217029    41.530012    41.685185    46.777530   \n",
              "max    7332.000000    50.000000    49.068966    54.085366    72.382353   \n",
              "\n",
              "               B05          B06          B07          B08          B8A  \\\n",
              "count  5551.000000  5551.000000  5551.000000  5551.000000  5551.000000   \n",
              "mean     44.133547    56.244932    64.907333    61.641481    71.667237   \n",
              "std       7.088226     5.714856     6.671115     6.284680     7.653518   \n",
              "min      26.000000    31.285714    34.857143    33.035714    36.428571   \n",
              "25%      39.800000    52.500000    60.965476    58.250000    67.400000   \n",
              "50%      44.800000    56.440000    65.225806    62.238095    72.210811   \n",
              "75%      49.035964    60.181818    69.411765    65.785714    76.875000   \n",
              "max      73.264706    82.023810    96.416667    90.880952   102.857143   \n",
              "\n",
              "               B09          B11          B12      crop_id  \n",
              "count  5551.000000  5551.000000  5551.000000  5551.000000  \n",
              "mean     13.611396    73.426054    51.829617     3.868852  \n",
              "std       2.486175    15.690605    13.851583     5.640180  \n",
              "min       7.000000    16.115385     8.846154     1.000000  \n",
              "25%      12.000000    67.961751    46.476673     1.000000  \n",
              "50%      13.000000    76.590909    55.000000     2.000000  \n",
              "75%      15.000000    83.694838    61.041022     4.000000  \n",
              "max      27.431373   108.534247    84.588235    36.000000  "
            ],
            "text/html": [
              "\n",
              "  <div id=\"df-8ab4ea19-19f7-4dfd-9d59-0737520addbd\">\n",
              "    <div class=\"colab-df-container\">\n",
              "      <div>\n",
              "<style scoped>\n",
              "    .dataframe tbody tr th:only-of-type {\n",
              "        vertical-align: middle;\n",
              "    }\n",
              "\n",
              "    .dataframe tbody tr th {\n",
              "        vertical-align: top;\n",
              "    }\n",
              "\n",
              "    .dataframe thead th {\n",
              "        text-align: right;\n",
              "    }\n",
              "</style>\n",
              "<table border=\"1\" class=\"dataframe\">\n",
              "  <thead>\n",
              "    <tr style=\"text-align: right;\">\n",
              "      <th></th>\n",
              "      <th>field_id</th>\n",
              "      <th>B01</th>\n",
              "      <th>B02</th>\n",
              "      <th>B03</th>\n",
              "      <th>B04</th>\n",
              "      <th>B05</th>\n",
              "      <th>B06</th>\n",
              "      <th>B07</th>\n",
              "      <th>B08</th>\n",
              "      <th>B8A</th>\n",
              "      <th>B09</th>\n",
              "      <th>B11</th>\n",
              "      <th>B12</th>\n",
              "      <th>crop_id</th>\n",
              "    </tr>\n",
              "  </thead>\n",
              "  <tbody>\n",
              "    <tr>\n",
              "      <th>count</th>\n",
              "      <td>5551.000000</td>\n",
              "      <td>5551.000000</td>\n",
              "      <td>5551.000000</td>\n",
              "      <td>5551.000000</td>\n",
              "      <td>5551.000000</td>\n",
              "      <td>5551.000000</td>\n",
              "      <td>5551.000000</td>\n",
              "      <td>5551.000000</td>\n",
              "      <td>5551.000000</td>\n",
              "      <td>5551.000000</td>\n",
              "      <td>5551.000000</td>\n",
              "      <td>5551.000000</td>\n",
              "      <td>5551.000000</td>\n",
              "      <td>5551.000000</td>\n",
              "    </tr>\n",
              "    <tr>\n",
              "      <th>mean</th>\n",
              "      <td>3599.817510</td>\n",
              "      <td>43.551038</td>\n",
              "      <td>39.197783</td>\n",
              "      <td>38.338501</td>\n",
              "      <td>40.963663</td>\n",
              "      <td>44.133547</td>\n",
              "      <td>56.244932</td>\n",
              "      <td>64.907333</td>\n",
              "      <td>61.641481</td>\n",
              "      <td>71.667237</td>\n",
              "      <td>13.611396</td>\n",
              "      <td>73.426054</td>\n",
              "      <td>51.829617</td>\n",
              "      <td>3.868852</td>\n",
              "    </tr>\n",
              "    <tr>\n",
              "      <th>std</th>\n",
              "      <td>2085.580756</td>\n",
              "      <td>2.878113</td>\n",
              "      <td>3.486734</td>\n",
              "      <td>4.671453</td>\n",
              "      <td>7.863293</td>\n",
              "      <td>7.088226</td>\n",
              "      <td>5.714856</td>\n",
              "      <td>6.671115</td>\n",
              "      <td>6.284680</td>\n",
              "      <td>7.653518</td>\n",
              "      <td>2.486175</td>\n",
              "      <td>15.690605</td>\n",
              "      <td>13.851583</td>\n",
              "      <td>5.640180</td>\n",
              "    </tr>\n",
              "    <tr>\n",
              "      <th>min</th>\n",
              "      <td>1.000000</td>\n",
              "      <td>29.846995</td>\n",
              "      <td>23.814208</td>\n",
              "      <td>21.147541</td>\n",
              "      <td>19.743169</td>\n",
              "      <td>26.000000</td>\n",
              "      <td>31.285714</td>\n",
              "      <td>34.857143</td>\n",
              "      <td>33.035714</td>\n",
              "      <td>36.428571</td>\n",
              "      <td>7.000000</td>\n",
              "      <td>16.115385</td>\n",
              "      <td>8.846154</td>\n",
              "      <td>1.000000</td>\n",
              "    </tr>\n",
              "    <tr>\n",
              "      <th>25%</th>\n",
              "      <td>1808.000000</td>\n",
              "      <td>42.306250</td>\n",
              "      <td>37.250000</td>\n",
              "      <td>35.066964</td>\n",
              "      <td>35.444444</td>\n",
              "      <td>39.800000</td>\n",
              "      <td>52.500000</td>\n",
              "      <td>60.965476</td>\n",
              "      <td>58.250000</td>\n",
              "      <td>67.400000</td>\n",
              "      <td>12.000000</td>\n",
              "      <td>67.961751</td>\n",
              "      <td>46.476673</td>\n",
              "      <td>1.000000</td>\n",
              "    </tr>\n",
              "    <tr>\n",
              "      <th>50%</th>\n",
              "      <td>3547.000000</td>\n",
              "      <td>44.000000</td>\n",
              "      <td>39.868421</td>\n",
              "      <td>38.634146</td>\n",
              "      <td>41.500000</td>\n",
              "      <td>44.800000</td>\n",
              "      <td>56.440000</td>\n",
              "      <td>65.225806</td>\n",
              "      <td>62.238095</td>\n",
              "      <td>72.210811</td>\n",
              "      <td>13.000000</td>\n",
              "      <td>76.590909</td>\n",
              "      <td>55.000000</td>\n",
              "      <td>2.000000</td>\n",
              "    </tr>\n",
              "    <tr>\n",
              "      <th>75%</th>\n",
              "      <td>5422.500000</td>\n",
              "      <td>45.217029</td>\n",
              "      <td>41.530012</td>\n",
              "      <td>41.685185</td>\n",
              "      <td>46.777530</td>\n",
              "      <td>49.035964</td>\n",
              "      <td>60.181818</td>\n",
              "      <td>69.411765</td>\n",
              "      <td>65.785714</td>\n",
              "      <td>76.875000</td>\n",
              "      <td>15.000000</td>\n",
              "      <td>83.694838</td>\n",
              "      <td>61.041022</td>\n",
              "      <td>4.000000</td>\n",
              "    </tr>\n",
              "    <tr>\n",
              "      <th>max</th>\n",
              "      <td>7332.000000</td>\n",
              "      <td>50.000000</td>\n",
              "      <td>49.068966</td>\n",
              "      <td>54.085366</td>\n",
              "      <td>72.382353</td>\n",
              "      <td>73.264706</td>\n",
              "      <td>82.023810</td>\n",
              "      <td>96.416667</td>\n",
              "      <td>90.880952</td>\n",
              "      <td>102.857143</td>\n",
              "      <td>27.431373</td>\n",
              "      <td>108.534247</td>\n",
              "      <td>84.588235</td>\n",
              "      <td>36.000000</td>\n",
              "    </tr>\n",
              "  </tbody>\n",
              "</table>\n",
              "</div>\n",
              "      <button class=\"colab-df-convert\" onclick=\"convertToInteractive('df-8ab4ea19-19f7-4dfd-9d59-0737520addbd')\"\n",
              "              title=\"Convert this dataframe to an interactive table.\"\n",
              "              style=\"display:none;\">\n",
              "        \n",
              "  <svg xmlns=\"http://www.w3.org/2000/svg\" height=\"24px\"viewBox=\"0 0 24 24\"\n",
              "       width=\"24px\">\n",
              "    <path d=\"M0 0h24v24H0V0z\" fill=\"none\"/>\n",
              "    <path d=\"M18.56 5.44l.94 2.06.94-2.06 2.06-.94-2.06-.94-.94-2.06-.94 2.06-2.06.94zm-11 1L8.5 8.5l.94-2.06 2.06-.94-2.06-.94L8.5 2.5l-.94 2.06-2.06.94zm10 10l.94 2.06.94-2.06 2.06-.94-2.06-.94-.94-2.06-.94 2.06-2.06.94z\"/><path d=\"M17.41 7.96l-1.37-1.37c-.4-.4-.92-.59-1.43-.59-.52 0-1.04.2-1.43.59L10.3 9.45l-7.72 7.72c-.78.78-.78 2.05 0 2.83L4 21.41c.39.39.9.59 1.41.59.51 0 1.02-.2 1.41-.59l7.78-7.78 2.81-2.81c.8-.78.8-2.07 0-2.86zM5.41 20L4 18.59l7.72-7.72 1.47 1.35L5.41 20z\"/>\n",
              "  </svg>\n",
              "      </button>\n",
              "      \n",
              "  <style>\n",
              "    .colab-df-container {\n",
              "      display:flex;\n",
              "      flex-wrap:wrap;\n",
              "      gap: 12px;\n",
              "    }\n",
              "\n",
              "    .colab-df-convert {\n",
              "      background-color: #E8F0FE;\n",
              "      border: none;\n",
              "      border-radius: 50%;\n",
              "      cursor: pointer;\n",
              "      display: none;\n",
              "      fill: #1967D2;\n",
              "      height: 32px;\n",
              "      padding: 0 0 0 0;\n",
              "      width: 32px;\n",
              "    }\n",
              "\n",
              "    .colab-df-convert:hover {\n",
              "      background-color: #E2EBFA;\n",
              "      box-shadow: 0px 1px 2px rgba(60, 64, 67, 0.3), 0px 1px 3px 1px rgba(60, 64, 67, 0.15);\n",
              "      fill: #174EA6;\n",
              "    }\n",
              "\n",
              "    [theme=dark] .colab-df-convert {\n",
              "      background-color: #3B4455;\n",
              "      fill: #D2E3FC;\n",
              "    }\n",
              "\n",
              "    [theme=dark] .colab-df-convert:hover {\n",
              "      background-color: #434B5C;\n",
              "      box-shadow: 0px 1px 3px 1px rgba(0, 0, 0, 0.15);\n",
              "      filter: drop-shadow(0px 1px 2px rgba(0, 0, 0, 0.3));\n",
              "      fill: #FFFFFF;\n",
              "    }\n",
              "  </style>\n",
              "\n",
              "      <script>\n",
              "        const buttonEl =\n",
              "          document.querySelector('#df-8ab4ea19-19f7-4dfd-9d59-0737520addbd button.colab-df-convert');\n",
              "        buttonEl.style.display =\n",
              "          google.colab.kernel.accessAllowed ? 'block' : 'none';\n",
              "\n",
              "        async function convertToInteractive(key) {\n",
              "          const element = document.querySelector('#df-8ab4ea19-19f7-4dfd-9d59-0737520addbd');\n",
              "          const dataTable =\n",
              "            await google.colab.kernel.invokeFunction('convertToInteractive',\n",
              "                                                     [key], {});\n",
              "          if (!dataTable) return;\n",
              "\n",
              "          const docLinkHtml = 'Like what you see? Visit the ' +\n",
              "            '<a target=\"_blank\" href=https://colab.research.google.com/notebooks/data_table.ipynb>data table notebook</a>'\n",
              "            + ' to learn more about interactive tables.';\n",
              "          element.innerHTML = '';\n",
              "          dataTable['output_type'] = 'display_data';\n",
              "          await google.colab.output.renderOutput(dataTable, element);\n",
              "          const docLink = document.createElement('div');\n",
              "          docLink.innerHTML = docLinkHtml;\n",
              "          element.appendChild(docLink);\n",
              "        }\n",
              "      </script>\n",
              "    </div>\n",
              "  </div>\n",
              "  "
            ]
          },
          "metadata": {},
          "execution_count": 13
        }
      ],
      "source": [
        "df.describe()"
      ]
    },
    {
      "cell_type": "code",
      "execution_count": 14,
      "id": "f5c79000",
      "metadata": {
        "colab": {
          "base_uri": "https://localhost:8080/"
        },
        "id": "f5c79000",
        "outputId": "32d5fe0b-d02b-49e7-b693-105bbb376ab0"
      },
      "outputs": [
        {
          "output_type": "execute_result",
          "data": {
            "text/plain": [
              "count    5551.000000\n",
              "mean        3.868852\n",
              "std         5.640180\n",
              "min         1.000000\n",
              "25%         1.000000\n",
              "50%         2.000000\n",
              "75%         4.000000\n",
              "max        36.000000\n",
              "Name: crop_id, dtype: float64"
            ]
          },
          "metadata": {},
          "execution_count": 14
        }
      ],
      "source": [
        "df['crop_id'].describe()"
      ]
    },
    {
      "cell_type": "code",
      "execution_count": 15,
      "id": "bab8aa94",
      "metadata": {
        "scrolled": true,
        "colab": {
          "base_uri": "https://localhost:8080/"
        },
        "id": "bab8aa94",
        "outputId": "4d2056a3-55c1-4cdd-cddb-c225d505d6de"
      },
      "outputs": [
        {
          "output_type": "execute_result",
          "data": {
            "text/plain": [
              "1     2031\n",
              "4     1641\n",
              "2      990\n",
              "9      293\n",
              "6      163\n",
              "36     129\n",
              "3      103\n",
              "13      59\n",
              "8       48\n",
              "15      41\n",
              "5       23\n",
              "16      16\n",
              "14      14\n",
              "Name: crop_id, dtype: int64"
            ]
          },
          "metadata": {},
          "execution_count": 15
        }
      ],
      "source": [
        "df['crop_id'].value_counts()"
      ]
    },
    {
      "cell_type": "code",
      "execution_count": 16,
      "id": "1206545e",
      "metadata": {
        "scrolled": true,
        "colab": {
          "base_uri": "https://localhost:8080/"
        },
        "id": "1206545e",
        "outputId": "e4d8a249-215c-45b2-848a-0d0ffdc32c50"
      },
      "outputs": [
        {
          "output_type": "stream",
          "name": "stdout",
          "text": [
            "<class 'pandas.core.frame.DataFrame'>\n",
            "RangeIndex: 5551 entries, 0 to 5550\n",
            "Data columns (total 14 columns):\n",
            " #   Column    Non-Null Count  Dtype  \n",
            "---  ------    --------------  -----  \n",
            " 0   field_id  5551 non-null   int64  \n",
            " 1   B01       5551 non-null   float64\n",
            " 2   B02       5551 non-null   float64\n",
            " 3   B03       5551 non-null   float64\n",
            " 4   B04       5551 non-null   float64\n",
            " 5   B05       5551 non-null   float64\n",
            " 6   B06       5551 non-null   float64\n",
            " 7   B07       5551 non-null   float64\n",
            " 8   B08       5551 non-null   float64\n",
            " 9   B8A       5551 non-null   float64\n",
            " 10  B09       5551 non-null   float64\n",
            " 11  B11       5551 non-null   float64\n",
            " 12  B12       5551 non-null   float64\n",
            " 13  crop_id   5551 non-null   int64  \n",
            "dtypes: float64(12), int64(2)\n",
            "memory usage: 607.3 KB\n"
          ]
        }
      ],
      "source": [
        "\n",
        "df.info()"
      ]
    },
    {
      "cell_type": "markdown",
      "id": "9c298604",
      "metadata": {
        "id": "9c298604"
      },
      "source": [
        "# Testing differents plots"
      ]
    },
    {
      "cell_type": "markdown",
      "source": [
        "## lineplot"
      ],
      "metadata": {
        "id": "mzn_ou-94c7-"
      },
      "id": "mzn_ou-94c7-"
    },
    {
      "cell_type": "code",
      "source": [
        "sns.lineplot(data = df1)"
      ],
      "metadata": {
        "id": "bTVK5at-4cM0",
        "outputId": "bd94710f-4d40-4cc0-9dfd-eaec4bb7d096",
        "colab": {
          "base_uri": "https://localhost:8080/",
          "height": 301
        }
      },
      "id": "bTVK5at-4cM0",
      "execution_count": 17,
      "outputs": [
        {
          "output_type": "execute_result",
          "data": {
            "text/plain": [
              "<matplotlib.axes._subplots.AxesSubplot at 0x7f7438567950>"
            ]
          },
          "metadata": {},
          "execution_count": 17
        },
        {
          "output_type": "display_data",
          "data": {
            "text/plain": [
              "<Figure size 432x288 with 1 Axes>"
            ],
            "image/png": "[encoded data removed]"
          },
          "metadata": {
            "needs_background": "light"
          }
        }
      ]
    },
    {
      "cell_type": "markdown",
      "source": [
        "## barplot"
      ],
      "metadata": {
        "id": "ylGweaFw5oin"
      },
      "id": "ylGweaFw5oin"
    },
    {
      "cell_type": "code",
      "source": [
        "for i in df1.columns :\n",
        "\n",
        "\n",
        "  plt.figure(figsize=(10,6))\n",
        "\n",
        "  plt.title(f\"Distribution of data of {i} channel over crop_id\")\n",
        "\n",
        "  plt.ylabel(\"Crop_id for train  data \")\n",
        "\n",
        "  sns.barplot(x= df1.index,y=df1[i])"
      ],
      "metadata": {
        "id": "-lZIt-dq5tFc",
        "outputId": "3cec9377-0f54-458f-aa58-20b4f39c5a1a",
        "colab": {
          "base_uri": "https://localhost:8080/",
          "height": 1000
        }
      },
      "id": "-lZIt-dq5tFc",
      "execution_count": 18,
      "outputs": [
        {
          "output_type": "display_data",
          "data": {
            "text/plain": [
              "<Figure size 720x432 with 1 Axes>"
            ],
            "image/png": "[encoded data removed]"
          },
          "metadata": {
            "needs_background": "light"
          }
        },
        {
          "output_type": "display_data",
          "data": {
            "text/plain": [
              "<Figure size 720x432 with 1 Axes>"
            ],
            "image/png": "[encoded data removed]"
          },
          "metadata": {
            "needs_background": "light"
          }
        },
        {
          "output_type": "display_data",
          "data": {
            "text/plain": [
              "<Figure size 720x432 with 1 Axes>"
            ],
            "image/png": "[encoded data removed]"
          },
          "metadata": {
            "needs_background": "light"
          }
        },
        {
          "output_type": "display_data",
          "data": {
            "text/plain": [
              "<Figure size 720x432 with 1 Axes>"
            ],
            "image/png": "[encoded data removed]"
          },
          "metadata": {
            "needs_background": "light"
          }
        },
        {
          "output_type": "display_data",
          "data": {
            "text/plain": [
              "<Figure size 720x432 with 1 Axes>"
            ],
            "image/png": "[encoded data removed]"
          },
          "metadata": {
            "needs_background": "light"
          }
        },
        {
          "output_type": "display_data",
          "data": {
            "text/plain": [
              "<Figure size 720x432 with 1 Axes>"
            ],
            "image/png": "[encoded data removed]"
          },
          "metadata": {
            "needs_background": "light"
          }
        },
        {
          "output_type": "display_data",
          "data": {
            "text/plain": [
              "<Figure size 720x432 with 1 Axes>"
            ],
            "image/png": "[encoded data removed]"
          },
          "metadata": {
            "needs_background": "light"
          }
        },
        {
          "output_type": "display_data",
          "data": {
            "text/plain": [
              "<Figure size 720x432 with 1 Axes>"
            ],
            "image/png": "[encoded data removed]"
          },
          "metadata": {
            "needs_background": "light"
          }
        },
        {
          "output_type": "display_data",
          "data": {
            "text/plain": [
              "<Figure size 720x432 with 1 Axes>"
            ],
            "image/png": "[encoded data removed]"
          },
          "metadata": {
            "needs_background": "light"
          }
        },
        {
          "output_type": "display_data",
          "data": {
            "text/plain": [
              "<Figure size 720x432 with 1 Axes>"
            ],
            "image/png": "[encoded data removed]"
          },
          "metadata": {
            "needs_background": "light"
          }
        },
        {
          "output_type": "display_data",
          "data": {
            "text/plain": [
              "<Figure size 720x432 with 1 Axes>"
            ],
            "image/png": "[encoded data removed]"
          },
          "metadata": {
            "needs_background": "light"
          }
        },
        {
          "output_type": "display_data",
          "data": {
            "text/plain": [
              "<Figure size 720x432 with 1 Axes>"
            ],
            "image/png": "[encoded data removed]"
          },
          "metadata": {
            "needs_background": "light"
          }
        },
        {
          "output_type": "display_data",
          "data": {
            "text/plain": [
              "<Figure size 720x432 with 1 Axes>"
            ],
            "image/png": "[encoded data removed]"
          },
          "metadata": {
            "needs_background": "light"
          }
        }
      ]
    },
    {
      "cell_type": "markdown",
      "source": [
        "##Heatmap"
      ],
      "metadata": {
        "id": "kuahO7RY79z9"
      },
      "id": "kuahO7RY79z9"
    },
    {
      "cell_type": "code",
      "source": [
        "plt.figure(figsize=(16,4))\n",
        "plt.title(\"Heat map for all channels over crop_id\")\n",
        "sns.heatmap(data=df1,annot=True)\n",
        "\n",
        "plt.xlabel(\"crop_id\")\n",
        "\n",
        "plt.show()"
      ],
      "metadata": {
        "id": "7IHS-bDc8Ali",
        "colab": {
          "base_uri": "https://localhost:8080/",
          "height": 297
        },
        "outputId": "acebf165-1c08-4749-f7a0-4c01c328289d"
      },
      "id": "7IHS-bDc8Ali",
      "execution_count": 19,
      "outputs": [
        {
          "output_type": "display_data",
          "data": {
            "text/plain": [
              "<Figure size 1152x288 with 2 Axes>"
            ],
            "image/png": "[encoded data removed]"
          },
          "metadata": {
            "needs_background": "light"
          }
        }
      ]
    },
    {
      "cell_type": "markdown",
      "id": "313f1efe",
      "metadata": {
        "id": "313f1efe"
      },
      "source": [
        "## histogram"
      ]
    },
    {
      "cell_type": "code",
      "execution_count": 20,
      "id": "99205342",
      "metadata": {
        "colab": {
          "base_uri": "https://localhost:8080/",
          "height": 678
        },
        "id": "99205342",
        "outputId": "fe9b59de-a02a-4757-b619-8ee48f30ad7a"
      },
      "outputs": [
        {
          "output_type": "display_data",
          "data": {
            "text/plain": [
              "<Figure size 1440x1080 with 16 Axes>"
            ],
            "image/png": "[encoded data removed]"
          },
          "metadata": {
            "needs_background": "light"
          }
        }
      ],
      "source": [
        "%matplotlib inline \n",
        "import matplotlib.pyplot as plt\n",
        "df.hist(bins=50, figsize=(20,15))\n",
        "plt.show()"
      ]
    },
    {
      "cell_type": "markdown",
      "id": "67d12d26",
      "metadata": {
        "id": "67d12d26"
      },
      "source": [
        "## scatter plot"
      ]
    },
    {
      "cell_type": "code",
      "execution_count": 21,
      "id": "3dfe23a5",
      "metadata": {
        "colab": {
          "base_uri": "https://localhost:8080/",
          "height": 265
        },
        "id": "3dfe23a5",
        "outputId": "a4707aba-b692-4f51-9f93-af0f776bca3a"
      },
      "outputs": [
        {
          "output_type": "display_data",
          "data": {
            "text/plain": [
              "<Figure size 432x288 with 1 Axes>"
            ],
            "image/png": "[encoded data removed]"
          },
          "metadata": {
            "needs_background": "light"
          }
        }
      ],
      "source": [
        "%matplotlib inline \n",
        "\n",
        "\n",
        "plt.scatter(df[\"field_id\"],df[\"crop_id\"])\n",
        "plt.show()"
      ]
    },
    {
      "cell_type": "markdown",
      "id": "d6635494",
      "metadata": {
        "id": "d6635494"
      },
      "source": [
        "## boxplot"
      ]
    },
    {
      "cell_type": "code",
      "execution_count": 22,
      "id": "d13c2b53",
      "metadata": {
        "colab": {
          "base_uri": "https://localhost:8080/",
          "height": 283
        },
        "id": "d13c2b53",
        "outputId": "bd252cb4-9deb-414b-dbe3-2b617ab03ea8"
      },
      "outputs": [
        {
          "output_type": "execute_result",
          "data": {
            "text/plain": [
              "<matplotlib.axes._subplots.AxesSubplot at 0x7f74128b6850>"
            ]
          },
          "metadata": {},
          "execution_count": 22
        },
        {
          "output_type": "display_data",
          "data": {
            "text/plain": [
              "<Figure size 432x288 with 1 Axes>"
            ],
            "image/png": "[encoded data removed]"
          },
          "metadata": {
            "needs_background": "light"
          }
        }
      ],
      "source": [
        "df[['field_id','crop_id']].boxplot()"
      ]
    },
    {
      "cell_type": "markdown",
      "source": [
        "##**Looking for correlations**"
      ],
      "metadata": {
        "id": "PvMNRZzNzpaJ"
      },
      "id": "PvMNRZzNzpaJ"
    },
    {
      "cell_type": "code",
      "execution_count": 23,
      "id": "4ecde32c",
      "metadata": {
        "colab": {
          "base_uri": "https://localhost:8080/",
          "height": 552
        },
        "id": "4ecde32c",
        "outputId": "88cb71ba-abe3-4661-8954-c08d7e10b1b8"
      },
      "outputs": [
        {
          "output_type": "execute_result",
          "data": {
            "text/plain": [
              "              field_id          B01          B02          B03          B04  \\\n",
              "field_id  4.349647e+06 -1122.514134 -2560.522107 -4364.310091 -6327.244907   \n",
              "B01      -1.122514e+03     8.283535     8.780277     8.597452     7.611098   \n",
              "B02      -2.560522e+03     8.780277    12.157313    14.984243    19.701817   \n",
              "B03      -4.364310e+03     8.597452    14.984243    21.822471    33.351807   \n",
              "B04      -6.327245e+03     7.611098    19.701817    33.351807    61.831377   \n",
              "B05      -6.521830e+03     5.252864    15.852557    28.548426    54.533374   \n",
              "B06      -6.146750e+03     5.705540    11.237523    18.797037    28.388695   \n",
              "B07      -5.285071e+03     6.677203    10.597306    16.386343    20.655706   \n",
              "B08      -4.444217e+03     4.111811     7.643986    13.102607    18.711507   \n",
              "B8A      -6.156528e+03     5.201287     9.620687    16.451391    23.240764   \n",
              "B09      -2.106376e+02    -2.640394    -2.061024    -1.134526     2.502973   \n",
              "B11      -1.514706e+04    -3.160916    13.701173    36.978161    88.212617   \n",
              "B12      -1.261212e+04     0.569193    17.331429    39.014783    88.522425   \n",
              "crop_id   2.744934e+03    -2.821836    -5.510134    -8.230836   -14.169924   \n",
              "\n",
              "                  B05          B06          B07          B08          B8A  \\\n",
              "field_id -6521.829772 -6146.749931 -5285.070623 -4444.216666 -6156.528462   \n",
              "B01          5.252864     5.705540     6.677203     4.111811     5.201287   \n",
              "B02         15.852557    11.237523    10.597306     7.643986     9.620687   \n",
              "B03         28.548426    18.797037    16.386343    13.102607    16.451391   \n",
              "B04         54.533374    28.388695    20.655706    18.711507    23.240764   \n",
              "B05         50.242943    28.606826    21.757787    20.878504    25.612514   \n",
              "B06         28.606826    32.659577    35.777492    33.141067    40.355440   \n",
              "B07         21.757787    35.777492    44.503771    40.866840    49.930547   \n",
              "B08         20.878504    33.141067    40.866840    39.497201    47.501446   \n",
              "B8A         25.612514    40.355440    49.930547    47.501446    58.576342   \n",
              "B09          4.113392     2.225598     0.805876     2.813281     1.878569   \n",
              "B11         89.284780    54.767310    44.004629    50.014681    63.901613   \n",
              "B12         85.405709    43.365967    28.715965    33.123640    41.843503   \n",
              "crop_id    -12.239689    -5.376732    -2.472125    -2.017352    -2.755494   \n",
              "\n",
              "                 B09           B11           B12      crop_id  \n",
              "field_id -210.637649 -15147.059403 -12612.116691  2744.933900  \n",
              "B01        -2.640394     -3.160916      0.569193    -2.821836  \n",
              "B02        -2.061024     13.701173     17.331429    -5.510134  \n",
              "B03        -1.134526     36.978161     39.014783    -8.230836  \n",
              "B04         2.502973     88.212617     88.522425   -14.169924  \n",
              "B05         4.113392     89.284780     85.405709   -12.239689  \n",
              "B06         2.225598     54.767310     43.365967    -5.376732  \n",
              "B07         0.805876     44.004629     28.715965    -2.472125  \n",
              "B08         2.813281     50.014681     33.123640    -2.017352  \n",
              "B8A         1.878569     63.901613     41.843503    -2.755494  \n",
              "B09         6.181066     12.210059     11.141362    -0.591433  \n",
              "B11        12.210059    246.195097    209.070745   -18.000687  \n",
              "B12        11.141362    209.070745    191.866342   -20.243725  \n",
              "crop_id    -0.591433    -18.000687    -20.243725    31.811626  "
            ],
            "text/html": [
              "\n",
              "  <div id=\"df-d4efaf57-5021-4484-8588-4db5999f1f5e\">\n",
              "    <div class=\"colab-df-container\">\n",
              "      <div>\n",
              "<style scoped>\n",
              "    .dataframe tbody tr th:only-of-type {\n",
              "        vertical-align: middle;\n",
              "    }\n",
              "\n",
              "    .dataframe tbody tr th {\n",
              "        vertical-align: top;\n",
              "    }\n",
              "\n",
              "    .dataframe thead th {\n",
              "        text-align: right;\n",
              "    }\n",
              "</style>\n",
              "<table border=\"1\" class=\"dataframe\">\n",
              "  <thead>\n",
              "    <tr style=\"text-align: right;\">\n",
              "      <th></th>\n",
              "      <th>field_id</th>\n",
              "      <th>B01</th>\n",
              "      <th>B02</th>\n",
              "      <th>B03</th>\n",
              "      <th>B04</th>\n",
              "      <th>B05</th>\n",
              "      <th>B06</th>\n",
              "      <th>B07</th>\n",
              "      <th>B08</th>\n",
              "      <th>B8A</th>\n",
              "      <th>B09</th>\n",
              "      <th>B11</th>\n",
              "      <th>B12</th>\n",
              "      <th>crop_id</th>\n",
              "    </tr>\n",
              "  </thead>\n",
              "  <tbody>\n",
              "    <tr>\n",
              "      <th>field_id</th>\n",
              "      <td>4.349647e+06</td>\n",
              "      <td>-1122.514134</td>\n",
              "      <td>-2560.522107</td>\n",
              "      <td>-4364.310091</td>\n",
              "      <td>-6327.244907</td>\n",
              "      <td>-6521.829772</td>\n",
              "      <td>-6146.749931</td>\n",
              "      <td>-5285.070623</td>\n",
              "      <td>-4444.216666</td>\n",
              "      <td>-6156.528462</td>\n",
              "      <td>-210.637649</td>\n",
              "      <td>-15147.059403</td>\n",
              "      <td>-12612.116691</td>\n",
              "      <td>2744.933900</td>\n",
              "    </tr>\n",
              "    <tr>\n",
              "      <th>B01</th>\n",
              "      <td>-1.122514e+03</td>\n",
              "      <td>8.283535</td>\n",
              "      <td>8.780277</td>\n",
              "      <td>8.597452</td>\n",
              "      <td>7.611098</td>\n",
              "      <td>5.252864</td>\n",
              "      <td>5.705540</td>\n",
              "      <td>6.677203</td>\n",
              "      <td>4.111811</td>\n",
              "      <td>5.201287</td>\n",
              "      <td>-2.640394</td>\n",
              "      <td>-3.160916</td>\n",
              "      <td>0.569193</td>\n",
              "      <td>-2.821836</td>\n",
              "    </tr>\n",
              "    <tr>\n",
              "      <th>B02</th>\n",
              "      <td>-2.560522e+03</td>\n",
              "      <td>8.780277</td>\n",
              "      <td>12.157313</td>\n",
              "      <td>14.984243</td>\n",
              "      <td>19.701817</td>\n",
              "      <td>15.852557</td>\n",
              "      <td>11.237523</td>\n",
              "      <td>10.597306</td>\n",
              "      <td>7.643986</td>\n",
              "      <td>9.620687</td>\n",
              "      <td>-2.061024</td>\n",
              "      <td>13.701173</td>\n",
              "      <td>17.331429</td>\n",
              "      <td>-5.510134</td>\n",
              "    </tr>\n",
              "    <tr>\n",
              "      <th>B03</th>\n",
              "      <td>-4.364310e+03</td>\n",
              "      <td>8.597452</td>\n",
              "      <td>14.984243</td>\n",
              "      <td>21.822471</td>\n",
              "      <td>33.351807</td>\n",
              "      <td>28.548426</td>\n",
              "      <td>18.797037</td>\n",
              "      <td>16.386343</td>\n",
              "      <td>13.102607</td>\n",
              "      <td>16.451391</td>\n",
              "      <td>-1.134526</td>\n",
              "      <td>36.978161</td>\n",
              "      <td>39.014783</td>\n",
              "      <td>-8.230836</td>\n",
              "    </tr>\n",
              "    <tr>\n",
              "      <th>B04</th>\n",
              "      <td>-6.327245e+03</td>\n",
              "      <td>7.611098</td>\n",
              "      <td>19.701817</td>\n",
              "      <td>33.351807</td>\n",
              "      <td>61.831377</td>\n",
              "      <td>54.533374</td>\n",
              "      <td>28.388695</td>\n",
              "      <td>20.655706</td>\n",
              "      <td>18.711507</td>\n",
              "      <td>23.240764</td>\n",
              "      <td>2.502973</td>\n",
              "      <td>88.212617</td>\n",
              "      <td>88.522425</td>\n",
              "      <td>-14.169924</td>\n",
              "    </tr>\n",
              "    <tr>\n",
              "      <th>B05</th>\n",
              "      <td>-6.521830e+03</td>\n",
              "      <td>5.252864</td>\n",
              "      <td>15.852557</td>\n",
              "      <td>28.548426</td>\n",
              "      <td>54.533374</td>\n",
              "      <td>50.242943</td>\n",
              "      <td>28.606826</td>\n",
              "      <td>21.757787</td>\n",
              "      <td>20.878504</td>\n",
              "      <td>25.612514</td>\n",
              "      <td>4.113392</td>\n",
              "      <td>89.284780</td>\n",
              "      <td>85.405709</td>\n",
              "      <td>-12.239689</td>\n",
              "    </tr>\n",
              "    <tr>\n",
              "      <th>B06</th>\n",
              "      <td>-6.146750e+03</td>\n",
              "      <td>5.705540</td>\n",
              "      <td>11.237523</td>\n",
              "      <td>18.797037</td>\n",
              "      <td>28.388695</td>\n",
              "      <td>28.606826</td>\n",
              "      <td>32.659577</td>\n",
              "      <td>35.777492</td>\n",
              "      <td>33.141067</td>\n",
              "      <td>40.355440</td>\n",
              "      <td>2.225598</td>\n",
              "      <td>54.767310</td>\n",
              "      <td>43.365967</td>\n",
              "      <td>-5.376732</td>\n",
              "    </tr>\n",
              "    <tr>\n",
              "      <th>B07</th>\n",
              "      <td>-5.285071e+03</td>\n",
              "      <td>6.677203</td>\n",
              "      <td>10.597306</td>\n",
              "      <td>16.386343</td>\n",
              "      <td>20.655706</td>\n",
              "      <td>21.757787</td>\n",
              "      <td>35.777492</td>\n",
              "      <td>44.503771</td>\n",
              "      <td>40.866840</td>\n",
              "      <td>49.930547</td>\n",
              "      <td>0.805876</td>\n",
              "      <td>44.004629</td>\n",
              "      <td>28.715965</td>\n",
              "      <td>-2.472125</td>\n",
              "    </tr>\n",
              "    <tr>\n",
              "      <th>B08</th>\n",
              "      <td>-4.444217e+03</td>\n",
              "      <td>4.111811</td>\n",
              "      <td>7.643986</td>\n",
              "      <td>13.102607</td>\n",
              "      <td>18.711507</td>\n",
              "      <td>20.878504</td>\n",
              "      <td>33.141067</td>\n",
              "      <td>40.866840</td>\n",
              "      <td>39.497201</td>\n",
              "      <td>47.501446</td>\n",
              "      <td>2.813281</td>\n",
              "      <td>50.014681</td>\n",
              "      <td>33.123640</td>\n",
              "      <td>-2.017352</td>\n",
              "    </tr>\n",
              "    <tr>\n",
              "      <th>B8A</th>\n",
              "      <td>-6.156528e+03</td>\n",
              "      <td>5.201287</td>\n",
              "      <td>9.620687</td>\n",
              "      <td>16.451391</td>\n",
              "      <td>23.240764</td>\n",
              "      <td>25.612514</td>\n",
              "      <td>40.355440</td>\n",
              "      <td>49.930547</td>\n",
              "      <td>47.501446</td>\n",
              "      <td>58.576342</td>\n",
              "      <td>1.878569</td>\n",
              "      <td>63.901613</td>\n",
              "      <td>41.843503</td>\n",
              "      <td>-2.755494</td>\n",
              "    </tr>\n",
              "    <tr>\n",
              "      <th>B09</th>\n",
              "      <td>-2.106376e+02</td>\n",
              "      <td>-2.640394</td>\n",
              "      <td>-2.061024</td>\n",
              "      <td>-1.134526</td>\n",
              "      <td>2.502973</td>\n",
              "      <td>4.113392</td>\n",
              "      <td>2.225598</td>\n",
              "      <td>0.805876</td>\n",
              "      <td>2.813281</td>\n",
              "      <td>1.878569</td>\n",
              "      <td>6.181066</td>\n",
              "      <td>12.210059</td>\n",
              "      <td>11.141362</td>\n",
              "      <td>-0.591433</td>\n",
              "    </tr>\n",
              "    <tr>\n",
              "      <th>B11</th>\n",
              "      <td>-1.514706e+04</td>\n",
              "      <td>-3.160916</td>\n",
              "      <td>13.701173</td>\n",
              "      <td>36.978161</td>\n",
              "      <td>88.212617</td>\n",
              "      <td>89.284780</td>\n",
              "      <td>54.767310</td>\n",
              "      <td>44.004629</td>\n",
              "      <td>50.014681</td>\n",
              "      <td>63.901613</td>\n",
              "      <td>12.210059</td>\n",
              "      <td>246.195097</td>\n",
              "      <td>209.070745</td>\n",
              "      <td>-18.000687</td>\n",
              "    </tr>\n",
              "    <tr>\n",
              "      <th>B12</th>\n",
              "      <td>-1.261212e+04</td>\n",
              "      <td>0.569193</td>\n",
              "      <td>17.331429</td>\n",
              "      <td>39.014783</td>\n",
              "      <td>88.522425</td>\n",
              "      <td>85.405709</td>\n",
              "      <td>43.365967</td>\n",
              "      <td>28.715965</td>\n",
              "      <td>33.123640</td>\n",
              "      <td>41.843503</td>\n",
              "      <td>11.141362</td>\n",
              "      <td>209.070745</td>\n",
              "      <td>191.866342</td>\n",
              "      <td>-20.243725</td>\n",
              "    </tr>\n",
              "    <tr>\n",
              "      <th>crop_id</th>\n",
              "      <td>2.744934e+03</td>\n",
              "      <td>-2.821836</td>\n",
              "      <td>-5.510134</td>\n",
              "      <td>-8.230836</td>\n",
              "      <td>-14.169924</td>\n",
              "      <td>-12.239689</td>\n",
              "      <td>-5.376732</td>\n",
              "      <td>-2.472125</td>\n",
              "      <td>-2.017352</td>\n",
              "      <td>-2.755494</td>\n",
              "      <td>-0.591433</td>\n",
              "      <td>-18.000687</td>\n",
              "      <td>-20.243725</td>\n",
              "      <td>31.811626</td>\n",
              "    </tr>\n",
              "  </tbody>\n",
              "</table>\n",
              "</div>\n",
              "      <button class=\"colab-df-convert\" onclick=\"convertToInteractive('df-d4efaf57-5021-4484-8588-4db5999f1f5e')\"\n",
              "              title=\"Convert this dataframe to an interactive table.\"\n",
              "              style=\"display:none;\">\n",
              "        \n",
              "  <svg xmlns=\"http://www.w3.org/2000/svg\" height=\"24px\"viewBox=\"0 0 24 24\"\n",
              "       width=\"24px\">\n",
              "    <path d=\"M0 0h24v24H0V0z\" fill=\"none\"/>\n",
              "    <path d=\"M18.56 5.44l.94 2.06.94-2.06 2.06-.94-2.06-.94-.94-2.06-.94 2.06-2.06.94zm-11 1L8.5 8.5l.94-2.06 2.06-.94-2.06-.94L8.5 2.5l-.94 2.06-2.06.94zm10 10l.94 2.06.94-2.06 2.06-.94-2.06-.94-.94-2.06-.94 2.06-2.06.94z\"/><path d=\"M17.41 7.96l-1.37-1.37c-.4-.4-.92-.59-1.43-.59-.52 0-1.04.2-1.43.59L10.3 9.45l-7.72 7.72c-.78.78-.78 2.05 0 2.83L4 21.41c.39.39.9.59 1.41.59.51 0 1.02-.2 1.41-.59l7.78-7.78 2.81-2.81c.8-.78.8-2.07 0-2.86zM5.41 20L4 18.59l7.72-7.72 1.47 1.35L5.41 20z\"/>\n",
              "  </svg>\n",
              "      </button>\n",
              "      \n",
              "  <style>\n",
              "    .colab-df-container {\n",
              "      display:flex;\n",
              "      flex-wrap:wrap;\n",
              "      gap: 12px;\n",
              "    }\n",
              "\n",
              "    .colab-df-convert {\n",
              "      background-color: #E8F0FE;\n",
              "      border: none;\n",
              "      border-radius: 50%;\n",
              "      cursor: pointer;\n",
              "      display: none;\n",
              "      fill: #1967D2;\n",
              "      height: 32px;\n",
              "      padding: 0 0 0 0;\n",
              "      width: 32px;\n",
              "    }\n",
              "\n",
              "    .colab-df-convert:hover {\n",
              "      background-color: #E2EBFA;\n",
              "      box-shadow: 0px 1px 2px rgba(60, 64, 67, 0.3), 0px 1px 3px 1px rgba(60, 64, 67, 0.15);\n",
              "      fill: #174EA6;\n",
              "    }\n",
              "\n",
              "    [theme=dark] .colab-df-convert {\n",
              "      background-color: #3B4455;\n",
              "      fill: #D2E3FC;\n",
              "    }\n",
              "\n",
              "    [theme=dark] .colab-df-convert:hover {\n",
              "      background-color: #434B5C;\n",
              "      box-shadow: 0px 1px 3px 1px rgba(0, 0, 0, 0.15);\n",
              "      filter: drop-shadow(0px 1px 2px rgba(0, 0, 0, 0.3));\n",
              "      fill: #FFFFFF;\n",
              "    }\n",
              "  </style>\n",
              "\n",
              "      <script>\n",
              "        const buttonEl =\n",
              "          document.querySelector('#df-d4efaf57-5021-4484-8588-4db5999f1f5e button.colab-df-convert');\n",
              "        buttonEl.style.display =\n",
              "          google.colab.kernel.accessAllowed ? 'block' : 'none';\n",
              "\n",
              "        async function convertToInteractive(key) {\n",
              "          const element = document.querySelector('#df-d4efaf57-5021-4484-8588-4db5999f1f5e');\n",
              "          const dataTable =\n",
              "            await google.colab.kernel.invokeFunction('convertToInteractive',\n",
              "                                                     [key], {});\n",
              "          if (!dataTable) return;\n",
              "\n",
              "          const docLinkHtml = 'Like what you see? Visit the ' +\n",
              "            '<a target=\"_blank\" href=https://colab.research.google.com/notebooks/data_table.ipynb>data table notebook</a>'\n",
              "            + ' to learn more about interactive tables.';\n",
              "          element.innerHTML = '';\n",
              "          dataTable['output_type'] = 'display_data';\n",
              "          await google.colab.output.renderOutput(dataTable, element);\n",
              "          const docLink = document.createElement('div');\n",
              "          docLink.innerHTML = docLinkHtml;\n",
              "          element.appendChild(docLink);\n",
              "        }\n",
              "      </script>\n",
              "    </div>\n",
              "  </div>\n",
              "  "
            ]
          },
          "metadata": {},
          "execution_count": 23
        }
      ],
      "source": [
        "df.cov()"
      ]
    },
    {
      "cell_type": "code",
      "execution_count": 24,
      "id": "6c264994",
      "metadata": {
        "colab": {
          "base_uri": "https://localhost:8080/",
          "height": 552
        },
        "id": "6c264994",
        "outputId": "7c6ed9bd-806e-4d5e-dd2a-f0e65a5eeb47"
      },
      "outputs": [
        {
          "output_type": "execute_result",
          "data": {
            "text/plain": [
              "          field_id       B01       B02       B03       B04       B05  \\\n",
              "field_id  1.000000 -0.187007 -0.352114 -0.447957 -0.385819 -0.441169   \n",
              "B01      -0.187007  1.000000  0.874947  0.639455  0.336306  0.257484   \n",
              "B02      -0.352114  0.874947  1.000000  0.919950  0.718593  0.641421   \n",
              "B03      -0.447957  0.639455  0.919950  1.000000  0.907952  0.862170   \n",
              "B04      -0.385819  0.336306  0.718593  0.907952  1.000000  0.978409   \n",
              "B05      -0.441169  0.257484  0.641421  0.862170  0.978409  1.000000   \n",
              "B06      -0.515719  0.346883  0.563958  0.704096  0.631736  0.706199   \n",
              "B07      -0.379862  0.347767  0.455594  0.525813  0.393765  0.460128   \n",
              "B08      -0.339067  0.227322  0.348833  0.446296  0.378635  0.468682   \n",
              "B8A      -0.385698  0.236125  0.360517  0.460140  0.386176  0.472121   \n",
              "B09      -0.040623 -0.369002 -0.237757 -0.097686  0.128032  0.233416   \n",
              "B11      -0.462873 -0.069995  0.250437  0.504491  0.714968  0.802787   \n",
              "B12      -0.436578  0.014278  0.358853  0.602945  0.812736  0.869861   \n",
              "crop_id   0.233352 -0.173832 -0.280189 -0.312391 -0.319499 -0.306154   \n",
              "\n",
              "               B06       B07       B08       B8A       B09       B11  \\\n",
              "field_id -0.515719 -0.379862 -0.339067 -0.385698 -0.040623 -0.462873   \n",
              "B01       0.346883  0.347767  0.227322  0.236125 -0.369002 -0.069995   \n",
              "B02       0.563958  0.455594  0.348833  0.360517 -0.237757  0.250437   \n",
              "B03       0.704096  0.525813  0.446296  0.460140 -0.097686  0.504491   \n",
              "B04       0.631736  0.393765  0.378635  0.386176  0.128032  0.714968   \n",
              "B05       0.706199  0.460128  0.468682  0.472121  0.233416  0.802787   \n",
              "B06       1.000000  0.938439  0.922737  0.922647  0.156643  0.610768   \n",
              "B07       0.938439  1.000000  0.974742  0.977928  0.048589  0.420398   \n",
              "B08       0.922737  0.974742  1.000000  0.987558  0.180052  0.507195   \n",
              "B8A       0.922647  0.977928  0.987558  1.000000  0.098727  0.532122   \n",
              "B09       0.156643  0.048589  0.180052  0.098727  1.000000  0.313001   \n",
              "B11       0.610768  0.420398  0.507195  0.532122  0.313001  1.000000   \n",
              "B12       0.547828  0.310760  0.380501  0.394700  0.323525  0.961954   \n",
              "crop_id  -0.166809 -0.065702 -0.056912 -0.063833 -0.042177 -0.203403   \n",
              "\n",
              "               B12   crop_id  \n",
              "field_id -0.436578  0.233352  \n",
              "B01       0.014278 -0.173832  \n",
              "B02       0.358853 -0.280189  \n",
              "B03       0.602945 -0.312391  \n",
              "B04       0.812736 -0.319499  \n",
              "B05       0.869861 -0.306154  \n",
              "B06       0.547828 -0.166809  \n",
              "B07       0.310760 -0.065702  \n",
              "B08       0.380501 -0.056912  \n",
              "B8A       0.394700 -0.063833  \n",
              "B09       0.323525 -0.042177  \n",
              "B11       0.961954 -0.203403  \n",
              "B12       1.000000 -0.259118  \n",
              "crop_id  -0.259118  1.000000  "
            ],
            "text/html": [
              "\n",
              "  <div id=\"df-718bb1e2-7b2f-4cdd-8df8-94a469bf918d\">\n",
              "    <div class=\"colab-df-container\">\n",
              "      <div>\n",
              "<style scoped>\n",
              "    .dataframe tbody tr th:only-of-type {\n",
              "        vertical-align: middle;\n",
              "    }\n",
              "\n",
              "    .dataframe tbody tr th {\n",
              "        vertical-align: top;\n",
              "    }\n",
              "\n",
              "    .dataframe thead th {\n",
              "        text-align: right;\n",
              "    }\n",
              "</style>\n",
              "<table border=\"1\" class=\"dataframe\">\n",
              "  <thead>\n",
              "    <tr style=\"text-align: right;\">\n",
              "      <th></th>\n",
              "      <th>field_id</th>\n",
              "      <th>B01</th>\n",
              "      <th>B02</th>\n",
              "      <th>B03</th>\n",
              "      <th>B04</th>\n",
              "      <th>B05</th>\n",
              "      <th>B06</th>\n",
              "      <th>B07</th>\n",
              "      <th>B08</th>\n",
              "      <th>B8A</th>\n",
              "      <th>B09</th>\n",
              "      <th>B11</th>\n",
              "      <th>B12</th>\n",
              "      <th>crop_id</th>\n",
              "    </tr>\n",
              "  </thead>\n",
              "  <tbody>\n",
              "    <tr>\n",
              "      <th>field_id</th>\n",
              "      <td>1.000000</td>\n",
              "      <td>-0.187007</td>\n",
              "      <td>-0.352114</td>\n",
              "      <td>-0.447957</td>\n",
              "      <td>-0.385819</td>\n",
              "      <td>-0.441169</td>\n",
              "      <td>-0.515719</td>\n",
              "      <td>-0.379862</td>\n",
              "      <td>-0.339067</td>\n",
              "      <td>-0.385698</td>\n",
              "      <td>-0.040623</td>\n",
              "      <td>-0.462873</td>\n",
              "      <td>-0.436578</td>\n",
              "      <td>0.233352</td>\n",
              "    </tr>\n",
              "    <tr>\n",
              "      <th>B01</th>\n",
              "      <td>-0.187007</td>\n",
              "      <td>1.000000</td>\n",
              "      <td>0.874947</td>\n",
              "      <td>0.639455</td>\n",
              "      <td>0.336306</td>\n",
              "      <td>0.257484</td>\n",
              "      <td>0.346883</td>\n",
              "      <td>0.347767</td>\n",
              "      <td>0.227322</td>\n",
              "      <td>0.236125</td>\n",
              "      <td>-0.369002</td>\n",
              "      <td>-0.069995</td>\n",
              "      <td>0.014278</td>\n",
              "      <td>-0.173832</td>\n",
              "    </tr>\n",
              "    <tr>\n",
              "      <th>B02</th>\n",
              "      <td>-0.352114</td>\n",
              "      <td>0.874947</td>\n",
              "      <td>1.000000</td>\n",
              "      <td>0.919950</td>\n",
              "      <td>0.718593</td>\n",
              "      <td>0.641421</td>\n",
              "      <td>0.563958</td>\n",
              "      <td>0.455594</td>\n",
              "      <td>0.348833</td>\n",
              "      <td>0.360517</td>\n",
              "      <td>-0.237757</td>\n",
              "      <td>0.250437</td>\n",
              "      <td>0.358853</td>\n",
              "      <td>-0.280189</td>\n",
              "    </tr>\n",
              "    <tr>\n",
              "      <th>B03</th>\n",
              "      <td>-0.447957</td>\n",
              "      <td>0.639455</td>\n",
              "      <td>0.919950</td>\n",
              "      <td>1.000000</td>\n",
              "      <td>0.907952</td>\n",
              "      <td>0.862170</td>\n",
              "      <td>0.704096</td>\n",
              "      <td>0.525813</td>\n",
              "      <td>0.446296</td>\n",
              "      <td>0.460140</td>\n",
              "      <td>-0.097686</td>\n",
              "      <td>0.504491</td>\n",
              "      <td>0.602945</td>\n",
              "      <td>-0.312391</td>\n",
              "    </tr>\n",
              "    <tr>\n",
              "      <th>B04</th>\n",
              "      <td>-0.385819</td>\n",
              "      <td>0.336306</td>\n",
              "      <td>0.718593</td>\n",
              "      <td>0.907952</td>\n",
              "      <td>1.000000</td>\n",
              "      <td>0.978409</td>\n",
              "      <td>0.631736</td>\n",
              "      <td>0.393765</td>\n",
              "      <td>0.378635</td>\n",
              "      <td>0.386176</td>\n",
              "      <td>0.128032</td>\n",
              "      <td>0.714968</td>\n",
              "      <td>0.812736</td>\n",
              "      <td>-0.319499</td>\n",
              "    </tr>\n",
              "    <tr>\n",
              "      <th>B05</th>\n",
              "      <td>-0.441169</td>\n",
              "      <td>0.257484</td>\n",
              "      <td>0.641421</td>\n",
              "      <td>0.862170</td>\n",
              "      <td>0.978409</td>\n",
              "      <td>1.000000</td>\n",
              "      <td>0.706199</td>\n",
              "      <td>0.460128</td>\n",
              "      <td>0.468682</td>\n",
              "      <td>0.472121</td>\n",
              "      <td>0.233416</td>\n",
              "      <td>0.802787</td>\n",
              "      <td>0.869861</td>\n",
              "      <td>-0.306154</td>\n",
              "    </tr>\n",
              "    <tr>\n",
              "      <th>B06</th>\n",
              "      <td>-0.515719</td>\n",
              "      <td>0.346883</td>\n",
              "      <td>0.563958</td>\n",
              "      <td>0.704096</td>\n",
              "      <td>0.631736</td>\n",
              "      <td>0.706199</td>\n",
              "      <td>1.000000</td>\n",
              "      <td>0.938439</td>\n",
              "      <td>0.922737</td>\n",
              "      <td>0.922647</td>\n",
              "      <td>0.156643</td>\n",
              "      <td>0.610768</td>\n",
              "      <td>0.547828</td>\n",
              "      <td>-0.166809</td>\n",
              "    </tr>\n",
              "    <tr>\n",
              "      <th>B07</th>\n",
              "      <td>-0.379862</td>\n",
              "      <td>0.347767</td>\n",
              "      <td>0.455594</td>\n",
              "      <td>0.525813</td>\n",
              "      <td>0.393765</td>\n",
              "      <td>0.460128</td>\n",
              "      <td>0.938439</td>\n",
              "      <td>1.000000</td>\n",
              "      <td>0.974742</td>\n",
              "      <td>0.977928</td>\n",
              "      <td>0.048589</td>\n",
              "      <td>0.420398</td>\n",
              "      <td>0.310760</td>\n",
              "      <td>-0.065702</td>\n",
              "    </tr>\n",
              "    <tr>\n",
              "      <th>B08</th>\n",
              "      <td>-0.339067</td>\n",
              "      <td>0.227322</td>\n",
              "      <td>0.348833</td>\n",
              "      <td>0.446296</td>\n",
              "      <td>0.378635</td>\n",
              "      <td>0.468682</td>\n",
              "      <td>0.922737</td>\n",
              "      <td>0.974742</td>\n",
              "      <td>1.000000</td>\n",
              "      <td>0.987558</td>\n",
              "      <td>0.180052</td>\n",
              "      <td>0.507195</td>\n",
              "      <td>0.380501</td>\n",
              "      <td>-0.056912</td>\n",
              "    </tr>\n",
              "    <tr>\n",
              "      <th>B8A</th>\n",
              "      <td>-0.385698</td>\n",
              "      <td>0.236125</td>\n",
              "      <td>0.360517</td>\n",
              "      <td>0.460140</td>\n",
              "      <td>0.386176</td>\n",
              "      <td>0.472121</td>\n",
              "      <td>0.922647</td>\n",
              "      <td>0.977928</td>\n",
              "      <td>0.987558</td>\n",
              "      <td>1.000000</td>\n",
              "      <td>0.098727</td>\n",
              "      <td>0.532122</td>\n",
              "      <td>0.394700</td>\n",
              "      <td>-0.063833</td>\n",
              "    </tr>\n",
              "    <tr>\n",
              "      <th>B09</th>\n",
              "      <td>-0.040623</td>\n",
              "      <td>-0.369002</td>\n",
              "      <td>-0.237757</td>\n",
              "      <td>-0.097686</td>\n",
              "      <td>0.128032</td>\n",
              "      <td>0.233416</td>\n",
              "      <td>0.156643</td>\n",
              "      <td>0.048589</td>\n",
              "      <td>0.180052</td>\n",
              "      <td>0.098727</td>\n",
              "      <td>1.000000</td>\n",
              "      <td>0.313001</td>\n",
              "      <td>0.323525</td>\n",
              "      <td>-0.042177</td>\n",
              "    </tr>\n",
              "    <tr>\n",
              "      <th>B11</th>\n",
              "      <td>-0.462873</td>\n",
              "      <td>-0.069995</td>\n",
              "      <td>0.250437</td>\n",
              "      <td>0.504491</td>\n",
              "      <td>0.714968</td>\n",
              "      <td>0.802787</td>\n",
              "      <td>0.610768</td>\n",
              "      <td>0.420398</td>\n",
              "      <td>0.507195</td>\n",
              "      <td>0.532122</td>\n",
              "      <td>0.313001</td>\n",
              "      <td>1.000000</td>\n",
              "      <td>0.961954</td>\n",
              "      <td>-0.203403</td>\n",
              "    </tr>\n",
              "    <tr>\n",
              "      <th>B12</th>\n",
              "      <td>-0.436578</td>\n",
              "      <td>0.014278</td>\n",
              "      <td>0.358853</td>\n",
              "      <td>0.602945</td>\n",
              "      <td>0.812736</td>\n",
              "      <td>0.869861</td>\n",
              "      <td>0.547828</td>\n",
              "      <td>0.310760</td>\n",
              "      <td>0.380501</td>\n",
              "      <td>0.394700</td>\n",
              "      <td>0.323525</td>\n",
              "      <td>0.961954</td>\n",
              "      <td>1.000000</td>\n",
              "      <td>-0.259118</td>\n",
              "    </tr>\n",
              "    <tr>\n",
              "      <th>crop_id</th>\n",
              "      <td>0.233352</td>\n",
              "      <td>-0.173832</td>\n",
              "      <td>-0.280189</td>\n",
              "      <td>-0.312391</td>\n",
              "      <td>-0.319499</td>\n",
              "      <td>-0.306154</td>\n",
              "      <td>-0.166809</td>\n",
              "      <td>-0.065702</td>\n",
              "      <td>-0.056912</td>\n",
              "      <td>-0.063833</td>\n",
              "      <td>-0.042177</td>\n",
              "      <td>-0.203403</td>\n",
              "      <td>-0.259118</td>\n",
              "      <td>1.000000</td>\n",
              "    </tr>\n",
              "  </tbody>\n",
              "</table>\n",
              "</div>\n",
              "      <button class=\"colab-df-convert\" onclick=\"convertToInteractive('df-718bb1e2-7b2f-4cdd-8df8-94a469bf918d')\"\n",
              "              title=\"Convert this dataframe to an interactive table.\"\n",
              "              style=\"display:none;\">\n",
              "        \n",
              "  <svg xmlns=\"http://www.w3.org/2000/svg\" height=\"24px\"viewBox=\"0 0 24 24\"\n",
              "       width=\"24px\">\n",
              "    <path d=\"M0 0h24v24H0V0z\" fill=\"none\"/>\n",
              "    <path d=\"M18.56 5.44l.94 2.06.94-2.06 2.06-.94-2.06-.94-.94-2.06-.94 2.06-2.06.94zm-11 1L8.5 8.5l.94-2.06 2.06-.94-2.06-.94L8.5 2.5l-.94 2.06-2.06.94zm10 10l.94 2.06.94-2.06 2.06-.94-2.06-.94-.94-2.06-.94 2.06-2.06.94z\"/><path d=\"M17.41 7.96l-1.37-1.37c-.4-.4-.92-.59-1.43-.59-.52 0-1.04.2-1.43.59L10.3 9.45l-7.72 7.72c-.78.78-.78 2.05 0 2.83L4 21.41c.39.39.9.59 1.41.59.51 0 1.02-.2 1.41-.59l7.78-7.78 2.81-2.81c.8-.78.8-2.07 0-2.86zM5.41 20L4 18.59l7.72-7.72 1.47 1.35L5.41 20z\"/>\n",
              "  </svg>\n",
              "      </button>\n",
              "      \n",
              "  <style>\n",
              "    .colab-df-container {\n",
              "      display:flex;\n",
              "      flex-wrap:wrap;\n",
              "      gap: 12px;\n",
              "    }\n",
              "\n",
              "    .colab-df-convert {\n",
              "      background-color: #E8F0FE;\n",
              "      border: none;\n",
              "      border-radius: 50%;\n",
              "      cursor: pointer;\n",
              "      display: none;\n",
              "      fill: #1967D2;\n",
              "      height: 32px;\n",
              "      padding: 0 0 0 0;\n",
              "      width: 32px;\n",
              "    }\n",
              "\n",
              "    .colab-df-convert:hover {\n",
              "      background-color: #E2EBFA;\n",
              "      box-shadow: 0px 1px 2px rgba(60, 64, 67, 0.3), 0px 1px 3px 1px rgba(60, 64, 67, 0.15);\n",
              "      fill: #174EA6;\n",
              "    }\n",
              "\n",
              "    [theme=dark] .colab-df-convert {\n",
              "      background-color: #3B4455;\n",
              "      fill: #D2E3FC;\n",
              "    }\n",
              "\n",
              "    [theme=dark] .colab-df-convert:hover {\n",
              "      background-color: #434B5C;\n",
              "      box-shadow: 0px 1px 3px 1px rgba(0, 0, 0, 0.15);\n",
              "      filter: drop-shadow(0px 1px 2px rgba(0, 0, 0, 0.3));\n",
              "      fill: #FFFFFF;\n",
              "    }\n",
              "  </style>\n",
              "\n",
              "      <script>\n",
              "        const buttonEl =\n",
              "          document.querySelector('#df-718bb1e2-7b2f-4cdd-8df8-94a469bf918d button.colab-df-convert');\n",
              "        buttonEl.style.display =\n",
              "          google.colab.kernel.accessAllowed ? 'block' : 'none';\n",
              "\n",
              "        async function convertToInteractive(key) {\n",
              "          const element = document.querySelector('#df-718bb1e2-7b2f-4cdd-8df8-94a469bf918d');\n",
              "          const dataTable =\n",
              "            await google.colab.kernel.invokeFunction('convertToInteractive',\n",
              "                                                     [key], {});\n",
              "          if (!dataTable) return;\n",
              "\n",
              "          const docLinkHtml = 'Like what you see? Visit the ' +\n",
              "            '<a target=\"_blank\" href=https://colab.research.google.com/notebooks/data_table.ipynb>data table notebook</a>'\n",
              "            + ' to learn more about interactive tables.';\n",
              "          element.innerHTML = '';\n",
              "          dataTable['output_type'] = 'display_data';\n",
              "          await google.colab.output.renderOutput(dataTable, element);\n",
              "          const docLink = document.createElement('div');\n",
              "          docLink.innerHTML = docLinkHtml;\n",
              "          element.appendChild(docLink);\n",
              "        }\n",
              "      </script>\n",
              "    </div>\n",
              "  </div>\n",
              "  "
            ]
          },
          "metadata": {},
          "execution_count": 24
        }
      ],
      "source": [
        "df.corr()"
      ]
    },
    {
      "cell_type": "code",
      "execution_count": 25,
      "id": "ca1444a5",
      "metadata": {
        "colab": {
          "base_uri": "https://localhost:8080/",
          "height": 490
        },
        "id": "ca1444a5",
        "outputId": "fdf6f32e-83fd-4624-a32e-54b03796c2bc"
      },
      "outputs": [
        {
          "output_type": "execute_result",
          "data": {
            "text/plain": [
              "          B01        B02        B03        B04        B05        B06  \\\n",
              "B01  8.283535   8.780277   8.597452   7.611098   5.252864   5.705540   \n",
              "B02  8.780277  12.157313  14.984243  19.701817  15.852557  11.237523   \n",
              "B03  8.597452  14.984243  21.822471  33.351807  28.548426  18.797037   \n",
              "B04  7.611098  19.701817  33.351807  61.831377  54.533374  28.388695   \n",
              "B05  5.252864  15.852557  28.548426  54.533374  50.242943  28.606826   \n",
              "B06  5.705540  11.237523  18.797037  28.388695  28.606826  32.659577   \n",
              "B07  6.677203  10.597306  16.386343  20.655706  21.757787  35.777492   \n",
              "B08  4.111811   7.643986  13.102607  18.711507  20.878504  33.141067   \n",
              "B8A  5.201287   9.620687  16.451391  23.240764  25.612514  40.355440   \n",
              "B09 -2.640394  -2.061024  -1.134526   2.502973   4.113392   2.225598   \n",
              "B11 -3.160916  13.701173  36.978161  88.212617  89.284780  54.767310   \n",
              "B12  0.569193  17.331429  39.014783  88.522425  85.405709  43.365967   \n",
              "\n",
              "           B07        B08        B8A        B09         B11         B12  \n",
              "B01   6.677203   4.111811   5.201287  -2.640394   -3.160916    0.569193  \n",
              "B02  10.597306   7.643986   9.620687  -2.061024   13.701173   17.331429  \n",
              "B03  16.386343  13.102607  16.451391  -1.134526   36.978161   39.014783  \n",
              "B04  20.655706  18.711507  23.240764   2.502973   88.212617   88.522425  \n",
              "B05  21.757787  20.878504  25.612514   4.113392   89.284780   85.405709  \n",
              "B06  35.777492  33.141067  40.355440   2.225598   54.767310   43.365967  \n",
              "B07  44.503771  40.866840  49.930547   0.805876   44.004629   28.715965  \n",
              "B08  40.866840  39.497201  47.501446   2.813281   50.014681   33.123640  \n",
              "B8A  49.930547  47.501446  58.576342   1.878569   63.901613   41.843503  \n",
              "B09   0.805876   2.813281   1.878569   6.181066   12.210059   11.141362  \n",
              "B11  44.004629  50.014681  63.901613  12.210059  246.195097  209.070745  \n",
              "B12  28.715965  33.123640  41.843503  11.141362  209.070745  191.866342  "
            ],
            "text/html": [
              "\n",
              "  <div id=\"df-67a5300f-9ab6-49ec-810d-dde9a00e3cf0\">\n",
              "    <div class=\"colab-df-container\">\n",
              "      <div>\n",
              "<style scoped>\n",
              "    .dataframe tbody tr th:only-of-type {\n",
              "        vertical-align: middle;\n",
              "    }\n",
              "\n",
              "    .dataframe tbody tr th {\n",
              "        vertical-align: top;\n",
              "    }\n",
              "\n",
              "    .dataframe thead th {\n",
              "        text-align: right;\n",
              "    }\n",
              "</style>\n",
              "<table border=\"1\" class=\"dataframe\">\n",
              "  <thead>\n",
              "    <tr style=\"text-align: right;\">\n",
              "      <th></th>\n",
              "      <th>B01</th>\n",
              "      <th>B02</th>\n",
              "      <th>B03</th>\n",
              "      <th>B04</th>\n",
              "      <th>B05</th>\n",
              "      <th>B06</th>\n",
              "      <th>B07</th>\n",
              "      <th>B08</th>\n",
              "      <th>B8A</th>\n",
              "      <th>B09</th>\n",
              "      <th>B11</th>\n",
              "      <th>B12</th>\n",
              "    </tr>\n",
              "  </thead>\n",
              "  <tbody>\n",
              "    <tr>\n",
              "      <th>B01</th>\n",
              "      <td>8.283535</td>\n",
              "      <td>8.780277</td>\n",
              "      <td>8.597452</td>\n",
              "      <td>7.611098</td>\n",
              "      <td>5.252864</td>\n",
              "      <td>5.705540</td>\n",
              "      <td>6.677203</td>\n",
              "      <td>4.111811</td>\n",
              "      <td>5.201287</td>\n",
              "      <td>-2.640394</td>\n",
              "      <td>-3.160916</td>\n",
              "      <td>0.569193</td>\n",
              "    </tr>\n",
              "    <tr>\n",
              "      <th>B02</th>\n",
              "      <td>8.780277</td>\n",
              "      <td>12.157313</td>\n",
              "      <td>14.984243</td>\n",
              "      <td>19.701817</td>\n",
              "      <td>15.852557</td>\n",
              "      <td>11.237523</td>\n",
              "      <td>10.597306</td>\n",
              "      <td>7.643986</td>\n",
              "      <td>9.620687</td>\n",
              "      <td>-2.061024</td>\n",
              "      <td>13.701173</td>\n",
              "      <td>17.331429</td>\n",
              "    </tr>\n",
              "    <tr>\n",
              "      <th>B03</th>\n",
              "      <td>8.597452</td>\n",
              "      <td>14.984243</td>\n",
              "      <td>21.822471</td>\n",
              "      <td>33.351807</td>\n",
              "      <td>28.548426</td>\n",
              "      <td>18.797037</td>\n",
              "      <td>16.386343</td>\n",
              "      <td>13.102607</td>\n",
              "      <td>16.451391</td>\n",
              "      <td>-1.134526</td>\n",
              "      <td>36.978161</td>\n",
              "      <td>39.014783</td>\n",
              "    </tr>\n",
              "    <tr>\n",
              "      <th>B04</th>\n",
              "      <td>7.611098</td>\n",
              "      <td>19.701817</td>\n",
              "      <td>33.351807</td>\n",
              "      <td>61.831377</td>\n",
              "      <td>54.533374</td>\n",
              "      <td>28.388695</td>\n",
              "      <td>20.655706</td>\n",
              "      <td>18.711507</td>\n",
              "      <td>23.240764</td>\n",
              "      <td>2.502973</td>\n",
              "      <td>88.212617</td>\n",
              "      <td>88.522425</td>\n",
              "    </tr>\n",
              "    <tr>\n",
              "      <th>B05</th>\n",
              "      <td>5.252864</td>\n",
              "      <td>15.852557</td>\n",
              "      <td>28.548426</td>\n",
              "      <td>54.533374</td>\n",
              "      <td>50.242943</td>\n",
              "      <td>28.606826</td>\n",
              "      <td>21.757787</td>\n",
              "      <td>20.878504</td>\n",
              "      <td>25.612514</td>\n",
              "      <td>4.113392</td>\n",
              "      <td>89.284780</td>\n",
              "      <td>85.405709</td>\n",
              "    </tr>\n",
              "    <tr>\n",
              "      <th>B06</th>\n",
              "      <td>5.705540</td>\n",
              "      <td>11.237523</td>\n",
              "      <td>18.797037</td>\n",
              "      <td>28.388695</td>\n",
              "      <td>28.606826</td>\n",
              "      <td>32.659577</td>\n",
              "      <td>35.777492</td>\n",
              "      <td>33.141067</td>\n",
              "      <td>40.355440</td>\n",
              "      <td>2.225598</td>\n",
              "      <td>54.767310</td>\n",
              "      <td>43.365967</td>\n",
              "    </tr>\n",
              "    <tr>\n",
              "      <th>B07</th>\n",
              "      <td>6.677203</td>\n",
              "      <td>10.597306</td>\n",
              "      <td>16.386343</td>\n",
              "      <td>20.655706</td>\n",
              "      <td>21.757787</td>\n",
              "      <td>35.777492</td>\n",
              "      <td>44.503771</td>\n",
              "      <td>40.866840</td>\n",
              "      <td>49.930547</td>\n",
              "      <td>0.805876</td>\n",
              "      <td>44.004629</td>\n",
              "      <td>28.715965</td>\n",
              "    </tr>\n",
              "    <tr>\n",
              "      <th>B08</th>\n",
              "      <td>4.111811</td>\n",
              "      <td>7.643986</td>\n",
              "      <td>13.102607</td>\n",
              "      <td>18.711507</td>\n",
              "      <td>20.878504</td>\n",
              "      <td>33.141067</td>\n",
              "      <td>40.866840</td>\n",
              "      <td>39.497201</td>\n",
              "      <td>47.501446</td>\n",
              "      <td>2.813281</td>\n",
              "      <td>50.014681</td>\n",
              "      <td>33.123640</td>\n",
              "    </tr>\n",
              "    <tr>\n",
              "      <th>B8A</th>\n",
              "      <td>5.201287</td>\n",
              "      <td>9.620687</td>\n",
              "      <td>16.451391</td>\n",
              "      <td>23.240764</td>\n",
              "      <td>25.612514</td>\n",
              "      <td>40.355440</td>\n",
              "      <td>49.930547</td>\n",
              "      <td>47.501446</td>\n",
              "      <td>58.576342</td>\n",
              "      <td>1.878569</td>\n",
              "      <td>63.901613</td>\n",
              "      <td>41.843503</td>\n",
              "    </tr>\n",
              "    <tr>\n",
              "      <th>B09</th>\n",
              "      <td>-2.640394</td>\n",
              "      <td>-2.061024</td>\n",
              "      <td>-1.134526</td>\n",
              "      <td>2.502973</td>\n",
              "      <td>4.113392</td>\n",
              "      <td>2.225598</td>\n",
              "      <td>0.805876</td>\n",
              "      <td>2.813281</td>\n",
              "      <td>1.878569</td>\n",
              "      <td>6.181066</td>\n",
              "      <td>12.210059</td>\n",
              "      <td>11.141362</td>\n",
              "    </tr>\n",
              "    <tr>\n",
              "      <th>B11</th>\n",
              "      <td>-3.160916</td>\n",
              "      <td>13.701173</td>\n",
              "      <td>36.978161</td>\n",
              "      <td>88.212617</td>\n",
              "      <td>89.284780</td>\n",
              "      <td>54.767310</td>\n",
              "      <td>44.004629</td>\n",
              "      <td>50.014681</td>\n",
              "      <td>63.901613</td>\n",
              "      <td>12.210059</td>\n",
              "      <td>246.195097</td>\n",
              "      <td>209.070745</td>\n",
              "    </tr>\n",
              "    <tr>\n",
              "      <th>B12</th>\n",
              "      <td>0.569193</td>\n",
              "      <td>17.331429</td>\n",
              "      <td>39.014783</td>\n",
              "      <td>88.522425</td>\n",
              "      <td>85.405709</td>\n",
              "      <td>43.365967</td>\n",
              "      <td>28.715965</td>\n",
              "      <td>33.123640</td>\n",
              "      <td>41.843503</td>\n",
              "      <td>11.141362</td>\n",
              "      <td>209.070745</td>\n",
              "      <td>191.866342</td>\n",
              "    </tr>\n",
              "  </tbody>\n",
              "</table>\n",
              "</div>\n",
              "      <button class=\"colab-df-convert\" onclick=\"convertToInteractive('df-67a5300f-9ab6-49ec-810d-dde9a00e3cf0')\"\n",
              "              title=\"Convert this dataframe to an interactive table.\"\n",
              "              style=\"display:none;\">\n",
              "        \n",
              "  <svg xmlns=\"http://www.w3.org/2000/svg\" height=\"24px\"viewBox=\"0 0 24 24\"\n",
              "       width=\"24px\">\n",
              "    <path d=\"M0 0h24v24H0V0z\" fill=\"none\"/>\n",
              "    <path d=\"M18.56 5.44l.94 2.06.94-2.06 2.06-.94-2.06-.94-.94-2.06-.94 2.06-2.06.94zm-11 1L8.5 8.5l.94-2.06 2.06-.94-2.06-.94L8.5 2.5l-.94 2.06-2.06.94zm10 10l.94 2.06.94-2.06 2.06-.94-2.06-.94-.94-2.06-.94 2.06-2.06.94z\"/><path d=\"M17.41 7.96l-1.37-1.37c-.4-.4-.92-.59-1.43-.59-.52 0-1.04.2-1.43.59L10.3 9.45l-7.72 7.72c-.78.78-.78 2.05 0 2.83L4 21.41c.39.39.9.59 1.41.59.51 0 1.02-.2 1.41-.59l7.78-7.78 2.81-2.81c.8-.78.8-2.07 0-2.86zM5.41 20L4 18.59l7.72-7.72 1.47 1.35L5.41 20z\"/>\n",
              "  </svg>\n",
              "      </button>\n",
              "      \n",
              "  <style>\n",
              "    .colab-df-container {\n",
              "      display:flex;\n",
              "      flex-wrap:wrap;\n",
              "      gap: 12px;\n",
              "    }\n",
              "\n",
              "    .colab-df-convert {\n",
              "      background-color: #E8F0FE;\n",
              "      border: none;\n",
              "      border-radius: 50%;\n",
              "      cursor: pointer;\n",
              "      display: none;\n",
              "      fill: #1967D2;\n",
              "      height: 32px;\n",
              "      padding: 0 0 0 0;\n",
              "      width: 32px;\n",
              "    }\n",
              "\n",
              "    .colab-df-convert:hover {\n",
              "      background-color: #E2EBFA;\n",
              "      box-shadow: 0px 1px 2px rgba(60, 64, 67, 0.3), 0px 1px 3px 1px rgba(60, 64, 67, 0.15);\n",
              "      fill: #174EA6;\n",
              "    }\n",
              "\n",
              "    [theme=dark] .colab-df-convert {\n",
              "      background-color: #3B4455;\n",
              "      fill: #D2E3FC;\n",
              "    }\n",
              "\n",
              "    [theme=dark] .colab-df-convert:hover {\n",
              "      background-color: #434B5C;\n",
              "      box-shadow: 0px 1px 3px 1px rgba(0, 0, 0, 0.15);\n",
              "      filter: drop-shadow(0px 1px 2px rgba(0, 0, 0, 0.3));\n",
              "      fill: #FFFFFF;\n",
              "    }\n",
              "  </style>\n",
              "\n",
              "      <script>\n",
              "        const buttonEl =\n",
              "          document.querySelector('#df-67a5300f-9ab6-49ec-810d-dde9a00e3cf0 button.colab-df-convert');\n",
              "        buttonEl.style.display =\n",
              "          google.colab.kernel.accessAllowed ? 'block' : 'none';\n",
              "\n",
              "        async function convertToInteractive(key) {\n",
              "          const element = document.querySelector('#df-67a5300f-9ab6-49ec-810d-dde9a00e3cf0');\n",
              "          const dataTable =\n",
              "            await google.colab.kernel.invokeFunction('convertToInteractive',\n",
              "                                                     [key], {});\n",
              "          if (!dataTable) return;\n",
              "\n",
              "          const docLinkHtml = 'Like what you see? Visit the ' +\n",
              "            '<a target=\"_blank\" href=https://colab.research.google.com/notebooks/data_table.ipynb>data table notebook</a>'\n",
              "            + ' to learn more about interactive tables.';\n",
              "          element.innerHTML = '';\n",
              "          dataTable['output_type'] = 'display_data';\n",
              "          await google.colab.output.renderOutput(dataTable, element);\n",
              "          const docLink = document.createElement('div');\n",
              "          docLink.innerHTML = docLinkHtml;\n",
              "          element.appendChild(docLink);\n",
              "        }\n",
              "      </script>\n",
              "    </div>\n",
              "  </div>\n",
              "  "
            ]
          },
          "metadata": {},
          "execution_count": 25
        }
      ],
      "source": [
        "df1 = df.drop([\"field_id\",\"crop_id\"],axis=1)\n",
        "\n",
        "df1.cov()"
      ]
    },
    {
      "cell_type": "code",
      "execution_count": 26,
      "id": "18a2cc90",
      "metadata": {
        "scrolled": true,
        "colab": {
          "base_uri": "https://localhost:8080/",
          "height": 490
        },
        "id": "18a2cc90",
        "outputId": "e2980b84-e5f3-45f5-d184-4bdf887c757f"
      },
      "outputs": [
        {
          "output_type": "execute_result",
          "data": {
            "text/plain": [
              "          B01       B02       B03       B04       B05       B06       B07  \\\n",
              "B01  1.000000  0.874947  0.639455  0.336306  0.257484  0.346883  0.347767   \n",
              "B02  0.874947  1.000000  0.919950  0.718593  0.641421  0.563958  0.455594   \n",
              "B03  0.639455  0.919950  1.000000  0.907952  0.862170  0.704096  0.525813   \n",
              "B04  0.336306  0.718593  0.907952  1.000000  0.978409  0.631736  0.393765   \n",
              "B05  0.257484  0.641421  0.862170  0.978409  1.000000  0.706199  0.460128   \n",
              "B06  0.346883  0.563958  0.704096  0.631736  0.706199  1.000000  0.938439   \n",
              "B07  0.347767  0.455594  0.525813  0.393765  0.460128  0.938439  1.000000   \n",
              "B08  0.227322  0.348833  0.446296  0.378635  0.468682  0.922737  0.974742   \n",
              "B8A  0.236125  0.360517  0.460140  0.386176  0.472121  0.922647  0.977928   \n",
              "B09 -0.369002 -0.237757 -0.097686  0.128032  0.233416  0.156643  0.048589   \n",
              "B11 -0.069995  0.250437  0.504491  0.714968  0.802787  0.610768  0.420398   \n",
              "B12  0.014278  0.358853  0.602945  0.812736  0.869861  0.547828  0.310760   \n",
              "\n",
              "          B08       B8A       B09       B11       B12  \n",
              "B01  0.227322  0.236125 -0.369002 -0.069995  0.014278  \n",
              "B02  0.348833  0.360517 -0.237757  0.250437  0.358853  \n",
              "B03  0.446296  0.460140 -0.097686  0.504491  0.602945  \n",
              "B04  0.378635  0.386176  0.128032  0.714968  0.812736  \n",
              "B05  0.468682  0.472121  0.233416  0.802787  0.869861  \n",
              "B06  0.922737  0.922647  0.156643  0.610768  0.547828  \n",
              "B07  0.974742  0.977928  0.048589  0.420398  0.310760  \n",
              "B08  1.000000  0.987558  0.180052  0.507195  0.380501  \n",
              "B8A  0.987558  1.000000  0.098727  0.532122  0.394700  \n",
              "B09  0.180052  0.098727  1.000000  0.313001  0.323525  \n",
              "B11  0.507195  0.532122  0.313001  1.000000  0.961954  \n",
              "B12  0.380501  0.394700  0.323525  0.961954  1.000000  "
            ],
            "text/html": [
              "\n",
              "  <div id=\"df-bafb8dc5-c9da-405b-b84c-e72a79933a90\">\n",
              "    <div class=\"colab-df-container\">\n",
              "      <div>\n",
              "<style scoped>\n",
              "    .dataframe tbody tr th:only-of-type {\n",
              "        vertical-align: middle;\n",
              "    }\n",
              "\n",
              "    .dataframe tbody tr th {\n",
              "        vertical-align: top;\n",
              "    }\n",
              "\n",
              "    .dataframe thead th {\n",
              "        text-align: right;\n",
              "    }\n",
              "</style>\n",
              "<table border=\"1\" class=\"dataframe\">\n",
              "  <thead>\n",
              "    <tr style=\"text-align: right;\">\n",
              "      <th></th>\n",
              "      <th>B01</th>\n",
              "      <th>B02</th>\n",
              "      <th>B03</th>\n",
              "      <th>B04</th>\n",
              "      <th>B05</th>\n",
              "      <th>B06</th>\n",
              "      <th>B07</th>\n",
              "      <th>B08</th>\n",
              "      <th>B8A</th>\n",
              "      <th>B09</th>\n",
              "      <th>B11</th>\n",
              "      <th>B12</th>\n",
              "    </tr>\n",
              "  </thead>\n",
              "  <tbody>\n",
              "    <tr>\n",
              "      <th>B01</th>\n",
              "      <td>1.000000</td>\n",
              "      <td>0.874947</td>\n",
              "      <td>0.639455</td>\n",
              "      <td>0.336306</td>\n",
              "      <td>0.257484</td>\n",
              "      <td>0.346883</td>\n",
              "      <td>0.347767</td>\n",
              "      <td>0.227322</td>\n",
              "      <td>0.236125</td>\n",
              "      <td>-0.369002</td>\n",
              "      <td>-0.069995</td>\n",
              "      <td>0.014278</td>\n",
              "    </tr>\n",
              "    <tr>\n",
              "      <th>B02</th>\n",
              "      <td>0.874947</td>\n",
              "      <td>1.000000</td>\n",
              "      <td>0.919950</td>\n",
              "      <td>0.718593</td>\n",
              "      <td>0.641421</td>\n",
              "      <td>0.563958</td>\n",
              "      <td>0.455594</td>\n",
              "      <td>0.348833</td>\n",
              "      <td>0.360517</td>\n",
              "      <td>-0.237757</td>\n",
              "      <td>0.250437</td>\n",
              "      <td>0.358853</td>\n",
              "    </tr>\n",
              "    <tr>\n",
              "      <th>B03</th>\n",
              "      <td>0.639455</td>\n",
              "      <td>0.919950</td>\n",
              "      <td>1.000000</td>\n",
              "      <td>0.907952</td>\n",
              "      <td>0.862170</td>\n",
              "      <td>0.704096</td>\n",
              "      <td>0.525813</td>\n",
              "      <td>0.446296</td>\n",
              "      <td>0.460140</td>\n",
              "      <td>-0.097686</td>\n",
              "      <td>0.504491</td>\n",
              "      <td>0.602945</td>\n",
              "    </tr>\n",
              "    <tr>\n",
              "      <th>B04</th>\n",
              "      <td>0.336306</td>\n",
              "      <td>0.718593</td>\n",
              "      <td>0.907952</td>\n",
              "      <td>1.000000</td>\n",
              "      <td>0.978409</td>\n",
              "      <td>0.631736</td>\n",
              "      <td>0.393765</td>\n",
              "      <td>0.378635</td>\n",
              "      <td>0.386176</td>\n",
              "      <td>0.128032</td>\n",
              "      <td>0.714968</td>\n",
              "      <td>0.812736</td>\n",
              "    </tr>\n",
              "    <tr>\n",
              "      <th>B05</th>\n",
              "      <td>0.257484</td>\n",
              "      <td>0.641421</td>\n",
              "      <td>0.862170</td>\n",
              "      <td>0.978409</td>\n",
              "      <td>1.000000</td>\n",
              "      <td>0.706199</td>\n",
              "      <td>0.460128</td>\n",
              "      <td>0.468682</td>\n",
              "      <td>0.472121</td>\n",
              "      <td>0.233416</td>\n",
              "      <td>0.802787</td>\n",
              "      <td>0.869861</td>\n",
              "    </tr>\n",
              "    <tr>\n",
              "      <th>B06</th>\n",
              "      <td>0.346883</td>\n",
              "      <td>0.563958</td>\n",
              "      <td>0.704096</td>\n",
              "      <td>0.631736</td>\n",
              "      <td>0.706199</td>\n",
              "      <td>1.000000</td>\n",
              "      <td>0.938439</td>\n",
              "      <td>0.922737</td>\n",
              "      <td>0.922647</td>\n",
              "      <td>0.156643</td>\n",
              "      <td>0.610768</td>\n",
              "      <td>0.547828</td>\n",
              "    </tr>\n",
              "    <tr>\n",
              "      <th>B07</th>\n",
              "      <td>0.347767</td>\n",
              "      <td>0.455594</td>\n",
              "      <td>0.525813</td>\n",
              "      <td>0.393765</td>\n",
              "      <td>0.460128</td>\n",
              "      <td>0.938439</td>\n",
              "      <td>1.000000</td>\n",
              "      <td>0.974742</td>\n",
              "      <td>0.977928</td>\n",
              "      <td>0.048589</td>\n",
              "      <td>0.420398</td>\n",
              "      <td>0.310760</td>\n",
              "    </tr>\n",
              "    <tr>\n",
              "      <th>B08</th>\n",
              "      <td>0.227322</td>\n",
              "      <td>0.348833</td>\n",
              "      <td>0.446296</td>\n",
              "      <td>0.378635</td>\n",
              "      <td>0.468682</td>\n",
              "      <td>0.922737</td>\n",
              "      <td>0.974742</td>\n",
              "      <td>1.000000</td>\n",
              "      <td>0.987558</td>\n",
              "      <td>0.180052</td>\n",
              "      <td>0.507195</td>\n",
              "      <td>0.380501</td>\n",
              "    </tr>\n",
              "    <tr>\n",
              "      <th>B8A</th>\n",
              "      <td>0.236125</td>\n",
              "      <td>0.360517</td>\n",
              "      <td>0.460140</td>\n",
              "      <td>0.386176</td>\n",
              "      <td>0.472121</td>\n",
              "      <td>0.922647</td>\n",
              "      <td>0.977928</td>\n",
              "      <td>0.987558</td>\n",
              "      <td>1.000000</td>\n",
              "      <td>0.098727</td>\n",
              "      <td>0.532122</td>\n",
              "      <td>0.394700</td>\n",
              "    </tr>\n",
              "    <tr>\n",
              "      <th>B09</th>\n",
              "      <td>-0.369002</td>\n",
              "      <td>-0.237757</td>\n",
              "      <td>-0.097686</td>\n",
              "      <td>0.128032</td>\n",
              "      <td>0.233416</td>\n",
              "      <td>0.156643</td>\n",
              "      <td>0.048589</td>\n",
              "      <td>0.180052</td>\n",
              "      <td>0.098727</td>\n",
              "      <td>1.000000</td>\n",
              "      <td>0.313001</td>\n",
              "      <td>0.323525</td>\n",
              "    </tr>\n",
              "    <tr>\n",
              "      <th>B11</th>\n",
              "      <td>-0.069995</td>\n",
              "      <td>0.250437</td>\n",
              "      <td>0.504491</td>\n",
              "      <td>0.714968</td>\n",
              "      <td>0.802787</td>\n",
              "      <td>0.610768</td>\n",
              "      <td>0.420398</td>\n",
              "      <td>0.507195</td>\n",
              "      <td>0.532122</td>\n",
              "      <td>0.313001</td>\n",
              "      <td>1.000000</td>\n",
              "      <td>0.961954</td>\n",
              "    </tr>\n",
              "    <tr>\n",
              "      <th>B12</th>\n",
              "      <td>0.014278</td>\n",
              "      <td>0.358853</td>\n",
              "      <td>0.602945</td>\n",
              "      <td>0.812736</td>\n",
              "      <td>0.869861</td>\n",
              "      <td>0.547828</td>\n",
              "      <td>0.310760</td>\n",
              "      <td>0.380501</td>\n",
              "      <td>0.394700</td>\n",
              "      <td>0.323525</td>\n",
              "      <td>0.961954</td>\n",
              "      <td>1.000000</td>\n",
              "    </tr>\n",
              "  </tbody>\n",
              "</table>\n",
              "</div>\n",
              "      <button class=\"colab-df-convert\" onclick=\"convertToInteractive('df-bafb8dc5-c9da-405b-b84c-e72a79933a90')\"\n",
              "              title=\"Convert this dataframe to an interactive table.\"\n",
              "              style=\"display:none;\">\n",
              "        \n",
              "  <svg xmlns=\"http://www.w3.org/2000/svg\" height=\"24px\"viewBox=\"0 0 24 24\"\n",
              "       width=\"24px\">\n",
              "    <path d=\"M0 0h24v24H0V0z\" fill=\"none\"/>\n",
              "    <path d=\"M18.56 5.44l.94 2.06.94-2.06 2.06-.94-2.06-.94-.94-2.06-.94 2.06-2.06.94zm-11 1L8.5 8.5l.94-2.06 2.06-.94-2.06-.94L8.5 2.5l-.94 2.06-2.06.94zm10 10l.94 2.06.94-2.06 2.06-.94-2.06-.94-.94-2.06-.94 2.06-2.06.94z\"/><path d=\"M17.41 7.96l-1.37-1.37c-.4-.4-.92-.59-1.43-.59-.52 0-1.04.2-1.43.59L10.3 9.45l-7.72 7.72c-.78.78-.78 2.05 0 2.83L4 21.41c.39.39.9.59 1.41.59.51 0 1.02-.2 1.41-.59l7.78-7.78 2.81-2.81c.8-.78.8-2.07 0-2.86zM5.41 20L4 18.59l7.72-7.72 1.47 1.35L5.41 20z\"/>\n",
              "  </svg>\n",
              "      </button>\n",
              "      \n",
              "  <style>\n",
              "    .colab-df-container {\n",
              "      display:flex;\n",
              "      flex-wrap:wrap;\n",
              "      gap: 12px;\n",
              "    }\n",
              "\n",
              "    .colab-df-convert {\n",
              "      background-color: #E8F0FE;\n",
              "      border: none;\n",
              "      border-radius: 50%;\n",
              "      cursor: pointer;\n",
              "      display: none;\n",
              "      fill: #1967D2;\n",
              "      height: 32px;\n",
              "      padding: 0 0 0 0;\n",
              "      width: 32px;\n",
              "    }\n",
              "\n",
              "    .colab-df-convert:hover {\n",
              "      background-color: #E2EBFA;\n",
              "      box-shadow: 0px 1px 2px rgba(60, 64, 67, 0.3), 0px 1px 3px 1px rgba(60, 64, 67, 0.15);\n",
              "      fill: #174EA6;\n",
              "    }\n",
              "\n",
              "    [theme=dark] .colab-df-convert {\n",
              "      background-color: #3B4455;\n",
              "      fill: #D2E3FC;\n",
              "    }\n",
              "\n",
              "    [theme=dark] .colab-df-convert:hover {\n",
              "      background-color: #434B5C;\n",
              "      box-shadow: 0px 1px 3px 1px rgba(0, 0, 0, 0.15);\n",
              "      filter: drop-shadow(0px 1px 2px rgba(0, 0, 0, 0.3));\n",
              "      fill: #FFFFFF;\n",
              "    }\n",
              "  </style>\n",
              "\n",
              "      <script>\n",
              "        const buttonEl =\n",
              "          document.querySelector('#df-bafb8dc5-c9da-405b-b84c-e72a79933a90 button.colab-df-convert');\n",
              "        buttonEl.style.display =\n",
              "          google.colab.kernel.accessAllowed ? 'block' : 'none';\n",
              "\n",
              "        async function convertToInteractive(key) {\n",
              "          const element = document.querySelector('#df-bafb8dc5-c9da-405b-b84c-e72a79933a90');\n",
              "          const dataTable =\n",
              "            await google.colab.kernel.invokeFunction('convertToInteractive',\n",
              "                                                     [key], {});\n",
              "          if (!dataTable) return;\n",
              "\n",
              "          const docLinkHtml = 'Like what you see? Visit the ' +\n",
              "            '<a target=\"_blank\" href=https://colab.research.google.com/notebooks/data_table.ipynb>data table notebook</a>'\n",
              "            + ' to learn more about interactive tables.';\n",
              "          element.innerHTML = '';\n",
              "          dataTable['output_type'] = 'display_data';\n",
              "          await google.colab.output.renderOutput(dataTable, element);\n",
              "          const docLink = document.createElement('div');\n",
              "          docLink.innerHTML = docLinkHtml;\n",
              "          element.appendChild(docLink);\n",
              "        }\n",
              "      </script>\n",
              "    </div>\n",
              "  </div>\n",
              "  "
            ]
          },
          "metadata": {},
          "execution_count": 26
        }
      ],
      "source": [
        "df1.corr()"
      ]
    },
    {
      "cell_type": "code",
      "execution_count": 27,
      "id": "036fb8ee",
      "metadata": {
        "colab": {
          "base_uri": "https://localhost:8080/"
        },
        "id": "036fb8ee",
        "outputId": "95cfe5bf-d825-4d01-ba04-3453cf602414"
      },
      "outputs": [
        {
          "output_type": "stream",
          "name": "stdout",
          "text": [
            "B01 is more correlated with ['B01', 'B02', 'B03']\n",
            "B02 is more correlated with ['B01', 'B02', 'B03', 'B04', 'B05', 'B06', 'B07']\n",
            "B03 is more correlated with ['B01', 'B02', 'B03', 'B04', 'B05', 'B06', 'B07', 'B08', 'B8A', 'B11', 'B12']\n",
            "B04 is more correlated with ['B02', 'B03', 'B04', 'B05', 'B06', 'B11', 'B12']\n",
            "B05 is more correlated with ['B02', 'B03', 'B04', 'B05', 'B06', 'B07', 'B08', 'B8A', 'B11', 'B12']\n",
            "B06 is more correlated with ['B02', 'B03', 'B04', 'B05', 'B06', 'B07', 'B08', 'B8A', 'B11', 'B12']\n",
            "B07 is more correlated with ['B02', 'B03', 'B05', 'B06', 'B07', 'B08', 'B8A']\n",
            "B08 is more correlated with ['B03', 'B05', 'B06', 'B07', 'B08', 'B8A', 'B11']\n",
            "B8A is more correlated with ['B03', 'B05', 'B06', 'B07', 'B08', 'B8A', 'B11']\n",
            "B09 is more correlated with ['B09']\n",
            "B11 is more correlated with ['B03', 'B04', 'B05', 'B06', 'B08', 'B8A', 'B11', 'B12']\n",
            "B12 is more correlated with ['B03', 'B04', 'B05', 'B06', 'B11', 'B12']\n"
          ]
        }
      ],
      "source": [
        "\n",
        "def is_more_correlated(corrdf,alpha):\n",
        "        list_of_columns = corrdf.columns\n",
        "        \n",
        "        for columns in list_of_columns :\n",
        "            \n",
        "    \n",
        "            e = [i for (z,i) in zip(corrdf[columns].values,list_of_columns) if z>alpha]\n",
        "        \n",
        "            print(f\"{columns} is more correlated with {e}\")\n",
        "\n",
        "corrdf = df1.corr()\n",
        "alpha = 0.44\n",
        "is_more_correlated(corrdf,alpha)\n"
      ]
    },
    {
      "cell_type": "code",
      "execution_count": 28,
      "id": "14497b2f",
      "metadata": {
        "id": "14497b2f"
      },
      "outputs": [],
      "source": [
        "# i suggest that we drop  B09"
      ]
    },
    {
      "cell_type": "markdown",
      "id": "7f49eba3",
      "metadata": {
        "id": "7f49eba3"
      },
      "source": [
        "## Here firstly we have to define correlation coefficient "
      ]
    },
    {
      "cell_type": "code",
      "execution_count": 29,
      "id": "d3317b75",
      "metadata": {
        "id": "d3317b75"
      },
      "outputs": [],
      "source": [
        "# 1- i think that if we want to go on with traditional machine learning algorithm  we have to combine channel values surely using PCA"
      ]
    },
    {
      "cell_type": "markdown",
      "source": [
        "#Defining differents traditionnals machine learning models"
      ],
      "metadata": {
        "id": "z7eOQzh_z-R3"
      },
      "id": "z7eOQzh_z-R3"
    },
    {
      "cell_type": "code",
      "source": [],
      "metadata": {
        "id": "AbnwASLZVdx3"
      },
      "id": "AbnwASLZVdx3",
      "execution_count": 29,
      "outputs": []
    },
    {
      "cell_type": "markdown",
      "source": [
        "##Differents imports"
      ],
      "metadata": {
        "id": "lkdcDH_zZYgq"
      },
      "id": "lkdcDH_zZYgq"
    },
    {
      "cell_type": "code",
      "source": [
        "from sklearn.ensemble import RandomForestClassifier\n",
        "from sklearn.svm import SVC\n",
        "from sklearn.model_selection import GridSearchCV\n",
        "from sklearn.naive_bayes import GaussianNB\n",
        "from sklearn.neighbors import KNeighborsClassifier\n",
        "from sklearn.multiclass import OneVsRestClassifier\n",
        "from xgboost import XGBClassifier\n",
        "from sklearn.model_selection import cross_val_score\n",
        "from sklearn.preprocessing import MultiLabelBinarizer\n",
        "from sklearn.metrics import log_loss\n",
        "from sklearn.model_selection import train_test_split\n",
        "from sklearn.metrics import classification_report\n",
        "\n",
        "import numpy as np\n",
        "import pandas as pd\n",
        "\n",
        "import tensorflow as tf\n",
        "\n",
        "from tensorflow import feature_column\n",
        "from tensorflow.keras import layers\n",
        "from sklearn.model_selection import train_test_split"
      ],
      "metadata": {
        "id": "1EOzaNQi1RuI"
      },
      "id": "1EOzaNQi1RuI",
      "execution_count": 30,
      "outputs": []
    },
    {
      "cell_type": "markdown",
      "source": [
        "#Splitting Data into train_test_val"
      ],
      "metadata": {
        "id": "UOE_4WCZduFq"
      },
      "id": "UOE_4WCZduFq"
    },
    {
      "cell_type": "code",
      "source": [
        "# split data for model training and evaluation \n",
        "\n",
        "X_train, X_test, y_train, y_test =  train_test_split(df.drop(['field_id', 'crop_id'], axis=1), df['crop_id'] , test_size=0.25, random_state=42)"
      ],
      "metadata": {
        "id": "n5VkLC8I1cK7"
      },
      "id": "n5VkLC8I1cK7",
      "execution_count": 31,
      "outputs": []
    },
    {
      "cell_type": "code",
      "source": [
        "# split data for model training and validation \n",
        "\n",
        "X_train, X_val, y_train, y_val =  train_test_split(df.drop(['field_id', 'crop_id'], axis=1), df['crop_id'] , test_size=0.25, random_state=42)"
      ],
      "metadata": {
        "id": "wqhzN22FSzrQ"
      },
      "id": "wqhzN22FSzrQ",
      "execution_count": 32,
      "outputs": []
    },
    {
      "cell_type": "code",
      "source": [
        "X_train.shape, X_test.shape, y_train.shape, y_test.shape"
      ],
      "metadata": {
        "colab": {
          "base_uri": "https://localhost:8080/"
        },
        "id": "N2s-zsp31uSe",
        "outputId": "dd0824a2-176e-4cab-d4a9-3aa402f774ca"
      },
      "id": "N2s-zsp31uSe",
      "execution_count": 33,
      "outputs": [
        {
          "output_type": "execute_result",
          "data": {
            "text/plain": [
              "((4163, 12), (1388, 12), (4163,), (1388,))"
            ]
          },
          "metadata": {},
          "execution_count": 33
        }
      ]
    },
    {
      "cell_type": "markdown",
      "source": [
        "##K-Nearest Neighbors\n"
      ],
      "metadata": {
        "id": "dBolmrTuVX8e"
      },
      "id": "dBolmrTuVX8e"
    },
    {
      "cell_type": "code",
      "source": [],
      "metadata": {
        "id": "1nxjLbRBVhM0"
      },
      "id": "1nxjLbRBVhM0",
      "execution_count": 33,
      "outputs": []
    },
    {
      "cell_type": "markdown",
      "source": [
        "###Training"
      ],
      "metadata": {
        "id": "XhmoJpfbVolP"
      },
      "id": "XhmoJpfbVolP"
    },
    {
      "cell_type": "code",
      "source": [
        "knn = KNeighborsClassifier(n_neighbors = 7)\n",
        "knn.fit(X_train, y_train.astype(int))"
      ],
      "metadata": {
        "colab": {
          "base_uri": "https://localhost:8080/"
        },
        "id": "a1Gzu0UEVuyj",
        "outputId": "f45e4184-3f91-4dab-b954-5c9e1e4df0d9"
      },
      "id": "a1Gzu0UEVuyj",
      "execution_count": 34,
      "outputs": [
        {
          "output_type": "execute_result",
          "data": {
            "text/plain": [
              "KNeighborsClassifier(n_neighbors=7)"
            ]
          },
          "metadata": {},
          "execution_count": 34
        }
      ]
    },
    {
      "cell_type": "markdown",
      "source": [
        "###Testing"
      ],
      "metadata": {
        "id": "i7DC0HO-V2LI"
      },
      "id": "i7DC0HO-V2LI"
    },
    {
      "cell_type": "code",
      "source": [
        "\n",
        "y_pred_crop_knn = knn.predict(X_test)\n",
        "\n",
        "print(classification_report(y_test,y_pred_crop_knn))"
      ],
      "metadata": {
        "id": "QtCucBzfV53y",
        "colab": {
          "base_uri": "https://localhost:8080/"
        },
        "outputId": "7001f595-aec2-465b-f1d3-f5c578b1fc9f"
      },
      "id": "QtCucBzfV53y",
      "execution_count": 35,
      "outputs": [
        {
          "output_type": "stream",
          "name": "stdout",
          "text": [
            "              precision    recall  f1-score   support\n",
            "\n",
            "           1       0.61      0.81      0.70       516\n",
            "           2       0.40      0.34      0.37       235\n",
            "           3       0.00      0.00      0.00        27\n",
            "           4       0.81      0.72      0.76       422\n",
            "           5       0.00      0.00      0.00         4\n",
            "           6       0.18      0.07      0.10        44\n",
            "           8       0.00      0.00      0.00        15\n",
            "           9       0.65      0.85      0.74        78\n",
            "          13       0.25      0.13      0.17        15\n",
            "          14       0.00      0.00      0.00         2\n",
            "          15       0.00      0.00      0.00         7\n",
            "          16       0.00      0.00      0.00         3\n",
            "          36       0.25      0.05      0.08        20\n",
            "\n",
            "    accuracy                           0.63      1388\n",
            "   macro avg       0.24      0.23      0.22      1388\n",
            "weighted avg       0.59      0.63      0.60      1388\n",
            "\n"
          ]
        },
        {
          "output_type": "stream",
          "name": "stderr",
          "text": [
            "/usr/local/lib/python3.7/dist-packages/sklearn/metrics/_classification.py:1318: UndefinedMetricWarning: Precision and F-score are ill-defined and being set to 0.0 in labels with no predicted samples. Use `zero_division` parameter to control this behavior.\n",
            "  _warn_prf(average, modifier, msg_start, len(result))\n",
            "/usr/local/lib/python3.7/dist-packages/sklearn/metrics/_classification.py:1318: UndefinedMetricWarning: Precision and F-score are ill-defined and being set to 0.0 in labels with no predicted samples. Use `zero_division` parameter to control this behavior.\n",
            "  _warn_prf(average, modifier, msg_start, len(result))\n",
            "/usr/local/lib/python3.7/dist-packages/sklearn/metrics/_classification.py:1318: UndefinedMetricWarning: Precision and F-score are ill-defined and being set to 0.0 in labels with no predicted samples. Use `zero_division` parameter to control this behavior.\n",
            "  _warn_prf(average, modifier, msg_start, len(result))\n"
          ]
        }
      ]
    },
    {
      "cell_type": "code",
      "source": [
        "y_pred_proba_knn = knn.predict_proba(X_test)"
      ],
      "metadata": {
        "id": "VlCIJ3FCXRWR"
      },
      "id": "VlCIJ3FCXRWR",
      "execution_count": 36,
      "outputs": []
    },
    {
      "cell_type": "markdown",
      "source": [
        "###Cross Entropy"
      ],
      "metadata": {
        "id": "PuD4ACi2W0ur"
      },
      "id": "PuD4ACi2W0ur"
    },
    {
      "cell_type": "code",
      "source": [
        "cross_loss_knn = log_loss(y_test,y_pred_proba_knn)\n",
        "print(cross_loss_knn)"
      ],
      "metadata": {
        "id": "nzVnhG9hW6la",
        "colab": {
          "base_uri": "https://localhost:8080/"
        },
        "outputId": "2f8cd1ab-948e-4fe8-a989-c13529e8b491"
      },
      "id": "nzVnhG9hW6la",
      "execution_count": 37,
      "outputs": [
        {
          "output_type": "stream",
          "name": "stdout",
          "text": [
            "4.575014718123374\n"
          ]
        }
      ]
    },
    {
      "cell_type": "markdown",
      "source": [
        "##Support vector machine"
      ],
      "metadata": {
        "id": "JHeGoOhn0I63"
      },
      "id": "JHeGoOhn0I63"
    },
    {
      "cell_type": "markdown",
      "source": [
        "###Training"
      ],
      "metadata": {
        "id": "iq8hXT0PQ-3S"
      },
      "id": "iq8hXT0PQ-3S"
    },
    {
      "cell_type": "code",
      "source": [
        "svm_model_linear = SVC(kernel = 'linear', C = 1,probability=True)\n",
        "svm_model_linear.fit(X_train, y_train.astype(int))"
      ],
      "metadata": {
        "id": "ZW_ujZDY1T3d",
        "colab": {
          "base_uri": "https://localhost:8080/"
        },
        "outputId": "eaf957e7-315f-42fd-9b11-37710452434d"
      },
      "id": "ZW_ujZDY1T3d",
      "execution_count": 38,
      "outputs": [
        {
          "output_type": "execute_result",
          "data": {
            "text/plain": [
              "SVC(C=1, kernel='linear', probability=True)"
            ]
          },
          "metadata": {},
          "execution_count": 38
        }
      ]
    },
    {
      "cell_type": "markdown",
      "source": [
        "###testing"
      ],
      "metadata": {
        "id": "7ImI3wb-RR0T"
      },
      "id": "7ImI3wb-RR0T"
    },
    {
      "cell_type": "code",
      "source": [
        "\n",
        "y_pred_crop = svm_model_linear.predict(X_test)\n",
        "\n",
        "print(classification_report(y_test,y_pred_crop))"
      ],
      "metadata": {
        "colab": {
          "base_uri": "https://localhost:8080/"
        },
        "id": "ljwpI72iRV9r",
        "outputId": "1eca9819-4de0-4194-d9fd-10e5bcf18262"
      },
      "id": "ljwpI72iRV9r",
      "execution_count": 39,
      "outputs": [
        {
          "output_type": "stream",
          "name": "stdout",
          "text": [
            "              precision    recall  f1-score   support\n",
            "\n",
            "           1       0.57      0.92      0.71       516\n",
            "           2       0.41      0.05      0.09       235\n",
            "           3       0.00      0.00      0.00        27\n",
            "           4       0.74      0.75      0.74       422\n",
            "           5       0.00      0.00      0.00         4\n",
            "           6       0.00      0.00      0.00        44\n",
            "           8       0.00      0.00      0.00        15\n",
            "           9       0.68      0.86      0.76        78\n",
            "          13       0.00      0.00      0.00        15\n",
            "          14       0.00      0.00      0.00         2\n",
            "          15       0.00      0.00      0.00         7\n",
            "          16       0.00      0.00      0.00         3\n",
            "          36       0.00      0.00      0.00        20\n",
            "\n",
            "    accuracy                           0.63      1388\n",
            "   macro avg       0.19      0.20      0.18      1388\n",
            "weighted avg       0.55      0.63      0.55      1388\n",
            "\n"
          ]
        },
        {
          "output_type": "stream",
          "name": "stderr",
          "text": [
            "/usr/local/lib/python3.7/dist-packages/sklearn/metrics/_classification.py:1318: UndefinedMetricWarning: Precision and F-score are ill-defined and being set to 0.0 in labels with no predicted samples. Use `zero_division` parameter to control this behavior.\n",
            "  _warn_prf(average, modifier, msg_start, len(result))\n",
            "/usr/local/lib/python3.7/dist-packages/sklearn/metrics/_classification.py:1318: UndefinedMetricWarning: Precision and F-score are ill-defined and being set to 0.0 in labels with no predicted samples. Use `zero_division` parameter to control this behavior.\n",
            "  _warn_prf(average, modifier, msg_start, len(result))\n",
            "/usr/local/lib/python3.7/dist-packages/sklearn/metrics/_classification.py:1318: UndefinedMetricWarning: Precision and F-score are ill-defined and being set to 0.0 in labels with no predicted samples. Use `zero_division` parameter to control this behavior.\n",
            "  _warn_prf(average, modifier, msg_start, len(result))\n"
          ]
        }
      ]
    },
    {
      "cell_type": "code",
      "source": [
        "y_pred_proba_svm = svm_model_linear.predict_proba(X_test)"
      ],
      "metadata": {
        "id": "UE9KDYesSGM0"
      },
      "id": "UE9KDYesSGM0",
      "execution_count": 40,
      "outputs": []
    },
    {
      "cell_type": "markdown",
      "source": [
        "###Cross entropy loss"
      ],
      "metadata": {
        "id": "PjYfXtIcR7kJ"
      },
      "id": "PjYfXtIcR7kJ"
    },
    {
      "cell_type": "code",
      "source": [
        "cross_loss_svm = log_loss(y_test,y_pred_proba_svm)\n",
        "print(cross_loss_svm)"
      ],
      "metadata": {
        "colab": {
          "base_uri": "https://localhost:8080/"
        },
        "id": "5oVw7MiISAOn",
        "outputId": "1e67cac2-fef6-483b-a72e-5411eeffb55a"
      },
      "id": "5oVw7MiISAOn",
      "execution_count": 41,
      "outputs": [
        {
          "output_type": "stream",
          "name": "stdout",
          "text": [
            "1.086799178140205\n"
          ]
        }
      ]
    },
    {
      "cell_type": "markdown",
      "source": [
        "##Random Forest"
      ],
      "metadata": {
        "id": "EheBSTwi1V7A"
      },
      "id": "EheBSTwi1V7A"
    },
    {
      "cell_type": "markdown",
      "source": [
        "###Training"
      ],
      "metadata": {
        "id": "McQRTd9LQbez"
      },
      "id": "McQRTd9LQbez"
    },
    {
      "cell_type": "code",
      "source": [
        "# We ran a simple hyperparameter tuning for the number of trees, and concluded to use:\n",
        "n_trees = 300\n",
        "\n",
        "# Fitting the RF model\n",
        "rf = RandomForestClassifier(n_estimators = n_trees,   oob_score = True, n_jobs = -1,random_state =50,max_features = \"auto\", min_samples_leaf = 10)\n",
        "rf.fit(X_train, y_train.astype(int))\n",
        "\n",
        "# trained classes\n",
        "\n",
        "rf.classes_"
      ],
      "metadata": {
        "colab": {
          "base_uri": "https://localhost:8080/"
        },
        "id": "9rAgg_801VTI",
        "outputId": "3a7a040f-db04-4701-ee73-ea62411bd767"
      },
      "id": "9rAgg_801VTI",
      "execution_count": 42,
      "outputs": [
        {
          "output_type": "execute_result",
          "data": {
            "text/plain": [
              "array([ 1,  2,  3,  4,  5,  6,  8,  9, 13, 14, 15, 16, 36])"
            ]
          },
          "metadata": {},
          "execution_count": 42
        }
      ]
    },
    {
      "cell_type": "markdown",
      "source": [
        "###testing"
      ],
      "metadata": {
        "id": "BvNPZEOJQhjy"
      },
      "id": "BvNPZEOJQhjy"
    },
    {
      "cell_type": "code",
      "source": [
        "\n",
        "y_pred_crop1 = rf.predict(X_test)\n",
        "\n",
        "print(classification_report(y_test,y_pred_crop1))"
      ],
      "metadata": {
        "colab": {
          "base_uri": "https://localhost:8080/"
        },
        "id": "JOojnxBH0PPl",
        "outputId": "22095764-5291-4ce6-8627-6c88de7c28a8"
      },
      "id": "JOojnxBH0PPl",
      "execution_count": 43,
      "outputs": [
        {
          "output_type": "stream",
          "name": "stdout",
          "text": [
            "              precision    recall  f1-score   support\n",
            "\n",
            "           1       0.62      0.88      0.73       516\n",
            "           2       0.45      0.30      0.36       235\n",
            "           3       0.00      0.00      0.00        27\n",
            "           4       0.78      0.74      0.76       422\n",
            "           5       0.00      0.00      0.00         4\n",
            "           6       0.33      0.07      0.11        44\n",
            "           8       0.00      0.00      0.00        15\n",
            "           9       0.72      0.88      0.79        78\n",
            "          13       0.00      0.00      0.00        15\n",
            "          14       0.00      0.00      0.00         2\n",
            "          15       0.00      0.00      0.00         7\n",
            "          16       0.00      0.00      0.00         3\n",
            "          36       0.00      0.00      0.00        20\n",
            "\n",
            "    accuracy                           0.66      1388\n",
            "   macro avg       0.22      0.22      0.21      1388\n",
            "weighted avg       0.60      0.66      0.61      1388\n",
            "\n"
          ]
        },
        {
          "output_type": "stream",
          "name": "stderr",
          "text": [
            "/usr/local/lib/python3.7/dist-packages/sklearn/metrics/_classification.py:1318: UndefinedMetricWarning: Precision and F-score are ill-defined and being set to 0.0 in labels with no predicted samples. Use `zero_division` parameter to control this behavior.\n",
            "  _warn_prf(average, modifier, msg_start, len(result))\n",
            "/usr/local/lib/python3.7/dist-packages/sklearn/metrics/_classification.py:1318: UndefinedMetricWarning: Precision and F-score are ill-defined and being set to 0.0 in labels with no predicted samples. Use `zero_division` parameter to control this behavior.\n",
            "  _warn_prf(average, modifier, msg_start, len(result))\n",
            "/usr/local/lib/python3.7/dist-packages/sklearn/metrics/_classification.py:1318: UndefinedMetricWarning: Precision and F-score are ill-defined and being set to 0.0 in labels with no predicted samples. Use `zero_division` parameter to control this behavior.\n",
            "  _warn_prf(average, modifier, msg_start, len(result))\n"
          ]
        }
      ]
    },
    {
      "cell_type": "code",
      "source": [
        "y_pred_proba_rf = rf.predict_proba(X_test)"
      ],
      "metadata": {
        "id": "OglssM_OCr8m"
      },
      "id": "OglssM_OCr8m",
      "execution_count": 44,
      "outputs": []
    },
    {
      "cell_type": "markdown",
      "source": [
        "###Cross entropy loss"
      ],
      "metadata": {
        "id": "0CZs9v9AQtqb"
      },
      "id": "0CZs9v9AQtqb"
    },
    {
      "cell_type": "code",
      "source": [
        "cross_loss = log_loss(y_test,y_pred_proba_rf)\n",
        "print(cross_loss)"
      ],
      "metadata": {
        "id": "XfP7I0tA5Q-W",
        "colab": {
          "base_uri": "https://localhost:8080/"
        },
        "outputId": "69d67f37-5dc2-4ca4-9e21-aa57a73e963a"
      },
      "id": "XfP7I0tA5Q-W",
      "execution_count": 45,
      "outputs": [
        {
          "output_type": "stream",
          "name": "stdout",
          "text": [
            "1.053847102283575\n"
          ]
        }
      ]
    },
    {
      "cell_type": "code",
      "source": [],
      "metadata": {
        "id": "IEySzAP3T2p7"
      },
      "id": "IEySzAP3T2p7",
      "execution_count": 45,
      "outputs": []
    },
    {
      "cell_type": "markdown",
      "source": [
        "##OneVsRest Algorithm"
      ],
      "metadata": {
        "id": "q02WsgW4YlBc"
      },
      "id": "q02WsgW4YlBc"
    },
    {
      "cell_type": "markdown",
      "source": [
        "###Training"
      ],
      "metadata": {
        "id": "b398DDSIYoTH"
      },
      "id": "b398DDSIYoTH"
    },
    {
      "cell_type": "code",
      "source": [],
      "metadata": {
        "id": "x49fBsTNY03h"
      },
      "id": "x49fBsTNY03h",
      "execution_count": 45,
      "outputs": []
    },
    {
      "cell_type": "markdown",
      "source": [
        "###Testing"
      ],
      "metadata": {
        "id": "mRrK_PHeYpRk"
      },
      "id": "mRrK_PHeYpRk"
    },
    {
      "cell_type": "markdown",
      "source": [
        "###Cross entropy loss"
      ],
      "metadata": {
        "id": "POc0o2JiYpha"
      },
      "id": "POc0o2JiYpha"
    },
    {
      "cell_type": "markdown",
      "source": [
        "##XGBOOST"
      ],
      "metadata": {
        "id": "VW6xIMf0Y8j1"
      },
      "id": "VW6xIMf0Y8j1"
    },
    {
      "cell_type": "markdown",
      "source": [
        "###Training"
      ],
      "metadata": {
        "id": "1DG-nn3oZDi3"
      },
      "id": "1DG-nn3oZDi3"
    },
    {
      "cell_type": "code",
      "source": [
        "Onerest = OneVsRestClassifier(XGBClassifier(n_jobs=-1, max_depth=2))"
      ],
      "metadata": {
        "id": "g6vVZJgpZNL4"
      },
      "id": "g6vVZJgpZNL4",
      "execution_count": 46,
      "outputs": []
    },
    {
      "cell_type": "code",
      "source": [
        "# You may need to use MultiLabelBinarizer to encode your variables from arrays [[x, y, z]] to a multilabel \n",
        "# format before training.\n",
        "mlb = MultiLabelBinarizer()\n",
        "#\n",
        "\n",
        "Onerest.fit(X_train, y_train.astype(int))\n",
        "\n"
      ],
      "metadata": {
        "colab": {
          "base_uri": "https://localhost:8080/"
        },
        "id": "cMaQB244Z0RX",
        "outputId": "98f24c9f-4f06-43fd-f563-42a4ac556fee"
      },
      "id": "cMaQB244Z0RX",
      "execution_count": 47,
      "outputs": [
        {
          "output_type": "execute_result",
          "data": {
            "text/plain": [
              "OneVsRestClassifier(estimator=XGBClassifier(max_depth=2, n_jobs=-1))"
            ]
          },
          "metadata": {},
          "execution_count": 47
        }
      ]
    },
    {
      "cell_type": "markdown",
      "source": [
        "###Testing"
      ],
      "metadata": {
        "id": "DCs44R3MZGjB"
      },
      "id": "DCs44R3MZGjB"
    },
    {
      "cell_type": "code",
      "source": [
        "y_pred_crop_onerest = Onerest.predict(X_test)\n",
        "print(classification_report(y_test,y_pred_crop_onerest))"
      ],
      "metadata": {
        "colab": {
          "base_uri": "https://localhost:8080/"
        },
        "id": "6AWRD0lQaExF",
        "outputId": "34576139-a403-4c07-90bb-179181ff47c9"
      },
      "id": "6AWRD0lQaExF",
      "execution_count": 48,
      "outputs": [
        {
          "output_type": "stream",
          "name": "stdout",
          "text": [
            "              precision    recall  f1-score   support\n",
            "\n",
            "           1       0.57      0.91      0.70       516\n",
            "           2       0.41      0.18      0.25       235\n",
            "           3       0.00      0.00      0.00        27\n",
            "           4       0.86      0.72      0.78       422\n",
            "           5       0.00      0.00      0.00         4\n",
            "           6       0.31      0.09      0.14        44\n",
            "           8       0.00      0.00      0.00        15\n",
            "           9       0.71      0.92      0.80        78\n",
            "          13       0.00      0.00      0.00        15\n",
            "          14       0.00      0.00      0.00         2\n",
            "          15       0.00      0.00      0.00         7\n",
            "          16       0.00      0.00      0.00         3\n",
            "          36       0.33      0.05      0.09        20\n",
            "\n",
            "    accuracy                           0.64      1388\n",
            "   macro avg       0.25      0.22      0.21      1388\n",
            "weighted avg       0.60      0.64      0.59      1388\n",
            "\n"
          ]
        },
        {
          "output_type": "stream",
          "name": "stderr",
          "text": [
            "/usr/local/lib/python3.7/dist-packages/sklearn/metrics/_classification.py:1318: UndefinedMetricWarning: Precision and F-score are ill-defined and being set to 0.0 in labels with no predicted samples. Use `zero_division` parameter to control this behavior.\n",
            "  _warn_prf(average, modifier, msg_start, len(result))\n",
            "/usr/local/lib/python3.7/dist-packages/sklearn/metrics/_classification.py:1318: UndefinedMetricWarning: Precision and F-score are ill-defined and being set to 0.0 in labels with no predicted samples. Use `zero_division` parameter to control this behavior.\n",
            "  _warn_prf(average, modifier, msg_start, len(result))\n",
            "/usr/local/lib/python3.7/dist-packages/sklearn/metrics/_classification.py:1318: UndefinedMetricWarning: Precision and F-score are ill-defined and being set to 0.0 in labels with no predicted samples. Use `zero_division` parameter to control this behavior.\n",
            "  _warn_prf(average, modifier, msg_start, len(result))\n"
          ]
        }
      ]
    },
    {
      "cell_type": "code",
      "source": [
        "y_pred_proba_xgb = Onerest.predict_proba(X_test)"
      ],
      "metadata": {
        "id": "Wo6j0nLyalPH"
      },
      "id": "Wo6j0nLyalPH",
      "execution_count": 49,
      "outputs": []
    },
    {
      "cell_type": "markdown",
      "source": [
        "###Cross entropy"
      ],
      "metadata": {
        "id": "S4Cxzl_HZHHr"
      },
      "id": "S4Cxzl_HZHHr"
    },
    {
      "cell_type": "code",
      "source": [
        "cross_loss_xgb = log_loss(y_test,y_pred_proba_xgb)\n",
        "print(cross_loss_xgb)"
      ],
      "metadata": {
        "colab": {
          "base_uri": "https://localhost:8080/"
        },
        "id": "MlJX5Oe5afwr",
        "outputId": "60ed7057-50b7-468a-ddf6-4a9430ece35f"
      },
      "id": "MlJX5Oe5afwr",
      "execution_count": 50,
      "outputs": [
        {
          "output_type": "stream",
          "name": "stdout",
          "text": [
            "1.0470755177117905\n"
          ]
        }
      ]
    },
    {
      "cell_type": "code",
      "source": [],
      "metadata": {
        "id": "qDBEzzCscFe5"
      },
      "id": "qDBEzzCscFe5",
      "execution_count": 50,
      "outputs": []
    },
    {
      "cell_type": "markdown",
      "source": [
        "##Naives Bayes"
      ],
      "metadata": {
        "id": "0rMxANyRcGLT"
      },
      "id": "0rMxANyRcGLT"
    },
    {
      "cell_type": "markdown",
      "source": [
        "###Training"
      ],
      "metadata": {
        "id": "-41e9EZ3cPeP"
      },
      "id": "-41e9EZ3cPeP"
    },
    {
      "cell_type": "code",
      "source": [
        "\n",
        "gnb = GaussianNB()\n",
        "gnb.fit(X_train, y_train.astype(int))"
      ],
      "metadata": {
        "colab": {
          "base_uri": "https://localhost:8080/"
        },
        "id": "CIIazHaUccRv",
        "outputId": "f79f9823-9072-4be2-b334-e5d22968cd74"
      },
      "id": "CIIazHaUccRv",
      "execution_count": 51,
      "outputs": [
        {
          "output_type": "execute_result",
          "data": {
            "text/plain": [
              "GaussianNB()"
            ]
          },
          "metadata": {},
          "execution_count": 51
        }
      ]
    },
    {
      "cell_type": "markdown",
      "source": [
        "###Testing"
      ],
      "metadata": {
        "id": "ybmeSvamcPtu"
      },
      "id": "ybmeSvamcPtu"
    },
    {
      "cell_type": "code",
      "source": [
        "from sklearn.metrics import classification_report\n",
        "y_pred_crop_NB = gnb.predict(X_test)\n",
        "\n",
        "print(classification_report(y_test,y_pred_crop_NB))"
      ],
      "metadata": {
        "colab": {
          "base_uri": "https://localhost:8080/"
        },
        "id": "_z8To4VTcmml",
        "outputId": "d7247923-c1fe-4664-ada7-b98d51fc83af"
      },
      "id": "_z8To4VTcmml",
      "execution_count": 52,
      "outputs": [
        {
          "output_type": "stream",
          "name": "stdout",
          "text": [
            "              precision    recall  f1-score   support\n",
            "\n",
            "           1       0.57      0.63      0.60       516\n",
            "           2       0.08      0.00      0.01       235\n",
            "           3       0.08      0.26      0.13        27\n",
            "           4       0.86      0.48      0.62       422\n",
            "           5       0.00      0.00      0.00         4\n",
            "           6       0.12      0.55      0.20        44\n",
            "           8       0.10      0.47      0.17        15\n",
            "           9       0.48      0.97      0.64        78\n",
            "          13       0.25      0.07      0.11        15\n",
            "          14       0.00      0.00      0.00         2\n",
            "          15       0.04      0.14      0.06         7\n",
            "          16       0.00      0.00      0.00         3\n",
            "          36       0.05      0.10      0.07        20\n",
            "\n",
            "    accuracy                           0.47      1388\n",
            "   macro avg       0.20      0.28      0.20      1388\n",
            "weighted avg       0.53      0.47      0.46      1388\n",
            "\n"
          ]
        },
        {
          "output_type": "stream",
          "name": "stderr",
          "text": [
            "/usr/local/lib/python3.7/dist-packages/sklearn/metrics/_classification.py:1318: UndefinedMetricWarning: Precision and F-score are ill-defined and being set to 0.0 in labels with no predicted samples. Use `zero_division` parameter to control this behavior.\n",
            "  _warn_prf(average, modifier, msg_start, len(result))\n",
            "/usr/local/lib/python3.7/dist-packages/sklearn/metrics/_classification.py:1318: UndefinedMetricWarning: Precision and F-score are ill-defined and being set to 0.0 in labels with no predicted samples. Use `zero_division` parameter to control this behavior.\n",
            "  _warn_prf(average, modifier, msg_start, len(result))\n",
            "/usr/local/lib/python3.7/dist-packages/sklearn/metrics/_classification.py:1318: UndefinedMetricWarning: Precision and F-score are ill-defined and being set to 0.0 in labels with no predicted samples. Use `zero_division` parameter to control this behavior.\n",
            "  _warn_prf(average, modifier, msg_start, len(result))\n"
          ]
        }
      ]
    },
    {
      "cell_type": "code",
      "source": [
        "y_pred_proba_NB = Onerest.predict_proba(X_test)"
      ],
      "metadata": {
        "id": "CKAoC1ppcx2P"
      },
      "id": "CKAoC1ppcx2P",
      "execution_count": 53,
      "outputs": []
    },
    {
      "cell_type": "markdown",
      "source": [
        "###Cross entropy"
      ],
      "metadata": {
        "id": "q_Ll4sobcQBN"
      },
      "id": "q_Ll4sobcQBN"
    },
    {
      "cell_type": "code",
      "source": [
        "cross_loss_NB = log_loss(y_test,y_pred_proba_NB)\n",
        "print(cross_loss_NB)"
      ],
      "metadata": {
        "colab": {
          "base_uri": "https://localhost:8080/"
        },
        "id": "f-I_AvI2c4N6",
        "outputId": "47be00cf-97d8-40fa-e3e8-12e19189939d"
      },
      "id": "f-I_AvI2c4N6",
      "execution_count": 54,
      "outputs": [
        {
          "output_type": "stream",
          "name": "stdout",
          "text": [
            "1.0470755177117905\n"
          ]
        }
      ]
    },
    {
      "cell_type": "markdown",
      "source": [
        "##Simple ANN architecture with tensorflow"
      ],
      "metadata": {
        "id": "DBv3P1MeTLNS"
      },
      "id": "DBv3P1MeTLNS"
    },
    {
      "cell_type": "markdown",
      "source": [
        "###input pipeline with tf.data"
      ],
      "metadata": {
        "id": "SNPm5IPFVqJ_"
      },
      "id": "SNPm5IPFVqJ_"
    },
    {
      "cell_type": "code",
      "source": [
        "def df_to_dataset(dataframe,labels, shuffle=True, batch_size=32):\n",
        "  dataframe = dataframe.copy()\n",
        "  labels = labels\n",
        "  ds = tf.data.Dataset.from_tensor_slices((dict(dataframe), labels))\n",
        "  if shuffle:\n",
        "    ds = ds.shuffle(buffer_size=len(dataframe))\n",
        "  ds = ds.batch(batch_size)\n",
        "  return ds"
      ],
      "metadata": {
        "id": "aOIZ98AeVvZf"
      },
      "id": "aOIZ98AeVvZf",
      "execution_count": 55,
      "outputs": []
    },
    {
      "cell_type": "markdown",
      "source": [
        "##create feature layer"
      ],
      "metadata": {
        "id": "z63INHKSUF_0"
      },
      "id": "z63INHKSUF_0"
    },
    {
      "cell_type": "code",
      "source": [
        "df.columns"
      ],
      "metadata": {
        "colab": {
          "base_uri": "https://localhost:8080/"
        },
        "id": "dWoxmH3AUvt2",
        "outputId": "d655eebd-f546-4fbe-d2d6-6ccdb07671f4"
      },
      "id": "dWoxmH3AUvt2",
      "execution_count": 56,
      "outputs": [
        {
          "output_type": "execute_result",
          "data": {
            "text/plain": [
              "Index(['field_id', 'B01', 'B02', 'B03', 'B04', 'B05', 'B06', 'B07', 'B08',\n",
              "       'B8A', 'B09', 'B11', 'B12', 'crop_id'],\n",
              "      dtype='object')"
            ]
          },
          "metadata": {},
          "execution_count": 56
        }
      ]
    },
    {
      "cell_type": "markdown",
      "source": [
        "##apply fearure layer to all column (they are all numerical type)"
      ],
      "metadata": {
        "id": "HfIYVq1WUbvh"
      },
      "id": "HfIYVq1WUbvh"
    },
    {
      "cell_type": "code",
      "source": [
        "feature_columns = []\n",
        "\n",
        "# numeric cols\n",
        "for header in ['B01', 'B02', 'B03', 'B04', 'B05', 'B06', 'B07', 'B08','B8A', 'B09', 'B11', 'B12']:\n",
        "  feature_columns.append(feature_column.numeric_column(header))"
      ],
      "metadata": {
        "id": "BrwYRRg_UjVa"
      },
      "id": "BrwYRRg_UjVa",
      "execution_count": 57,
      "outputs": []
    },
    {
      "cell_type": "code",
      "source": [
        "feature_layer = tf.keras.layers.DenseFeatures(feature_columns)"
      ],
      "metadata": {
        "id": "U9552Z2RUJMd"
      },
      "id": "U9552Z2RUJMd",
      "execution_count": 58,
      "outputs": []
    },
    {
      "cell_type": "markdown",
      "source": [
        "###Create batch of data"
      ],
      "metadata": {
        "id": "vc6ZKvVQT6Qy"
      },
      "id": "vc6ZKvVQT6Qy"
    },
    {
      "cell_type": "code",
      "source": [],
      "metadata": {
        "id": "2mze_yQUYYmA"
      },
      "id": "2mze_yQUYYmA",
      "execution_count": 58,
      "outputs": []
    },
    {
      "cell_type": "code",
      "source": [
        "batch_size = 32\n",
        "train_ds = df_to_dataset(X_train,y_train, batch_size=batch_size)\n",
        "val_ds = df_to_dataset(X_val,y_val ,shuffle=False, batch_size=batch_size)\n",
        "test_ds = df_to_dataset(X_test,y_test, shuffle=False, batch_size=batch_size)"
      ],
      "metadata": {
        "id": "659JOJWLT__A"
      },
      "id": "659JOJWLT__A",
      "execution_count": 59,
      "outputs": []
    },
    {
      "cell_type": "markdown",
      "source": [
        "###model definition"
      ],
      "metadata": {
        "id": "mGBJeaS3TRS4"
      },
      "id": "mGBJeaS3TRS4"
    },
    {
      "cell_type": "code",
      "source": [
        "model = tf.keras.Sequential([\n",
        "  feature_layer,\n",
        "  layers.Dense(128, activation='relu'),\n",
        "  layers.Dense(128, activation='relu'),\n",
        "  layers.Dropout(.1),\n",
        "  layers.Dense(37,activation='softmax')\n",
        "])"
      ],
      "metadata": {
        "id": "F4IBCdiTTQfR"
      },
      "id": "F4IBCdiTTQfR",
      "execution_count": 60,
      "outputs": []
    },
    {
      "cell_type": "markdown",
      "source": [
        "###compile model"
      ],
      "metadata": {
        "id": "UhVVKtl3TjOn"
      },
      "id": "UhVVKtl3TjOn"
    },
    {
      "cell_type": "code",
      "source": [
        "model.compile(optimizer='adam',\n",
        "              loss=tf.keras.losses.SparseCategoricalCrossentropy(from_logits=True),\n",
        "              metrics=tf.keras.metrics.SparseCategoricalCrossentropy(name='sparse_categorical_crossentropy'))\n"
      ],
      "metadata": {
        "id": "kVnJyRFJTlr7"
      },
      "id": "kVnJyRFJTlr7",
      "execution_count": 61,
      "outputs": []
    },
    {
      "cell_type": "markdown",
      "source": [
        "###fit model"
      ],
      "metadata": {
        "id": "TiiRL67NTncC"
      },
      "id": "TiiRL67NTncC"
    },
    {
      "cell_type": "code",
      "source": [
        "model.fit(train_ds,validation_data=val_ds,epochs=100)"
      ],
      "metadata": {
        "colab": {
          "base_uri": "https://localhost:8080/"
        },
        "id": "BC7spAuvTrDc",
        "outputId": "ae8d5445-0106-486c-8a10-006959fdfca5"
      },
      "id": "BC7spAuvTrDc",
      "execution_count": 62,
      "outputs": [
        {
          "output_type": "stream",
          "name": "stdout",
          "text": [
            "Epoch 1/100\n"
          ]
        },
        {
          "output_type": "stream",
          "name": "stderr",
          "text": [
            "WARNING:tensorflow:Layers in a Sequential model should only have a single input tensor. Received: inputs={'B01': <tf.Tensor 'IteratorGetNext:0' shape=(None,) dtype=float64>, 'B02': <tf.Tensor 'IteratorGetNext:1' shape=(None,) dtype=float64>, 'B03': <tf.Tensor 'IteratorGetNext:2' shape=(None,) dtype=float64>, 'B04': <tf.Tensor 'IteratorGetNext:3' shape=(None,) dtype=float64>, 'B05': <tf.Tensor 'IteratorGetNext:4' shape=(None,) dtype=float64>, 'B06': <tf.Tensor 'IteratorGetNext:5' shape=(None,) dtype=float64>, 'B07': <tf.Tensor 'IteratorGetNext:6' shape=(None,) dtype=float64>, 'B08': <tf.Tensor 'IteratorGetNext:7' shape=(None,) dtype=float64>, 'B8A': <tf.Tensor 'IteratorGetNext:11' shape=(None,) dtype=float64>, 'B09': <tf.Tensor 'IteratorGetNext:8' shape=(None,) dtype=float64>, 'B11': <tf.Tensor 'IteratorGetNext:9' shape=(None,) dtype=float64>, 'B12': <tf.Tensor 'IteratorGetNext:10' shape=(None,) dtype=float64>}. Consider rewriting this model with the Functional API.\n",
            "/usr/local/lib/python3.7/dist-packages/tensorflow/python/util/dispatch.py:1082: UserWarning: \"`sparse_categorical_crossentropy` received `from_logits=True`, but the `output` argument was produced by a sigmoid or softmax activation and thus does not represent logits. Was this intended?\"\n",
            "  return dispatch_target(*args, **kwargs)\n",
            "WARNING:tensorflow:Layers in a Sequential model should only have a single input tensor. Received: inputs={'B01': <tf.Tensor 'IteratorGetNext:0' shape=(None,) dtype=float64>, 'B02': <tf.Tensor 'IteratorGetNext:1' shape=(None,) dtype=float64>, 'B03': <tf.Tensor 'IteratorGetNext:2' shape=(None,) dtype=float64>, 'B04': <tf.Tensor 'IteratorGetNext:3' shape=(None,) dtype=float64>, 'B05': <tf.Tensor 'IteratorGetNext:4' shape=(None,) dtype=float64>, 'B06': <tf.Tensor 'IteratorGetNext:5' shape=(None,) dtype=float64>, 'B07': <tf.Tensor 'IteratorGetNext:6' shape=(None,) dtype=float64>, 'B08': <tf.Tensor 'IteratorGetNext:7' shape=(None,) dtype=float64>, 'B8A': <tf.Tensor 'IteratorGetNext:11' shape=(None,) dtype=float64>, 'B09': <tf.Tensor 'IteratorGetNext:8' shape=(None,) dtype=float64>, 'B11': <tf.Tensor 'IteratorGetNext:9' shape=(None,) dtype=float64>, 'B12': <tf.Tensor 'IteratorGetNext:10' shape=(None,) dtype=float64>}. Consider rewriting this model with the Functional API.\n"
          ]
        },
        {
          "output_type": "stream",
          "name": "stdout",
          "text": [
            "124/131 [===========================>..] - ETA: 0s - loss: 3.1378 - sparse_categorical_crossentropy: 3.1378"
          ]
        },
        {
          "output_type": "stream",
          "name": "stderr",
          "text": [
            "WARNING:tensorflow:Layers in a Sequential model should only have a single input tensor. Received: inputs={'B01': <tf.Tensor 'IteratorGetNext:0' shape=(None,) dtype=float64>, 'B02': <tf.Tensor 'IteratorGetNext:1' shape=(None,) dtype=float64>, 'B03': <tf.Tensor 'IteratorGetNext:2' shape=(None,) dtype=float64>, 'B04': <tf.Tensor 'IteratorGetNext:3' shape=(None,) dtype=float64>, 'B05': <tf.Tensor 'IteratorGetNext:4' shape=(None,) dtype=float64>, 'B06': <tf.Tensor 'IteratorGetNext:5' shape=(None,) dtype=float64>, 'B07': <tf.Tensor 'IteratorGetNext:6' shape=(None,) dtype=float64>, 'B08': <tf.Tensor 'IteratorGetNext:7' shape=(None,) dtype=float64>, 'B8A': <tf.Tensor 'IteratorGetNext:11' shape=(None,) dtype=float64>, 'B09': <tf.Tensor 'IteratorGetNext:8' shape=(None,) dtype=float64>, 'B11': <tf.Tensor 'IteratorGetNext:9' shape=(None,) dtype=float64>, 'B12': <tf.Tensor 'IteratorGetNext:10' shape=(None,) dtype=float64>}. Consider rewriting this model with the Functional API.\n"
          ]
        },
        {
          "output_type": "stream",
          "name": "stdout",
          "text": [
            "\b\b\b\b\b\b\b\b\b\b\b\b\b\b\b\b\b\b\b\b\b\b\b\b\b\b\b\b\b\b\b\b\b\b\b\b\b\b\b\b\b\b\b\b\b\b\b\b\b\b\b\b\b\b\b\b\b\b\b\b\b\b\b\b\b\b\b\b\b\b\b\b\b\b\b\b\b\b\b\b\b\b\b\b\b\b\b\b\b\b\b\b\b\b\b\b\b\b\b\b\b\b\b\b\b\b\b\r131/131 [==============================] - 1s 4ms/step - loss: 3.0604 - sparse_categorical_crossentropy: 3.0604 - val_loss: 1.3347 - val_sparse_categorical_crossentropy: 1.3347\n",
            "Epoch 2/100\n",
            "131/131 [==============================] - 0s 3ms/step - loss: 1.3753 - sparse_categorical_crossentropy: 1.3753 - val_loss: 1.2470 - val_sparse_categorical_crossentropy: 1.2470\n",
            "Epoch 3/100\n",
            "131/131 [==============================] - 0s 3ms/step - loss: 1.3208 - sparse_categorical_crossentropy: 1.3208 - val_loss: 1.1433 - val_sparse_categorical_crossentropy: 1.1433\n",
            "Epoch 4/100\n",
            "131/131 [==============================] - 0s 3ms/step - loss: 1.2864 - sparse_categorical_crossentropy: 1.2864 - val_loss: 1.1499 - val_sparse_categorical_crossentropy: 1.1499\n",
            "Epoch 5/100\n",
            "131/131 [==============================] - 0s 2ms/step - loss: 1.2619 - sparse_categorical_crossentropy: 1.2619 - val_loss: 1.1431 - val_sparse_categorical_crossentropy: 1.1431\n",
            "Epoch 6/100\n",
            "131/131 [==============================] - 0s 3ms/step - loss: 1.2520 - sparse_categorical_crossentropy: 1.2520 - val_loss: 1.1572 - val_sparse_categorical_crossentropy: 1.1572\n",
            "Epoch 7/100\n",
            "131/131 [==============================] - 0s 2ms/step - loss: 1.2303 - sparse_categorical_crossentropy: 1.2303 - val_loss: 1.1269 - val_sparse_categorical_crossentropy: 1.1269\n",
            "Epoch 8/100\n",
            "131/131 [==============================] - 0s 3ms/step - loss: 1.2073 - sparse_categorical_crossentropy: 1.2073 - val_loss: 1.1350 - val_sparse_categorical_crossentropy: 1.1350\n",
            "Epoch 9/100\n",
            "131/131 [==============================] - 0s 3ms/step - loss: 1.2066 - sparse_categorical_crossentropy: 1.2066 - val_loss: 1.1778 - val_sparse_categorical_crossentropy: 1.1778\n",
            "Epoch 10/100\n",
            "131/131 [==============================] - 0s 2ms/step - loss: 1.1947 - sparse_categorical_crossentropy: 1.1947 - val_loss: 1.1643 - val_sparse_categorical_crossentropy: 1.1643\n",
            "Epoch 11/100\n",
            "131/131 [==============================] - 0s 3ms/step - loss: 1.2049 - sparse_categorical_crossentropy: 1.2049 - val_loss: 1.0949 - val_sparse_categorical_crossentropy: 1.0949\n",
            "Epoch 12/100\n",
            "131/131 [==============================] - 0s 3ms/step - loss: 1.1935 - sparse_categorical_crossentropy: 1.1935 - val_loss: 1.1263 - val_sparse_categorical_crossentropy: 1.1263\n",
            "Epoch 13/100\n",
            "131/131 [==============================] - 0s 2ms/step - loss: 1.1990 - sparse_categorical_crossentropy: 1.1990 - val_loss: 1.0683 - val_sparse_categorical_crossentropy: 1.0683\n",
            "Epoch 14/100\n",
            "131/131 [==============================] - 0s 2ms/step - loss: 1.1811 - sparse_categorical_crossentropy: 1.1811 - val_loss: 1.0761 - val_sparse_categorical_crossentropy: 1.0761\n",
            "Epoch 15/100\n",
            "131/131 [==============================] - 0s 3ms/step - loss: 1.1859 - sparse_categorical_crossentropy: 1.1859 - val_loss: 1.0942 - val_sparse_categorical_crossentropy: 1.0942\n",
            "Epoch 16/100\n",
            "131/131 [==============================] - 0s 2ms/step - loss: 1.1896 - sparse_categorical_crossentropy: 1.1896 - val_loss: 1.0788 - val_sparse_categorical_crossentropy: 1.0788\n",
            "Epoch 17/100\n",
            "131/131 [==============================] - 0s 2ms/step - loss: 1.1617 - sparse_categorical_crossentropy: 1.1617 - val_loss: 1.0791 - val_sparse_categorical_crossentropy: 1.0791\n",
            "Epoch 18/100\n",
            "131/131 [==============================] - 0s 2ms/step - loss: 1.1580 - sparse_categorical_crossentropy: 1.1580 - val_loss: 1.0657 - val_sparse_categorical_crossentropy: 1.0657\n",
            "Epoch 19/100\n",
            "131/131 [==============================] - 0s 3ms/step - loss: 1.1670 - sparse_categorical_crossentropy: 1.1670 - val_loss: 1.1987 - val_sparse_categorical_crossentropy: 1.1987\n",
            "Epoch 20/100\n",
            "131/131 [==============================] - 0s 3ms/step - loss: 1.1589 - sparse_categorical_crossentropy: 1.1589 - val_loss: 1.0690 - val_sparse_categorical_crossentropy: 1.0690\n",
            "Epoch 21/100\n",
            "131/131 [==============================] - 0s 3ms/step - loss: 1.1592 - sparse_categorical_crossentropy: 1.1592 - val_loss: 1.0637 - val_sparse_categorical_crossentropy: 1.0637\n",
            "Epoch 22/100\n",
            "131/131 [==============================] - 0s 2ms/step - loss: 1.1527 - sparse_categorical_crossentropy: 1.1527 - val_loss: 1.0880 - val_sparse_categorical_crossentropy: 1.0880\n",
            "Epoch 23/100\n",
            "131/131 [==============================] - 0s 2ms/step - loss: 1.1434 - sparse_categorical_crossentropy: 1.1434 - val_loss: 1.0852 - val_sparse_categorical_crossentropy: 1.0852\n",
            "Epoch 24/100\n",
            "131/131 [==============================] - 0s 3ms/step - loss: 1.1497 - sparse_categorical_crossentropy: 1.1497 - val_loss: 1.0600 - val_sparse_categorical_crossentropy: 1.0600\n",
            "Epoch 25/100\n",
            "131/131 [==============================] - 0s 3ms/step - loss: 1.1338 - sparse_categorical_crossentropy: 1.1338 - val_loss: 1.0740 - val_sparse_categorical_crossentropy: 1.0740\n",
            "Epoch 26/100\n",
            "131/131 [==============================] - 0s 2ms/step - loss: 1.1339 - sparse_categorical_crossentropy: 1.1339 - val_loss: 1.0525 - val_sparse_categorical_crossentropy: 1.0525\n",
            "Epoch 27/100\n",
            "131/131 [==============================] - 0s 2ms/step - loss: 1.1282 - sparse_categorical_crossentropy: 1.1282 - val_loss: 1.0362 - val_sparse_categorical_crossentropy: 1.0362\n",
            "Epoch 28/100\n",
            "131/131 [==============================] - 0s 3ms/step - loss: 1.1358 - sparse_categorical_crossentropy: 1.1358 - val_loss: 1.0443 - val_sparse_categorical_crossentropy: 1.0443\n",
            "Epoch 29/100\n",
            "131/131 [==============================] - 0s 2ms/step - loss: 1.1372 - sparse_categorical_crossentropy: 1.1372 - val_loss: 1.0558 - val_sparse_categorical_crossentropy: 1.0558\n",
            "Epoch 30/100\n",
            "131/131 [==============================] - 0s 3ms/step - loss: 1.1379 - sparse_categorical_crossentropy: 1.1379 - val_loss: 1.0753 - val_sparse_categorical_crossentropy: 1.0753\n",
            "Epoch 31/100\n",
            "131/131 [==============================] - 0s 3ms/step - loss: 1.1220 - sparse_categorical_crossentropy: 1.1220 - val_loss: 1.0945 - val_sparse_categorical_crossentropy: 1.0945\n",
            "Epoch 32/100\n",
            "131/131 [==============================] - 0s 2ms/step - loss: 1.1291 - sparse_categorical_crossentropy: 1.1291 - val_loss: 1.0569 - val_sparse_categorical_crossentropy: 1.0569\n",
            "Epoch 33/100\n",
            "131/131 [==============================] - 0s 2ms/step - loss: 1.1392 - sparse_categorical_crossentropy: 1.1392 - val_loss: 1.0698 - val_sparse_categorical_crossentropy: 1.0698\n",
            "Epoch 34/100\n",
            "131/131 [==============================] - 0s 3ms/step - loss: 1.1200 - sparse_categorical_crossentropy: 1.1200 - val_loss: 1.0589 - val_sparse_categorical_crossentropy: 1.0589\n",
            "Epoch 35/100\n",
            "131/131 [==============================] - 0s 3ms/step - loss: 1.1176 - sparse_categorical_crossentropy: 1.1176 - val_loss: 1.0414 - val_sparse_categorical_crossentropy: 1.0414\n",
            "Epoch 36/100\n",
            "131/131 [==============================] - 0s 2ms/step - loss: 1.1140 - sparse_categorical_crossentropy: 1.1140 - val_loss: 1.0496 - val_sparse_categorical_crossentropy: 1.0496\n",
            "Epoch 37/100\n",
            "131/131 [==============================] - 0s 2ms/step - loss: 1.1188 - sparse_categorical_crossentropy: 1.1188 - val_loss: 1.1563 - val_sparse_categorical_crossentropy: 1.1563\n",
            "Epoch 38/100\n",
            "131/131 [==============================] - 0s 2ms/step - loss: 1.1245 - sparse_categorical_crossentropy: 1.1245 - val_loss: 1.0797 - val_sparse_categorical_crossentropy: 1.0797\n",
            "Epoch 39/100\n",
            "131/131 [==============================] - 0s 3ms/step - loss: 1.1188 - sparse_categorical_crossentropy: 1.1188 - val_loss: 1.0631 - val_sparse_categorical_crossentropy: 1.0631\n",
            "Epoch 40/100\n",
            "131/131 [==============================] - 0s 2ms/step - loss: 1.1088 - sparse_categorical_crossentropy: 1.1088 - val_loss: 1.0523 - val_sparse_categorical_crossentropy: 1.0523\n",
            "Epoch 41/100\n",
            "131/131 [==============================] - 0s 2ms/step - loss: 1.1047 - sparse_categorical_crossentropy: 1.1047 - val_loss: 1.0522 - val_sparse_categorical_crossentropy: 1.0522\n",
            "Epoch 42/100\n",
            "131/131 [==============================] - 0s 2ms/step - loss: 1.1005 - sparse_categorical_crossentropy: 1.1005 - val_loss: 1.0684 - val_sparse_categorical_crossentropy: 1.0684\n",
            "Epoch 43/100\n",
            "131/131 [==============================] - 0s 2ms/step - loss: 1.1145 - sparse_categorical_crossentropy: 1.1145 - val_loss: 1.0667 - val_sparse_categorical_crossentropy: 1.0667\n",
            "Epoch 44/100\n",
            "131/131 [==============================] - 0s 3ms/step - loss: 1.1055 - sparse_categorical_crossentropy: 1.1055 - val_loss: 1.0823 - val_sparse_categorical_crossentropy: 1.0823\n",
            "Epoch 45/100\n",
            "131/131 [==============================] - 0s 3ms/step - loss: 1.1058 - sparse_categorical_crossentropy: 1.1058 - val_loss: 1.0588 - val_sparse_categorical_crossentropy: 1.0588\n",
            "Epoch 46/100\n",
            "131/131 [==============================] - 0s 2ms/step - loss: 1.1091 - sparse_categorical_crossentropy: 1.1091 - val_loss: 1.0542 - val_sparse_categorical_crossentropy: 1.0542\n",
            "Epoch 47/100\n",
            "131/131 [==============================] - 0s 3ms/step - loss: 1.1054 - sparse_categorical_crossentropy: 1.1054 - val_loss: 1.0423 - val_sparse_categorical_crossentropy: 1.0423\n",
            "Epoch 48/100\n",
            "131/131 [==============================] - 0s 3ms/step - loss: 1.1001 - sparse_categorical_crossentropy: 1.1001 - val_loss: 1.0475 - val_sparse_categorical_crossentropy: 1.0475\n",
            "Epoch 49/100\n",
            "131/131 [==============================] - 0s 2ms/step - loss: 1.0974 - sparse_categorical_crossentropy: 1.0974 - val_loss: 1.0593 - val_sparse_categorical_crossentropy: 1.0593\n",
            "Epoch 50/100\n",
            "131/131 [==============================] - 0s 2ms/step - loss: 1.1059 - sparse_categorical_crossentropy: 1.1059 - val_loss: 1.0526 - val_sparse_categorical_crossentropy: 1.0526\n",
            "Epoch 51/100\n",
            "131/131 [==============================] - 0s 2ms/step - loss: 1.0777 - sparse_categorical_crossentropy: 1.0777 - val_loss: 1.0573 - val_sparse_categorical_crossentropy: 1.0573\n",
            "Epoch 52/100\n",
            "131/131 [==============================] - 0s 3ms/step - loss: 1.0926 - sparse_categorical_crossentropy: 1.0926 - val_loss: 1.0457 - val_sparse_categorical_crossentropy: 1.0457\n",
            "Epoch 53/100\n",
            "131/131 [==============================] - 0s 2ms/step - loss: 1.1000 - sparse_categorical_crossentropy: 1.1000 - val_loss: 1.0497 - val_sparse_categorical_crossentropy: 1.0497\n",
            "Epoch 54/100\n",
            "131/131 [==============================] - 0s 3ms/step - loss: 1.0969 - sparse_categorical_crossentropy: 1.0969 - val_loss: 1.0366 - val_sparse_categorical_crossentropy: 1.0366\n",
            "Epoch 55/100\n",
            "131/131 [==============================] - 0s 3ms/step - loss: 1.0934 - sparse_categorical_crossentropy: 1.0934 - val_loss: 1.0654 - val_sparse_categorical_crossentropy: 1.0654\n",
            "Epoch 56/100\n",
            "131/131 [==============================] - 0s 2ms/step - loss: 1.0940 - sparse_categorical_crossentropy: 1.0940 - val_loss: 1.0539 - val_sparse_categorical_crossentropy: 1.0539\n",
            "Epoch 57/100\n",
            "131/131 [==============================] - 0s 2ms/step - loss: 1.0905 - sparse_categorical_crossentropy: 1.0905 - val_loss: 1.0477 - val_sparse_categorical_crossentropy: 1.0477\n",
            "Epoch 58/100\n",
            "131/131 [==============================] - 0s 2ms/step - loss: 1.0785 - sparse_categorical_crossentropy: 1.0785 - val_loss: 1.0503 - val_sparse_categorical_crossentropy: 1.0503\n",
            "Epoch 59/100\n",
            "131/131 [==============================] - 0s 3ms/step - loss: 1.0802 - sparse_categorical_crossentropy: 1.0802 - val_loss: 1.0465 - val_sparse_categorical_crossentropy: 1.0465\n",
            "Epoch 60/100\n",
            "131/131 [==============================] - 0s 2ms/step - loss: 1.0801 - sparse_categorical_crossentropy: 1.0801 - val_loss: 1.0355 - val_sparse_categorical_crossentropy: 1.0355\n",
            "Epoch 61/100\n",
            "131/131 [==============================] - 0s 2ms/step - loss: 1.0651 - sparse_categorical_crossentropy: 1.0651 - val_loss: 1.0426 - val_sparse_categorical_crossentropy: 1.0426\n",
            "Epoch 62/100\n",
            "131/131 [==============================] - 0s 2ms/step - loss: 1.0764 - sparse_categorical_crossentropy: 1.0764 - val_loss: 1.0302 - val_sparse_categorical_crossentropy: 1.0302\n",
            "Epoch 63/100\n",
            "131/131 [==============================] - 0s 2ms/step - loss: 1.0774 - sparse_categorical_crossentropy: 1.0774 - val_loss: 1.0349 - val_sparse_categorical_crossentropy: 1.0349\n",
            "Epoch 64/100\n",
            "131/131 [==============================] - 0s 2ms/step - loss: 1.0793 - sparse_categorical_crossentropy: 1.0793 - val_loss: 1.0197 - val_sparse_categorical_crossentropy: 1.0197\n",
            "Epoch 65/100\n",
            "131/131 [==============================] - 0s 2ms/step - loss: 1.0615 - sparse_categorical_crossentropy: 1.0615 - val_loss: 1.0479 - val_sparse_categorical_crossentropy: 1.0479\n",
            "Epoch 66/100\n",
            "131/131 [==============================] - 0s 3ms/step - loss: 1.0664 - sparse_categorical_crossentropy: 1.0664 - val_loss: 1.0430 - val_sparse_categorical_crossentropy: 1.0430\n",
            "Epoch 67/100\n",
            "131/131 [==============================] - 0s 2ms/step - loss: 1.0705 - sparse_categorical_crossentropy: 1.0705 - val_loss: 1.0569 - val_sparse_categorical_crossentropy: 1.0569\n",
            "Epoch 68/100\n",
            "131/131 [==============================] - 0s 3ms/step - loss: 1.0763 - sparse_categorical_crossentropy: 1.0763 - val_loss: 1.0237 - val_sparse_categorical_crossentropy: 1.0237\n",
            "Epoch 69/100\n",
            "131/131 [==============================] - 0s 3ms/step - loss: 1.0712 - sparse_categorical_crossentropy: 1.0712 - val_loss: 1.0607 - val_sparse_categorical_crossentropy: 1.0607\n",
            "Epoch 70/100\n",
            "131/131 [==============================] - 0s 2ms/step - loss: 1.0653 - sparse_categorical_crossentropy: 1.0653 - val_loss: 1.0407 - val_sparse_categorical_crossentropy: 1.0407\n",
            "Epoch 71/100\n",
            "131/131 [==============================] - 0s 2ms/step - loss: 1.0740 - sparse_categorical_crossentropy: 1.0740 - val_loss: 1.0369 - val_sparse_categorical_crossentropy: 1.0369\n",
            "Epoch 72/100\n",
            "131/131 [==============================] - 0s 3ms/step - loss: 1.0698 - sparse_categorical_crossentropy: 1.0698 - val_loss: 1.0355 - val_sparse_categorical_crossentropy: 1.0355\n",
            "Epoch 73/100\n",
            "131/131 [==============================] - 0s 2ms/step - loss: 1.0536 - sparse_categorical_crossentropy: 1.0536 - val_loss: 1.0419 - val_sparse_categorical_crossentropy: 1.0419\n",
            "Epoch 74/100\n",
            "131/131 [==============================] - 0s 2ms/step - loss: 1.0704 - sparse_categorical_crossentropy: 1.0704 - val_loss: 1.0545 - val_sparse_categorical_crossentropy: 1.0545\n",
            "Epoch 75/100\n",
            "131/131 [==============================] - 0s 2ms/step - loss: 1.0616 - sparse_categorical_crossentropy: 1.0616 - val_loss: 1.0473 - val_sparse_categorical_crossentropy: 1.0473\n",
            "Epoch 76/100\n",
            "131/131 [==============================] - 0s 2ms/step - loss: 1.0753 - sparse_categorical_crossentropy: 1.0753 - val_loss: 1.0197 - val_sparse_categorical_crossentropy: 1.0197\n",
            "Epoch 77/100\n",
            "131/131 [==============================] - 0s 2ms/step - loss: 1.0713 - sparse_categorical_crossentropy: 1.0713 - val_loss: 1.0547 - val_sparse_categorical_crossentropy: 1.0547\n",
            "Epoch 78/100\n",
            "131/131 [==============================] - 0s 3ms/step - loss: 1.0623 - sparse_categorical_crossentropy: 1.0623 - val_loss: 1.0425 - val_sparse_categorical_crossentropy: 1.0425\n",
            "Epoch 79/100\n",
            "131/131 [==============================] - 0s 2ms/step - loss: 1.0589 - sparse_categorical_crossentropy: 1.0589 - val_loss: 1.0420 - val_sparse_categorical_crossentropy: 1.0420\n",
            "Epoch 80/100\n",
            "131/131 [==============================] - 0s 2ms/step - loss: 1.0689 - sparse_categorical_crossentropy: 1.0689 - val_loss: 1.0337 - val_sparse_categorical_crossentropy: 1.0337\n",
            "Epoch 81/100\n",
            "131/131 [==============================] - 0s 3ms/step - loss: 1.0574 - sparse_categorical_crossentropy: 1.0574 - val_loss: 1.0299 - val_sparse_categorical_crossentropy: 1.0299\n",
            "Epoch 82/100\n",
            "131/131 [==============================] - 0s 3ms/step - loss: 1.0604 - sparse_categorical_crossentropy: 1.0604 - val_loss: 1.0196 - val_sparse_categorical_crossentropy: 1.0196\n",
            "Epoch 83/100\n",
            "131/131 [==============================] - 0s 2ms/step - loss: 1.0654 - sparse_categorical_crossentropy: 1.0654 - val_loss: 1.0244 - val_sparse_categorical_crossentropy: 1.0244\n",
            "Epoch 84/100\n",
            "131/131 [==============================] - 0s 2ms/step - loss: 1.0551 - sparse_categorical_crossentropy: 1.0551 - val_loss: 1.0353 - val_sparse_categorical_crossentropy: 1.0353\n",
            "Epoch 85/100\n",
            "131/131 [==============================] - 0s 3ms/step - loss: 1.0585 - sparse_categorical_crossentropy: 1.0585 - val_loss: 1.0301 - val_sparse_categorical_crossentropy: 1.0301\n",
            "Epoch 86/100\n",
            "131/131 [==============================] - 0s 3ms/step - loss: 1.0560 - sparse_categorical_crossentropy: 1.0560 - val_loss: 1.0264 - val_sparse_categorical_crossentropy: 1.0264\n",
            "Epoch 87/100\n",
            "131/131 [==============================] - 0s 3ms/step - loss: 1.0611 - sparse_categorical_crossentropy: 1.0611 - val_loss: 1.0265 - val_sparse_categorical_crossentropy: 1.0265\n",
            "Epoch 88/100\n",
            "131/131 [==============================] - 0s 2ms/step - loss: 1.0609 - sparse_categorical_crossentropy: 1.0609 - val_loss: 1.0183 - val_sparse_categorical_crossentropy: 1.0183\n",
            "Epoch 89/100\n",
            "131/131 [==============================] - 0s 2ms/step - loss: 1.0611 - sparse_categorical_crossentropy: 1.0611 - val_loss: 1.0411 - val_sparse_categorical_crossentropy: 1.0411\n",
            "Epoch 90/100\n",
            "131/131 [==============================] - 0s 2ms/step - loss: 1.0568 - sparse_categorical_crossentropy: 1.0568 - val_loss: 1.0462 - val_sparse_categorical_crossentropy: 1.0462\n",
            "Epoch 91/100\n",
            "131/131 [==============================] - 0s 2ms/step - loss: 1.0514 - sparse_categorical_crossentropy: 1.0514 - val_loss: 1.0399 - val_sparse_categorical_crossentropy: 1.0399\n",
            "Epoch 92/100\n",
            "131/131 [==============================] - 0s 2ms/step - loss: 1.0509 - sparse_categorical_crossentropy: 1.0509 - val_loss: 1.0316 - val_sparse_categorical_crossentropy: 1.0316\n",
            "Epoch 93/100\n",
            "131/131 [==============================] - 0s 3ms/step - loss: 1.0502 - sparse_categorical_crossentropy: 1.0502 - val_loss: 1.0155 - val_sparse_categorical_crossentropy: 1.0155\n",
            "Epoch 94/100\n",
            "131/131 [==============================] - 0s 3ms/step - loss: 1.0408 - sparse_categorical_crossentropy: 1.0408 - val_loss: 1.0281 - val_sparse_categorical_crossentropy: 1.0281\n",
            "Epoch 95/100\n",
            "131/131 [==============================] - 0s 2ms/step - loss: 1.0504 - sparse_categorical_crossentropy: 1.0504 - val_loss: 1.0352 - val_sparse_categorical_crossentropy: 1.0352\n",
            "Epoch 96/100\n",
            "131/131 [==============================] - 0s 3ms/step - loss: 1.0530 - sparse_categorical_crossentropy: 1.0530 - val_loss: 1.0363 - val_sparse_categorical_crossentropy: 1.0363\n",
            "Epoch 97/100\n",
            "131/131 [==============================] - 0s 2ms/step - loss: 1.0464 - sparse_categorical_crossentropy: 1.0464 - val_loss: 1.0138 - val_sparse_categorical_crossentropy: 1.0138\n",
            "Epoch 98/100\n",
            "131/131 [==============================] - 0s 3ms/step - loss: 1.0419 - sparse_categorical_crossentropy: 1.0419 - val_loss: 1.0227 - val_sparse_categorical_crossentropy: 1.0227\n",
            "Epoch 99/100\n",
            "131/131 [==============================] - 0s 3ms/step - loss: 1.0431 - sparse_categorical_crossentropy: 1.0431 - val_loss: 1.0207 - val_sparse_categorical_crossentropy: 1.0207\n",
            "Epoch 100/100\n",
            "131/131 [==============================] - 0s 2ms/step - loss: 1.0444 - sparse_categorical_crossentropy: 1.0444 - val_loss: 1.0176 - val_sparse_categorical_crossentropy: 1.0176\n"
          ]
        },
        {
          "output_type": "execute_result",
          "data": {
            "text/plain": [
              "<keras.callbacks.History at 0x7f73ac4a1290>"
            ]
          },
          "metadata": {},
          "execution_count": 62
        }
      ]
    },
    {
      "cell_type": "markdown",
      "source": [
        "###model evaluation"
      ],
      "metadata": {
        "id": "jfLelI_KpzH3"
      },
      "id": "jfLelI_KpzH3"
    },
    {
      "cell_type": "code",
      "source": [
        "results = model.evaluate(test_ds, batch_size=64)"
      ],
      "metadata": {
        "colab": {
          "base_uri": "https://localhost:8080/"
        },
        "id": "F11TE9a0p1uP",
        "outputId": "4aedfa56-76bd-4f22-fc6b-b80746a6b886"
      },
      "id": "F11TE9a0p1uP",
      "execution_count": 63,
      "outputs": [
        {
          "output_type": "stream",
          "name": "stdout",
          "text": [
            "44/44 [==============================] - 0s 1ms/step - loss: 1.0176 - sparse_categorical_crossentropy: 1.0176\n"
          ]
        }
      ]
    },
    {
      "cell_type": "markdown",
      "source": [
        "###Prediction "
      ],
      "metadata": {
        "id": "inavJxqCn6IT"
      },
      "id": "inavJxqCn6IT"
    },
    {
      "cell_type": "code",
      "source": [
        "def df_to_dataset_test(dataframe, shuffle=False, batch_size=32):\n",
        "  dataframe = dataframe.copy()\n",
        "  ds = tf.data.Dataset.from_tensor_slices(dict(dataframe))\n",
        "  #if shuffle:\n",
        "  #  ds = ds.shuffle(buffer_size=len(dataframe))\n",
        "  ds = ds.batch(batch_size)\n",
        "  return ds"
      ],
      "metadata": {
        "id": "Obq7EI5Wu1_c"
      },
      "id": "Obq7EI5Wu1_c",
      "execution_count": 64,
      "outputs": []
    },
    {
      "cell_type": "code",
      "source": [
        "test_sumbmission_df =  pd.read_csv('./test_data_agrifield.csv')"
      ],
      "metadata": {
        "id": "DzrmXbMTrHRA"
      },
      "id": "DzrmXbMTrHRA",
      "execution_count": 65,
      "outputs": []
    },
    {
      "cell_type": "code",
      "source": [
        "test_sumbmission_df.columns"
      ],
      "metadata": {
        "colab": {
          "base_uri": "https://localhost:8080/"
        },
        "id": "WQMEIBCns3FN",
        "outputId": "b7dc6a73-87a5-4e68-9caa-ef332ceaf3d1"
      },
      "id": "WQMEIBCns3FN",
      "execution_count": 66,
      "outputs": [
        {
          "output_type": "execute_result",
          "data": {
            "text/plain": [
              "Index(['Unnamed: 0', 'field_id', 'B01', 'B02', 'B03', 'B04', 'B05', 'B06',\n",
              "       'B07', 'B08', 'B8A', 'B09', 'B11', 'B12'],\n",
              "      dtype='object')"
            ]
          },
          "metadata": {},
          "execution_count": 66
        }
      ]
    },
    {
      "cell_type": "code",
      "source": [
        "test_sumbmission_df.head()"
      ],
      "metadata": {
        "colab": {
          "base_uri": "https://localhost:8080/",
          "height": 288
        },
        "id": "rUDGozfVsubU",
        "outputId": "7cdcb124-7f30-468b-ef81-e2cf8d79ca4c"
      },
      "id": "rUDGozfVsubU",
      "execution_count": 67,
      "outputs": [
        {
          "output_type": "execute_result",
          "data": {
            "text/plain": [
              "   Unnamed: 0  field_id        B01        B02        B03        B04  \\\n",
              "0           0        11  43.086957  39.057971  38.420290  38.405797   \n",
              "1           1        13  44.000000  40.692308  41.307692  46.769231   \n",
              "2           2        19  45.469388  41.918367  42.530612  44.367347   \n",
              "3           3        21  44.000000  40.250000  40.750000  40.000000   \n",
              "4           4        25  47.000000  44.300000  47.200000  52.900000   \n",
              "\n",
              "         B05        B06        B07        B08        B8A        B09  \\\n",
              "0  42.507246  59.536232  68.797101  64.405797  76.130435  12.507246   \n",
              "1  49.461538  61.076923  70.000000  65.461538  77.923077  13.000000   \n",
              "2  47.122449  62.469388  71.979592  66.265306  78.428571  12.000000   \n",
              "3  44.250000  64.250000  74.833333  69.583333  81.750000  12.000000   \n",
              "4  54.900000  67.300000  77.100000  71.200000  84.800000  13.000000   \n",
              "\n",
              "         B11        B12  \n",
              "0  72.159420  48.768116  \n",
              "1  84.076923  59.307692  \n",
              "2  78.938776  57.224490  \n",
              "3  72.166667  46.250000  \n",
              "4  95.700000  72.100000  "
            ],
            "text/html": [
              "\n",
              "  <div id=\"df-b6e55342-c376-4354-9b90-592b855e32da\">\n",
              "    <div class=\"colab-df-container\">\n",
              "      <div>\n",
              "<style scoped>\n",
              "    .dataframe tbody tr th:only-of-type {\n",
              "        vertical-align: middle;\n",
              "    }\n",
              "\n",
              "    .dataframe tbody tr th {\n",
              "        vertical-align: top;\n",
              "    }\n",
              "\n",
              "    .dataframe thead th {\n",
              "        text-align: right;\n",
              "    }\n",
              "</style>\n",
              "<table border=\"1\" class=\"dataframe\">\n",
              "  <thead>\n",
              "    <tr style=\"text-align: right;\">\n",
              "      <th></th>\n",
              "      <th>Unnamed: 0</th>\n",
              "      <th>field_id</th>\n",
              "      <th>B01</th>\n",
              "      <th>B02</th>\n",
              "      <th>B03</th>\n",
              "      <th>B04</th>\n",
              "      <th>B05</th>\n",
              "      <th>B06</th>\n",
              "      <th>B07</th>\n",
              "      <th>B08</th>\n",
              "      <th>B8A</th>\n",
              "      <th>B09</th>\n",
              "      <th>B11</th>\n",
              "      <th>B12</th>\n",
              "    </tr>\n",
              "  </thead>\n",
              "  <tbody>\n",
              "    <tr>\n",
              "      <th>0</th>\n",
              "      <td>0</td>\n",
              "      <td>11</td>\n",
              "      <td>43.086957</td>\n",
              "      <td>39.057971</td>\n",
              "      <td>38.420290</td>\n",
              "      <td>38.405797</td>\n",
              "      <td>42.507246</td>\n",
              "      <td>59.536232</td>\n",
              "      <td>68.797101</td>\n",
              "      <td>64.405797</td>\n",
              "      <td>76.130435</td>\n",
              "      <td>12.507246</td>\n",
              "      <td>72.159420</td>\n",
              "      <td>48.768116</td>\n",
              "    </tr>\n",
              "    <tr>\n",
              "      <th>1</th>\n",
              "      <td>1</td>\n",
              "      <td>13</td>\n",
              "      <td>44.000000</td>\n",
              "      <td>40.692308</td>\n",
              "      <td>41.307692</td>\n",
              "      <td>46.769231</td>\n",
              "      <td>49.461538</td>\n",
              "      <td>61.076923</td>\n",
              "      <td>70.000000</td>\n",
              "      <td>65.461538</td>\n",
              "      <td>77.923077</td>\n",
              "      <td>13.000000</td>\n",
              "      <td>84.076923</td>\n",
              "      <td>59.307692</td>\n",
              "    </tr>\n",
              "    <tr>\n",
              "      <th>2</th>\n",
              "      <td>2</td>\n",
              "      <td>19</td>\n",
              "      <td>45.469388</td>\n",
              "      <td>41.918367</td>\n",
              "      <td>42.530612</td>\n",
              "      <td>44.367347</td>\n",
              "      <td>47.122449</td>\n",
              "      <td>62.469388</td>\n",
              "      <td>71.979592</td>\n",
              "      <td>66.265306</td>\n",
              "      <td>78.428571</td>\n",
              "      <td>12.000000</td>\n",
              "      <td>78.938776</td>\n",
              "      <td>57.224490</td>\n",
              "    </tr>\n",
              "    <tr>\n",
              "      <th>3</th>\n",
              "      <td>3</td>\n",
              "      <td>21</td>\n",
              "      <td>44.000000</td>\n",
              "      <td>40.250000</td>\n",
              "      <td>40.750000</td>\n",
              "      <td>40.000000</td>\n",
              "      <td>44.250000</td>\n",
              "      <td>64.250000</td>\n",
              "      <td>74.833333</td>\n",
              "      <td>69.583333</td>\n",
              "      <td>81.750000</td>\n",
              "      <td>12.000000</td>\n",
              "      <td>72.166667</td>\n",
              "      <td>46.250000</td>\n",
              "    </tr>\n",
              "    <tr>\n",
              "      <th>4</th>\n",
              "      <td>4</td>\n",
              "      <td>25</td>\n",
              "      <td>47.000000</td>\n",
              "      <td>44.300000</td>\n",
              "      <td>47.200000</td>\n",
              "      <td>52.900000</td>\n",
              "      <td>54.900000</td>\n",
              "      <td>67.300000</td>\n",
              "      <td>77.100000</td>\n",
              "      <td>71.200000</td>\n",
              "      <td>84.800000</td>\n",
              "      <td>13.000000</td>\n",
              "      <td>95.700000</td>\n",
              "      <td>72.100000</td>\n",
              "    </tr>\n",
              "  </tbody>\n",
              "</table>\n",
              "</div>\n",
              "      <button class=\"colab-df-convert\" onclick=\"convertToInteractive('df-b6e55342-c376-4354-9b90-592b855e32da')\"\n",
              "              title=\"Convert this dataframe to an interactive table.\"\n",
              "              style=\"display:none;\">\n",
              "        \n",
              "  <svg xmlns=\"http://www.w3.org/2000/svg\" height=\"24px\"viewBox=\"0 0 24 24\"\n",
              "       width=\"24px\">\n",
              "    <path d=\"M0 0h24v24H0V0z\" fill=\"none\"/>\n",
              "    <path d=\"M18.56 5.44l.94 2.06.94-2.06 2.06-.94-2.06-.94-.94-2.06-.94 2.06-2.06.94zm-11 1L8.5 8.5l.94-2.06 2.06-.94-2.06-.94L8.5 2.5l-.94 2.06-2.06.94zm10 10l.94 2.06.94-2.06 2.06-.94-2.06-.94-.94-2.06-.94 2.06-2.06.94z\"/><path d=\"M17.41 7.96l-1.37-1.37c-.4-.4-.92-.59-1.43-.59-.52 0-1.04.2-1.43.59L10.3 9.45l-7.72 7.72c-.78.78-.78 2.05 0 2.83L4 21.41c.39.39.9.59 1.41.59.51 0 1.02-.2 1.41-.59l7.78-7.78 2.81-2.81c.8-.78.8-2.07 0-2.86zM5.41 20L4 18.59l7.72-7.72 1.47 1.35L5.41 20z\"/>\n",
              "  </svg>\n",
              "      </button>\n",
              "      \n",
              "  <style>\n",
              "    .colab-df-container {\n",
              "      display:flex;\n",
              "      flex-wrap:wrap;\n",
              "      gap: 12px;\n",
              "    }\n",
              "\n",
              "    .colab-df-convert {\n",
              "      background-color: #E8F0FE;\n",
              "      border: none;\n",
              "      border-radius: 50%;\n",
              "      cursor: pointer;\n",
              "      display: none;\n",
              "      fill: #1967D2;\n",
              "      height: 32px;\n",
              "      padding: 0 0 0 0;\n",
              "      width: 32px;\n",
              "    }\n",
              "\n",
              "    .colab-df-convert:hover {\n",
              "      background-color: #E2EBFA;\n",
              "      box-shadow: 0px 1px 2px rgba(60, 64, 67, 0.3), 0px 1px 3px 1px rgba(60, 64, 67, 0.15);\n",
              "      fill: #174EA6;\n",
              "    }\n",
              "\n",
              "    [theme=dark] .colab-df-convert {\n",
              "      background-color: #3B4455;\n",
              "      fill: #D2E3FC;\n",
              "    }\n",
              "\n",
              "    [theme=dark] .colab-df-convert:hover {\n",
              "      background-color: #434B5C;\n",
              "      box-shadow: 0px 1px 3px 1px rgba(0, 0, 0, 0.15);\n",
              "      filter: drop-shadow(0px 1px 2px rgba(0, 0, 0, 0.3));\n",
              "      fill: #FFFFFF;\n",
              "    }\n",
              "  </style>\n",
              "\n",
              "      <script>\n",
              "        const buttonEl =\n",
              "          document.querySelector('#df-b6e55342-c376-4354-9b90-592b855e32da button.colab-df-convert');\n",
              "        buttonEl.style.display =\n",
              "          google.colab.kernel.accessAllowed ? 'block' : 'none';\n",
              "\n",
              "        async function convertToInteractive(key) {\n",
              "          const element = document.querySelector('#df-b6e55342-c376-4354-9b90-592b855e32da');\n",
              "          const dataTable =\n",
              "            await google.colab.kernel.invokeFunction('convertToInteractive',\n",
              "                                                     [key], {});\n",
              "          if (!dataTable) return;\n",
              "\n",
              "          const docLinkHtml = 'Like what you see? Visit the ' +\n",
              "            '<a target=\"_blank\" href=https://colab.research.google.com/notebooks/data_table.ipynb>data table notebook</a>'\n",
              "            + ' to learn more about interactive tables.';\n",
              "          element.innerHTML = '';\n",
              "          dataTable['output_type'] = 'display_data';\n",
              "          await google.colab.output.renderOutput(dataTable, element);\n",
              "          const docLink = document.createElement('div');\n",
              "          docLink.innerHTML = docLinkHtml;\n",
              "          element.appendChild(docLink);\n",
              "        }\n",
              "      </script>\n",
              "    </div>\n",
              "  </div>\n",
              "  "
            ]
          },
          "metadata": {},
          "execution_count": 67
        }
      ]
    },
    {
      "cell_type": "code",
      "source": [
        "test_data=df_to_dataset_test(test_sumbmission_df.drop(['field_id', 'Unnamed: 0'], axis=1), shuffle=False, batch_size=32)"
      ],
      "metadata": {
        "id": "y7XeaDS_vd0a"
      },
      "id": "y7XeaDS_vd0a",
      "execution_count": 68,
      "outputs": []
    },
    {
      "cell_type": "code",
      "source": [
        "predictions = model.predict( test_data )"
      ],
      "metadata": {
        "colab": {
          "base_uri": "https://localhost:8080/"
        },
        "id": "cQbJRJHgn47l",
        "outputId": "8697549e-79fd-40f4-9ac1-166f389507ac"
      },
      "id": "cQbJRJHgn47l",
      "execution_count": 69,
      "outputs": [
        {
          "output_type": "stream",
          "name": "stderr",
          "text": [
            "WARNING:tensorflow:Layers in a Sequential model should only have a single input tensor. Received: inputs={'B01': <tf.Tensor 'IteratorGetNext:0' shape=(None,) dtype=float64>, 'B02': <tf.Tensor 'IteratorGetNext:1' shape=(None,) dtype=float64>, 'B03': <tf.Tensor 'IteratorGetNext:2' shape=(None,) dtype=float64>, 'B04': <tf.Tensor 'IteratorGetNext:3' shape=(None,) dtype=float64>, 'B05': <tf.Tensor 'IteratorGetNext:4' shape=(None,) dtype=float64>, 'B06': <tf.Tensor 'IteratorGetNext:5' shape=(None,) dtype=float64>, 'B07': <tf.Tensor 'IteratorGetNext:6' shape=(None,) dtype=float64>, 'B08': <tf.Tensor 'IteratorGetNext:7' shape=(None,) dtype=float64>, 'B8A': <tf.Tensor 'IteratorGetNext:11' shape=(None,) dtype=float64>, 'B09': <tf.Tensor 'IteratorGetNext:8' shape=(None,) dtype=float64>, 'B11': <tf.Tensor 'IteratorGetNext:9' shape=(None,) dtype=float64>, 'B12': <tf.Tensor 'IteratorGetNext:10' shape=(None,) dtype=float64>}. Consider rewriting this model with the Functional API.\n"
          ]
        }
      ]
    },
    {
      "cell_type": "code",
      "source": [
        "crop_dict = {1: 'Wheat',\n",
        " 2: 'Mustard',\n",
        " 3: 'Lentil',\n",
        " 4: 'No Crop',\n",
        " 6: 'Sugarcane',\n",
        " 8: 'Garlic',\n",
        " 15: 'Potato',\n",
        " 5: 'Green pea',\n",
        " 16: 'Bersem',\n",
        " 14: 'Coriander',\n",
        " 13: 'Gram',\n",
        " 9: 'Maize',\n",
        " 36: 'Rice'}"
      ],
      "metadata": {
        "id": "CuxFZV4cwnQm"
      },
      "id": "CuxFZV4cwnQm",
      "execution_count": 70,
      "outputs": []
    },
    {
      "cell_type": "code",
      "source": [
        "def labeler(labeled):\n",
        "    crop_label = np.array([crop_dict.get(f'{int(i)}') for i in labeled])\n",
        "    return crop_label"
      ],
      "metadata": {
        "id": "u-0GdbHKwtGQ"
      },
      "id": "u-0GdbHKwtGQ",
      "execution_count": 71,
      "outputs": []
    },
    {
      "cell_type": "code",
      "source": [
        "import numpy as np"
      ],
      "metadata": {
        "id": "AiGPZkeG7SGN"
      },
      "id": "AiGPZkeG7SGN",
      "execution_count": 85,
      "outputs": []
    },
    {
      "cell_type": "code",
      "source": [
        "a = predictions[0,:]\n",
        "print(predictions[0,0:].shape)\n",
        "maximum = np.max(a) \n",
        "index_of_maximum = np.where(predictions == maximum)\n",
        "\n",
        "print(index_of_maximum)\n",
        "\n",
        "print(predictions[index_of_maximum])\n"
      ],
      "metadata": {
        "colab": {
          "base_uri": "https://localhost:8080/"
        },
        "id": "0BD4iW8o6jRO",
        "outputId": "c51e3d49-9780-4b4c-8049-452d4b136f0c"
      },
      "id": "0BD4iW8o6jRO",
      "execution_count": 99,
      "outputs": [
        {
          "output_type": "stream",
          "name": "stdout",
          "text": [
            "(37,)\n",
            "(array([0]), array([1]))\n",
            "[0.28687102]\n"
          ]
        }
      ]
    },
    {
      "cell_type": "code",
      "source": [
        "print(max(predictions[0]))"
      ],
      "metadata": {
        "colab": {
          "base_uri": "https://localhost:8080/"
        },
        "id": "P98oiuM5vydV",
        "outputId": "15d4f41d-1f27-403a-ebde-33e0a3888a05"
      },
      "id": "P98oiuM5vydV",
      "execution_count": 82,
      "outputs": [
        {
          "output_type": "stream",
          "name": "stdout",
          "text": [
            "0.28687102\n"
          ]
        }
      ]
    },
    {
      "cell_type": "code",
      "source": [
        "a = np.argmax(predictions, axis=1)\n",
        "\n",
        "print(a.shape)"
      ],
      "metadata": {
        "colab": {
          "base_uri": "https://localhost:8080/"
        },
        "id": "Ou0eaGCmwXcP",
        "outputId": "ce5a9a93-d847-4367-f475-2a6b20985b6e"
      },
      "id": "Ou0eaGCmwXcP",
      "execution_count": 73,
      "outputs": [
        {
          "output_type": "stream",
          "name": "stdout",
          "text": [
            "(1530,)\n"
          ]
        }
      ]
    },
    {
      "cell_type": "code",
      "source": [
        "predictions.shape"
      ],
      "metadata": {
        "colab": {
          "base_uri": "https://localhost:8080/"
        },
        "id": "VAPFDaulx5qL",
        "outputId": "7adb472f-b632-4ff2-f087-6fab3f61fff4"
      },
      "id": "VAPFDaulx5qL",
      "execution_count": 74,
      "outputs": [
        {
          "output_type": "execute_result",
          "data": {
            "text/plain": [
              "(1530, 37)"
            ]
          },
          "metadata": {},
          "execution_count": 74
        }
      ]
    },
    {
      "cell_type": "code",
      "source": [
        "type(predictions)"
      ],
      "metadata": {
        "colab": {
          "base_uri": "https://localhost:8080/"
        },
        "id": "QfvrbAGa2mt5",
        "outputId": "ac4f86ff-c631-444f-e3f5-41a41e4d2bc4"
      },
      "id": "QfvrbAGa2mt5",
      "execution_count": 75,
      "outputs": [
        {
          "output_type": "execute_result",
          "data": {
            "text/plain": [
              "numpy.ndarray"
            ]
          },
          "metadata": {},
          "execution_count": 75
        }
      ]
    },
    {
      "cell_type": "code",
      "source": [
        "test_sumbmission_df.field_id.shape"
      ],
      "metadata": {
        "colab": {
          "base_uri": "https://localhost:8080/"
        },
        "id": "yCDUkiaUylVB",
        "outputId": "9e5cde3a-200a-4f63-b21d-2aa1b1383f5b"
      },
      "id": "yCDUkiaUylVB",
      "execution_count": 76,
      "outputs": [
        {
          "output_type": "execute_result",
          "data": {
            "text/plain": [
              "(1530,)"
            ]
          },
          "metadata": {},
          "execution_count": 76
        }
      ]
    },
    {
      "cell_type": "code",
      "source": [],
      "metadata": {
        "id": "p8uySGkJ1_s2"
      },
      "id": "p8uySGkJ1_s2",
      "execution_count": 76,
      "outputs": []
    },
    {
      "cell_type": "code",
      "source": [
        "crop_columns = [crop_dict.get(i) for i in a]\n",
        "\n",
        "test_df  = pd.DataFrame(columns= ['field_id'] + crop_columns)\n",
        "\n",
        "#print(test_df.shape)\n",
        "\n",
        "test_df['field_id'] = test_sumbmission_df.field_id\n",
        "\n",
        "print(test_df[crop_columns].shape)\n",
        "\n",
        "test_df[crop_columns]= predictions \n",
        "test_df.to_csv('./Tensorflowsubmission1.csv', index=False)"
      ],
      "metadata": {
        "colab": {
          "base_uri": "https://localhost:8080/",
          "height": 380
        },
        "id": "k9gq0fqvw4Ty",
        "outputId": "3981ae6d-0263-4620-c312-4d0729e050c9"
      },
      "id": "k9gq0fqvw4Ty",
      "execution_count": 77,
      "outputs": [
        {
          "output_type": "stream",
          "name": "stdout",
          "text": [
            "(1530, 825416)\n"
          ]
        },
        {
          "output_type": "error",
          "ename": "ValueError",
          "evalue": "ignored",
          "traceback": [
            "\u001b[0;31m---------------------------------------------------------------------------\u001b[0m",
            "\u001b[0;31mValueError\u001b[0m                                Traceback (most recent call last)",
            "\u001b[0;32m<ipython-input-77-eb4dfb18f046>\u001b[0m in \u001b[0;36m<module>\u001b[0;34m\u001b[0m\n\u001b[1;32m      9\u001b[0m \u001b[0mprint\u001b[0m\u001b[0;34m(\u001b[0m\u001b[0mtest_df\u001b[0m\u001b[0;34m[\u001b[0m\u001b[0mcrop_columns\u001b[0m\u001b[0;34m]\u001b[0m\u001b[0;34m.\u001b[0m\u001b[0mshape\u001b[0m\u001b[0;34m)\u001b[0m\u001b[0;34m\u001b[0m\u001b[0;34m\u001b[0m\u001b[0m\n\u001b[1;32m     10\u001b[0m \u001b[0;34m\u001b[0m\u001b[0m\n\u001b[0;32m---> 11\u001b[0;31m \u001b[0mtest_df\u001b[0m\u001b[0;34m[\u001b[0m\u001b[0mcrop_columns\u001b[0m\u001b[0;34m]\u001b[0m\u001b[0;34m=\u001b[0m \u001b[0mpredictions\u001b[0m\u001b[0;34m\u001b[0m\u001b[0;34m\u001b[0m\u001b[0m\n\u001b[0m\u001b[1;32m     12\u001b[0m \u001b[0mtest_df\u001b[0m\u001b[0;34m.\u001b[0m\u001b[0mto_csv\u001b[0m\u001b[0;34m(\u001b[0m\u001b[0;34m'./Tensorflowsubmission1.csv'\u001b[0m\u001b[0;34m,\u001b[0m \u001b[0mindex\u001b[0m\u001b[0;34m=\u001b[0m\u001b[0;32mFalse\u001b[0m\u001b[0;34m)\u001b[0m\u001b[0;34m\u001b[0m\u001b[0;34m\u001b[0m\u001b[0m\n",
            "\u001b[0;32m/usr/local/lib/python3.7/dist-packages/pandas/core/frame.py\u001b[0m in \u001b[0;36m__setitem__\u001b[0;34m(self, key, value)\u001b[0m\n\u001b[1;32m   3598\u001b[0m             \u001b[0mself\u001b[0m\u001b[0;34m.\u001b[0m\u001b[0m_setitem_frame\u001b[0m\u001b[0;34m(\u001b[0m\u001b[0mkey\u001b[0m\u001b[0;34m,\u001b[0m \u001b[0mvalue\u001b[0m\u001b[0;34m)\u001b[0m\u001b[0;34m\u001b[0m\u001b[0;34m\u001b[0m\u001b[0m\n\u001b[1;32m   3599\u001b[0m         \u001b[0;32melif\u001b[0m \u001b[0misinstance\u001b[0m\u001b[0;34m(\u001b[0m\u001b[0mkey\u001b[0m\u001b[0;34m,\u001b[0m \u001b[0;34m(\u001b[0m\u001b[0mSeries\u001b[0m\u001b[0;34m,\u001b[0m \u001b[0mnp\u001b[0m\u001b[0;34m.\u001b[0m\u001b[0mndarray\u001b[0m\u001b[0;34m,\u001b[0m \u001b[0mlist\u001b[0m\u001b[0;34m,\u001b[0m \u001b[0mIndex\u001b[0m\u001b[0;34m)\u001b[0m\u001b[0;34m)\u001b[0m\u001b[0;34m:\u001b[0m\u001b[0;34m\u001b[0m\u001b[0;34m\u001b[0m\u001b[0m\n\u001b[0;32m-> 3600\u001b[0;31m             \u001b[0mself\u001b[0m\u001b[0;34m.\u001b[0m\u001b[0m_setitem_array\u001b[0m\u001b[0;34m(\u001b[0m\u001b[0mkey\u001b[0m\u001b[0;34m,\u001b[0m \u001b[0mvalue\u001b[0m\u001b[0;34m)\u001b[0m\u001b[0;34m\u001b[0m\u001b[0;34m\u001b[0m\u001b[0m\n\u001b[0m\u001b[1;32m   3601\u001b[0m         \u001b[0;32melif\u001b[0m \u001b[0misinstance\u001b[0m\u001b[0;34m(\u001b[0m\u001b[0mvalue\u001b[0m\u001b[0;34m,\u001b[0m \u001b[0mDataFrame\u001b[0m\u001b[0;34m)\u001b[0m\u001b[0;34m:\u001b[0m\u001b[0;34m\u001b[0m\u001b[0;34m\u001b[0m\u001b[0m\n\u001b[1;32m   3602\u001b[0m             \u001b[0mself\u001b[0m\u001b[0;34m.\u001b[0m\u001b[0m_set_item_frame_value\u001b[0m\u001b[0;34m(\u001b[0m\u001b[0mkey\u001b[0m\u001b[0;34m,\u001b[0m \u001b[0mvalue\u001b[0m\u001b[0;34m)\u001b[0m\u001b[0;34m\u001b[0m\u001b[0;34m\u001b[0m\u001b[0m\n",
            "\u001b[0;32m/usr/local/lib/python3.7/dist-packages/pandas/core/frame.py\u001b[0m in \u001b[0;36m_setitem_array\u001b[0;34m(self, key, value)\u001b[0m\n\u001b[1;32m   3646\u001b[0m \u001b[0;34m\u001b[0m\u001b[0m\n\u001b[1;32m   3647\u001b[0m             \u001b[0;32melif\u001b[0m \u001b[0misinstance\u001b[0m\u001b[0;34m(\u001b[0m\u001b[0mvalue\u001b[0m\u001b[0;34m,\u001b[0m \u001b[0mnp\u001b[0m\u001b[0;34m.\u001b[0m\u001b[0mndarray\u001b[0m\u001b[0;34m)\u001b[0m \u001b[0;32mand\u001b[0m \u001b[0mvalue\u001b[0m\u001b[0;34m.\u001b[0m\u001b[0mndim\u001b[0m \u001b[0;34m==\u001b[0m \u001b[0;36m2\u001b[0m\u001b[0;34m:\u001b[0m\u001b[0;34m\u001b[0m\u001b[0;34m\u001b[0m\u001b[0m\n\u001b[0;32m-> 3648\u001b[0;31m                 \u001b[0mself\u001b[0m\u001b[0;34m.\u001b[0m\u001b[0m_iset_not_inplace\u001b[0m\u001b[0;34m(\u001b[0m\u001b[0mkey\u001b[0m\u001b[0;34m,\u001b[0m \u001b[0mvalue\u001b[0m\u001b[0;34m)\u001b[0m\u001b[0;34m\u001b[0m\u001b[0;34m\u001b[0m\u001b[0m\n\u001b[0m\u001b[1;32m   3649\u001b[0m \u001b[0;34m\u001b[0m\u001b[0m\n\u001b[1;32m   3650\u001b[0m             \u001b[0;32melif\u001b[0m \u001b[0mnp\u001b[0m\u001b[0;34m.\u001b[0m\u001b[0mndim\u001b[0m\u001b[0;34m(\u001b[0m\u001b[0mvalue\u001b[0m\u001b[0;34m)\u001b[0m \u001b[0;34m>\u001b[0m \u001b[0;36m1\u001b[0m\u001b[0;34m:\u001b[0m\u001b[0;34m\u001b[0m\u001b[0;34m\u001b[0m\u001b[0m\n",
            "\u001b[0;32m/usr/local/lib/python3.7/dist-packages/pandas/core/frame.py\u001b[0m in \u001b[0;36m_iset_not_inplace\u001b[0;34m(self, key, value)\u001b[0m\n\u001b[1;32m   3686\u001b[0m \u001b[0;34m\u001b[0m\u001b[0m\n\u001b[1;32m   3687\u001b[0m             \u001b[0;32mif\u001b[0m \u001b[0mnp\u001b[0m\u001b[0;34m.\u001b[0m\u001b[0mshape\u001b[0m\u001b[0;34m(\u001b[0m\u001b[0mvalue\u001b[0m\u001b[0;34m)\u001b[0m\u001b[0;34m[\u001b[0m\u001b[0;34m-\u001b[0m\u001b[0;36m1\u001b[0m\u001b[0;34m]\u001b[0m \u001b[0;34m!=\u001b[0m \u001b[0mlen\u001b[0m\u001b[0;34m(\u001b[0m\u001b[0milocs\u001b[0m\u001b[0;34m)\u001b[0m\u001b[0;34m:\u001b[0m\u001b[0;34m\u001b[0m\u001b[0;34m\u001b[0m\u001b[0m\n\u001b[0;32m-> 3688\u001b[0;31m                 \u001b[0;32mraise\u001b[0m \u001b[0mValueError\u001b[0m\u001b[0;34m(\u001b[0m\u001b[0;34m\"Columns must be same length as key\"\u001b[0m\u001b[0;34m)\u001b[0m\u001b[0;34m\u001b[0m\u001b[0;34m\u001b[0m\u001b[0m\n\u001b[0m\u001b[1;32m   3689\u001b[0m \u001b[0;34m\u001b[0m\u001b[0m\n\u001b[1;32m   3690\u001b[0m             \u001b[0;32massert\u001b[0m \u001b[0mnp\u001b[0m\u001b[0;34m.\u001b[0m\u001b[0mndim\u001b[0m\u001b[0;34m(\u001b[0m\u001b[0mvalue\u001b[0m\u001b[0;34m)\u001b[0m \u001b[0;34m<=\u001b[0m \u001b[0;36m2\u001b[0m\u001b[0;34m\u001b[0m\u001b[0;34m\u001b[0m\u001b[0m\n",
            "\u001b[0;31mValueError\u001b[0m: Columns must be same length as key"
          ]
        }
      ]
    },
    {
      "cell_type": "code",
      "source": [
        "/content/test_data_agrifield.csv"
      ],
      "metadata": {
        "id": "DKIOif38n_xo"
      },
      "id": "DKIOif38n_xo",
      "execution_count": null,
      "outputs": []
    },
    {
      "cell_type": "markdown",
      "source": [
        "###Losss and accuracy"
      ],
      "metadata": {
        "id": "-t75DQ4kTtwz"
      },
      "id": "-t75DQ4kTtwz"
    },
    {
      "cell_type": "code",
      "source": [
        "loss, accuracy = model.evaluate(test_ds)\n",
        "print(\"cross entropy\", accuracy)"
      ],
      "metadata": {
        "colab": {
          "base_uri": "https://localhost:8080/"
        },
        "id": "He9xvngqTz6T",
        "outputId": "d898f522-fe44-48f0-912f-13ce403e17b0"
      },
      "id": "He9xvngqTz6T",
      "execution_count": 87,
      "outputs": [
        {
          "output_type": "stream",
          "name": "stdout",
          "text": [
            "44/44 [==============================] - 0s 1ms/step - loss: 1.0274 - sparse_categorical_crossentropy: 1.0274\n",
            "cross entropy 1.0273675918579102\n"
          ]
        }
      ]
    },
    {
      "cell_type": "markdown",
      "source": [
        "#Cross validation"
      ],
      "metadata": {
        "id": "CGHs1GgsT372"
      },
      "id": "CGHs1GgsT372"
    },
    {
      "cell_type": "markdown",
      "source": [],
      "metadata": {
        "id": "zdxD4qPATilG"
      },
      "id": "zdxD4qPATilG"
    },
    {
      "cell_type": "markdown",
      "source": [
        "##function to show cross entropy result"
      ],
      "metadata": {
        "id": "8SALwW8hT-It"
      },
      "id": "8SALwW8hT-It"
    },
    {
      "cell_type": "code",
      "source": [
        "def show_cross():\n",
        "\n",
        "  #Random Forest\n",
        "  cross_loss = log_loss(y_test,y_pred_proba_rf)\n",
        "  print('The random forest has a cross lost of :',cross_loss)\n",
        "\n",
        "  #support vector machine\n",
        "  cross_loss_svm = log_loss(y_test,y_pred_proba_svm)\n",
        "  print('The support vector machine has a cross lost of :',cross_loss_svm)\n",
        "\n",
        "  #K-nearest Neighbors\n",
        "  cross_loss_knn = log_loss(y_test,y_pred_proba_knn)\n",
        "  print('The k nearest neighborhs has a cross lost of ',cross_loss_knn)\n",
        "\n",
        "  #x gboost\n",
        "  cross_loss_xgb = log_loss(y_test,y_pred_proba_xgb)\n",
        "  print('The Xgboost model has a cross lost of ',cross_loss_xgb)\n",
        "\n",
        "  #Naives Bayes\n",
        "  cross_loss_NB = log_loss(y_test,y_pred_proba_NB)\n",
        "  print('The Naives Bayes has a cross lost of ',cross_loss_NB)\n",
        "\n",
        "\n",
        "show_cross()\n"
      ],
      "metadata": {
        "colab": {
          "base_uri": "https://localhost:8080/"
        },
        "id": "Qm7NhBcxT8QC",
        "outputId": "d28faaa8-03f3-416b-b083-4c3c995c1c80"
      },
      "id": "Qm7NhBcxT8QC",
      "execution_count": 59,
      "outputs": [
        {
          "output_type": "stream",
          "name": "stdout",
          "text": [
            "The random forest has a cross lost of : 1.053847102283575\n",
            "The support vector machine has a cross lost of : 1.088537080160628\n",
            "The k nearest neighborhs has a cross lost of  4.575014718123374\n",
            "The Xgboost model has a cross lost of  1.0470755177117905\n",
            "The Naives Bayes has a cross lost of  1.0470755177117905\n"
          ]
        }
      ]
    },
    {
      "cell_type": "markdown",
      "source": [
        "##Random forest"
      ],
      "metadata": {
        "id": "QpoG7_1phKUT"
      },
      "id": "QpoG7_1phKUT"
    },
    {
      "cell_type": "code",
      "source": [
        "scores = cross_val_score(rf, X_train, y_train,scoring=\"neg_log_loss\", cv=10)\n",
        "print(-scores)\n",
        "classes = rf.classes_\n",
        "\n",
        "def display_scores(scores):\n",
        "\n",
        "  print(\"Scores:\", scores)\n",
        "  \n",
        "  print(\"Mean:\", scores.mean())\n",
        "  \n",
        "  print(\"Standard deviation:\", scores.std())\n",
        "\n",
        "display_scores(scores)\n",
        "\n"
      ],
      "metadata": {
        "colab": {
          "base_uri": "https://localhost:8080/"
        },
        "id": "157nFGdkgIpF",
        "outputId": "9bb62767-ab3f-4509-c994-ccbfcb6d8195"
      },
      "id": "157nFGdkgIpF",
      "execution_count": 60,
      "outputs": [
        {
          "output_type": "stream",
          "name": "stdout",
          "text": [
            "[1.09975961 1.11983914 1.02374394 1.12272962 1.0994881  1.15501891\n",
            " 1.04672261 1.19150153 1.08890665 1.01302916]\n",
            "Scores: [-1.09975961 -1.11983914 -1.02374394 -1.12272962 -1.0994881  -1.15501891\n",
            " -1.04672261 -1.19150153 -1.08890665 -1.01302916]\n",
            "Mean: -1.096073927291202\n",
            "Standard deviation: 0.05338208628112857\n"
          ]
        }
      ]
    },
    {
      "cell_type": "code",
      "execution_count": 60,
      "id": "38a69a0a",
      "metadata": {
        "id": "38a69a0a"
      },
      "outputs": [],
      "source": []
    },
    {
      "cell_type": "markdown",
      "source": [
        "#Fine Tuning our models"
      ],
      "metadata": {
        "id": "UFmAeU-ki1I0"
      },
      "id": "UFmAeU-ki1I0"
    },
    {
      "cell_type": "code",
      "source": [],
      "metadata": {
        "id": "zknGtsVWjaYy"
      },
      "id": "zknGtsVWjaYy",
      "execution_count": null,
      "outputs": []
    },
    {
      "cell_type": "markdown",
      "source": [
        "##Grisearch"
      ],
      "metadata": {
        "id": "zLSSDEHxja6Z"
      },
      "id": "zLSSDEHxja6Z"
    },
    {
      "cell_type": "code",
      "source": [
        "\n",
        "param_grid = [\n",
        "{'n_estimators': [100, 125, 150,175,200,225,250,275,300,325,350,375,400],  'oob_score' : [True,False],'max_features': [2, 4, 6, 8]},\n",
        "{'bootstrap': [False], 'n_estimators': [3, 10], 'max_features':['auto'],'random_state ':[10,20,30,50,60,70,80,90,100]},\n",
        "]\n",
        "\n",
        "grid_search = GridSearchCV(rf, param_grid, cv=10,scoring='neg_log_loss',return_train_score=True)\n",
        "grid_search.fit(X_train, y_train)"
      ],
      "metadata": {
        "id": "YNt4sl32i37o"
      },
      "id": "YNt4sl32i37o",
      "execution_count": null,
      "outputs": []
    },
    {
      "cell_type": "code",
      "source": [],
      "metadata": {
        "id": "uYvsloYvktKT"
      },
      "id": "uYvsloYvktKT",
      "execution_count": null,
      "outputs": []
    }
  ],
  "metadata": {
    "kernelspec": {
      "display_name": "Python 3 (ipykernel)",
      "language": "python",
      "name": "python3"
    },
    "language_info": {
      "codemirror_mode": {
        "name": "ipython",
        "version": 3
      },
      "file_extension": ".py",
      "mimetype": "text/x-python",
      "name": "python",
      "nbconvert_exporter": "python",
      "pygments_lexer": "ipython3",
      "version": "3.9.2"
    },
    "colab": {
      "provenance": [],
      "collapsed_sections": [],
      "include_colab_link": true
    }
  },
  "nbformat": 4,
  "nbformat_minor": 5
}